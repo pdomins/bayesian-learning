{
  "nbformat": 4,
  "nbformat_minor": 0,
  "metadata": {
    "colab": {
      "provenance": []
    },
    "kernelspec": {
      "name": "python3",
      "display_name": "Python 3"
    },
    "language_info": {
      "name": "python"
    }
  },
  "cells": [
    {
      "cell_type": "markdown",
      "source": [
        "# Clasificador Naive Bayes de noticias argentinas"
      ],
      "metadata": {
        "id": "fAjVxSbp-YsE"
      }
    },
    {
      "cell_type": "markdown",
      "source": [
        "<a target=\"_blank\" href=\"https://colab.research.google.com/github/pdomins/bayesian-learning/blob/master/ej2_bayes_news.ipynb\">\n",
        "  <img src=\"https://colab.research.google.com/assets/colab-badge.svg\" alt=\"Open In Colab\"/>\n",
        "</a>"
      ],
      "metadata": {
        "id": "-PP1tQgGbXYZ"
      }
    },
    {
      "cell_type": "markdown",
      "source": [
        "El objetivo de este ejercicio es implementar un clasificador de texto utilizando el **clasificador ingenuo de Bayes** sobre el\n",
        "conjunto de datos *”Noticias Argentinas”* para clasificar cada noticia según su tipo."
      ],
      "metadata": {
        "id": "Exi3zUTTOjeO"
      }
    },
    {
      "cell_type": "markdown",
      "source": [
        "Librerías utilizadas:"
      ],
      "metadata": {
        "id": "HzcDtfWs-k-r"
      }
    },
    {
      "cell_type": "code",
      "execution_count": 1,
      "metadata": {
        "id": "CBJtDroUVQfh"
      },
      "outputs": [],
      "source": [
        "import pandas as pd\n",
        "import numpy as np\n",
        "import math\n",
        "import nltk   # fow stopwords\n",
        "import spacy  # for lemmatizer\n",
        "\n",
        "from nltk.corpus import stopwords"
      ]
    },
    {
      "cell_type": "markdown",
      "source": [
        "## Análisis del dataset"
      ],
      "metadata": {
        "id": "0c2pgfET-eGO"
      }
    },
    {
      "cell_type": "markdown",
      "source": [
        "En principio contamos con 164690 tuplas:"
      ],
      "metadata": {
        "id": "l2nGoBuY_XIs"
      }
    },
    {
      "cell_type": "code",
      "source": [
        "df = pd.read_excel(\"Noticias_argentinas_clean.xlsx\")\n",
        "df"
      ],
      "metadata": {
        "colab": {
          "base_uri": "https://localhost:8080/",
          "height": 423
        },
        "id": "Pp3MXdG8vCZe",
        "outputId": "5b38bcc4-bdb6-414d-9cb7-ae1362209547"
      },
      "execution_count": 2,
      "outputs": [
        {
          "output_type": "execute_result",
          "data": {
            "text/plain": [
              "                     fecha                                            titular  \\\n",
              "0      2018-12-13 15:49:06                                   Se van los Melli   \n",
              "1      2018-12-26 21:21:41                       Cantos racistas en el Calcio   \n",
              "2      2018-12-26 21:21:41                       Cantos racistas en el Calcio   \n",
              "3      2019-01-13 16:35:30                    Los que viajan a Uruguay son...   \n",
              "4      2019-01-13 16:35:30                    Los que viajan a Uruguay son...   \n",
              "...                    ...                                                ...   \n",
              "164685 2018-11-26 11:34:11  River Boca: el Gobierno nacional pide â€œinves...   \n",
              "164686 2018-11-26 11:34:11  River Boca: el Gobierno nacional pide â€œinves...   \n",
              "164687 2018-11-24 22:25:24  Se postergó San Lorenzo Huracán: el resto de l...   \n",
              "164688 2018-11-24 22:25:24  Se postergó San Lorenzo Huracán: el resto de l...   \n",
              "164689 2018-11-28 12:10:27  Talleres Racing, por la Superliga: formaciones...   \n",
              "\n",
              "       fuente            categoria  \n",
              "0         NaN  Noticias destacadas  \n",
              "1         NaN  Noticias destacadas  \n",
              "2         NaN  Noticias destacadas  \n",
              "3         NaN  Noticias destacadas  \n",
              "4         NaN  Noticias destacadas  \n",
              "...       ...                  ...  \n",
              "164685    NaN                  NaN  \n",
              "164686    NaN                  NaN  \n",
              "164687    NaN                  NaN  \n",
              "164688    NaN                  NaN  \n",
              "164689    NaN                  NaN  \n",
              "\n",
              "[164690 rows x 4 columns]"
            ],
            "text/html": [
              "\n",
              "  <div id=\"df-4e4c4b2b-5a37-4e0c-8f92-85b496801336\" class=\"colab-df-container\">\n",
              "    <div>\n",
              "<style scoped>\n",
              "    .dataframe tbody tr th:only-of-type {\n",
              "        vertical-align: middle;\n",
              "    }\n",
              "\n",
              "    .dataframe tbody tr th {\n",
              "        vertical-align: top;\n",
              "    }\n",
              "\n",
              "    .dataframe thead th {\n",
              "        text-align: right;\n",
              "    }\n",
              "</style>\n",
              "<table border=\"1\" class=\"dataframe\">\n",
              "  <thead>\n",
              "    <tr style=\"text-align: right;\">\n",
              "      <th></th>\n",
              "      <th>fecha</th>\n",
              "      <th>titular</th>\n",
              "      <th>fuente</th>\n",
              "      <th>categoria</th>\n",
              "    </tr>\n",
              "  </thead>\n",
              "  <tbody>\n",
              "    <tr>\n",
              "      <th>0</th>\n",
              "      <td>2018-12-13 15:49:06</td>\n",
              "      <td>Se van los Melli</td>\n",
              "      <td>NaN</td>\n",
              "      <td>Noticias destacadas</td>\n",
              "    </tr>\n",
              "    <tr>\n",
              "      <th>1</th>\n",
              "      <td>2018-12-26 21:21:41</td>\n",
              "      <td>Cantos racistas en el Calcio</td>\n",
              "      <td>NaN</td>\n",
              "      <td>Noticias destacadas</td>\n",
              "    </tr>\n",
              "    <tr>\n",
              "      <th>2</th>\n",
              "      <td>2018-12-26 21:21:41</td>\n",
              "      <td>Cantos racistas en el Calcio</td>\n",
              "      <td>NaN</td>\n",
              "      <td>Noticias destacadas</td>\n",
              "    </tr>\n",
              "    <tr>\n",
              "      <th>3</th>\n",
              "      <td>2019-01-13 16:35:30</td>\n",
              "      <td>Los que viajan a Uruguay son...</td>\n",
              "      <td>NaN</td>\n",
              "      <td>Noticias destacadas</td>\n",
              "    </tr>\n",
              "    <tr>\n",
              "      <th>4</th>\n",
              "      <td>2019-01-13 16:35:30</td>\n",
              "      <td>Los que viajan a Uruguay son...</td>\n",
              "      <td>NaN</td>\n",
              "      <td>Noticias destacadas</td>\n",
              "    </tr>\n",
              "    <tr>\n",
              "      <th>...</th>\n",
              "      <td>...</td>\n",
              "      <td>...</td>\n",
              "      <td>...</td>\n",
              "      <td>...</td>\n",
              "    </tr>\n",
              "    <tr>\n",
              "      <th>164685</th>\n",
              "      <td>2018-11-26 11:34:11</td>\n",
              "      <td>River Boca: el Gobierno nacional pide â€œinves...</td>\n",
              "      <td>NaN</td>\n",
              "      <td>NaN</td>\n",
              "    </tr>\n",
              "    <tr>\n",
              "      <th>164686</th>\n",
              "      <td>2018-11-26 11:34:11</td>\n",
              "      <td>River Boca: el Gobierno nacional pide â€œinves...</td>\n",
              "      <td>NaN</td>\n",
              "      <td>NaN</td>\n",
              "    </tr>\n",
              "    <tr>\n",
              "      <th>164687</th>\n",
              "      <td>2018-11-24 22:25:24</td>\n",
              "      <td>Se postergó San Lorenzo Huracán: el resto de l...</td>\n",
              "      <td>NaN</td>\n",
              "      <td>NaN</td>\n",
              "    </tr>\n",
              "    <tr>\n",
              "      <th>164688</th>\n",
              "      <td>2018-11-24 22:25:24</td>\n",
              "      <td>Se postergó San Lorenzo Huracán: el resto de l...</td>\n",
              "      <td>NaN</td>\n",
              "      <td>NaN</td>\n",
              "    </tr>\n",
              "    <tr>\n",
              "      <th>164689</th>\n",
              "      <td>2018-11-28 12:10:27</td>\n",
              "      <td>Talleres Racing, por la Superliga: formaciones...</td>\n",
              "      <td>NaN</td>\n",
              "      <td>NaN</td>\n",
              "    </tr>\n",
              "  </tbody>\n",
              "</table>\n",
              "<p>164690 rows × 4 columns</p>\n",
              "</div>\n",
              "    <div class=\"colab-df-buttons\">\n",
              "\n",
              "  <div class=\"colab-df-container\">\n",
              "    <button class=\"colab-df-convert\" onclick=\"convertToInteractive('df-4e4c4b2b-5a37-4e0c-8f92-85b496801336')\"\n",
              "            title=\"Convert this dataframe to an interactive table.\"\n",
              "            style=\"display:none;\">\n",
              "\n",
              "  <svg xmlns=\"http://www.w3.org/2000/svg\" height=\"24px\" viewBox=\"0 -960 960 960\">\n",
              "    <path d=\"M120-120v-720h720v720H120Zm60-500h600v-160H180v160Zm220 220h160v-160H400v160Zm0 220h160v-160H400v160ZM180-400h160v-160H180v160Zm440 0h160v-160H620v160ZM180-180h160v-160H180v160Zm440 0h160v-160H620v160Z\"/>\n",
              "  </svg>\n",
              "    </button>\n",
              "\n",
              "  <style>\n",
              "    .colab-df-container {\n",
              "      display:flex;\n",
              "      gap: 12px;\n",
              "    }\n",
              "\n",
              "    .colab-df-convert {\n",
              "      background-color: #E8F0FE;\n",
              "      border: none;\n",
              "      border-radius: 50%;\n",
              "      cursor: pointer;\n",
              "      display: none;\n",
              "      fill: #1967D2;\n",
              "      height: 32px;\n",
              "      padding: 0 0 0 0;\n",
              "      width: 32px;\n",
              "    }\n",
              "\n",
              "    .colab-df-convert:hover {\n",
              "      background-color: #E2EBFA;\n",
              "      box-shadow: 0px 1px 2px rgba(60, 64, 67, 0.3), 0px 1px 3px 1px rgba(60, 64, 67, 0.15);\n",
              "      fill: #174EA6;\n",
              "    }\n",
              "\n",
              "    .colab-df-buttons div {\n",
              "      margin-bottom: 4px;\n",
              "    }\n",
              "\n",
              "    [theme=dark] .colab-df-convert {\n",
              "      background-color: #3B4455;\n",
              "      fill: #D2E3FC;\n",
              "    }\n",
              "\n",
              "    [theme=dark] .colab-df-convert:hover {\n",
              "      background-color: #434B5C;\n",
              "      box-shadow: 0px 1px 3px 1px rgba(0, 0, 0, 0.15);\n",
              "      filter: drop-shadow(0px 1px 2px rgba(0, 0, 0, 0.3));\n",
              "      fill: #FFFFFF;\n",
              "    }\n",
              "  </style>\n",
              "\n",
              "    <script>\n",
              "      const buttonEl =\n",
              "        document.querySelector('#df-4e4c4b2b-5a37-4e0c-8f92-85b496801336 button.colab-df-convert');\n",
              "      buttonEl.style.display =\n",
              "        google.colab.kernel.accessAllowed ? 'block' : 'none';\n",
              "\n",
              "      async function convertToInteractive(key) {\n",
              "        const element = document.querySelector('#df-4e4c4b2b-5a37-4e0c-8f92-85b496801336');\n",
              "        const dataTable =\n",
              "          await google.colab.kernel.invokeFunction('convertToInteractive',\n",
              "                                                    [key], {});\n",
              "        if (!dataTable) return;\n",
              "\n",
              "        const docLinkHtml = 'Like what you see? Visit the ' +\n",
              "          '<a target=\"_blank\" href=https://colab.research.google.com/notebooks/data_table.ipynb>data table notebook</a>'\n",
              "          + ' to learn more about interactive tables.';\n",
              "        element.innerHTML = '';\n",
              "        dataTable['output_type'] = 'display_data';\n",
              "        await google.colab.output.renderOutput(dataTable, element);\n",
              "        const docLink = document.createElement('div');\n",
              "        docLink.innerHTML = docLinkHtml;\n",
              "        element.appendChild(docLink);\n",
              "      }\n",
              "    </script>\n",
              "  </div>\n",
              "\n",
              "\n",
              "<div id=\"df-2c3406fb-7d65-4477-9764-69f284adb025\">\n",
              "  <button class=\"colab-df-quickchart\" onclick=\"quickchart('df-2c3406fb-7d65-4477-9764-69f284adb025')\"\n",
              "            title=\"Suggest charts.\"\n",
              "            style=\"display:none;\">\n",
              "\n",
              "<svg xmlns=\"http://www.w3.org/2000/svg\" height=\"24px\"viewBox=\"0 0 24 24\"\n",
              "     width=\"24px\">\n",
              "    <g>\n",
              "        <path d=\"M19 3H5c-1.1 0-2 .9-2 2v14c0 1.1.9 2 2 2h14c1.1 0 2-.9 2-2V5c0-1.1-.9-2-2-2zM9 17H7v-7h2v7zm4 0h-2V7h2v10zm4 0h-2v-4h2v4z\"/>\n",
              "    </g>\n",
              "</svg>\n",
              "  </button>\n",
              "\n",
              "<style>\n",
              "  .colab-df-quickchart {\n",
              "    background-color: #E8F0FE;\n",
              "    border: none;\n",
              "    border-radius: 50%;\n",
              "    cursor: pointer;\n",
              "    display: none;\n",
              "    fill: #1967D2;\n",
              "    height: 32px;\n",
              "    padding: 0 0 0 0;\n",
              "    width: 32px;\n",
              "  }\n",
              "\n",
              "  .colab-df-quickchart:hover {\n",
              "    background-color: #E2EBFA;\n",
              "    box-shadow: 0px 1px 2px rgba(60, 64, 67, 0.3), 0px 1px 3px 1px rgba(60, 64, 67, 0.15);\n",
              "    fill: #174EA6;\n",
              "  }\n",
              "\n",
              "  [theme=dark] .colab-df-quickchart {\n",
              "    background-color: #3B4455;\n",
              "    fill: #D2E3FC;\n",
              "  }\n",
              "\n",
              "  [theme=dark] .colab-df-quickchart:hover {\n",
              "    background-color: #434B5C;\n",
              "    box-shadow: 0px 1px 3px 1px rgba(0, 0, 0, 0.15);\n",
              "    filter: drop-shadow(0px 1px 2px rgba(0, 0, 0, 0.3));\n",
              "    fill: #FFFFFF;\n",
              "  }\n",
              "</style>\n",
              "\n",
              "  <script>\n",
              "    async function quickchart(key) {\n",
              "      const charts = await google.colab.kernel.invokeFunction(\n",
              "          'suggestCharts', [key], {});\n",
              "    }\n",
              "    (() => {\n",
              "      let quickchartButtonEl =\n",
              "        document.querySelector('#df-2c3406fb-7d65-4477-9764-69f284adb025 button');\n",
              "      quickchartButtonEl.style.display =\n",
              "        google.colab.kernel.accessAllowed ? 'block' : 'none';\n",
              "    })();\n",
              "  </script>\n",
              "</div>\n",
              "    </div>\n",
              "  </div>\n"
            ]
          },
          "metadata": {},
          "execution_count": 2
        }
      ]
    },
    {
      "cell_type": "code",
      "source": [
        "df['fuente'].unique().shape"
      ],
      "metadata": {
        "colab": {
          "base_uri": "https://localhost:8080/"
        },
        "id": "7vl8x84lA6-B",
        "outputId": "ae9b6992-5ea9-4a67-cdc3-7739f7d08bba"
      },
      "execution_count": 3,
      "outputs": [
        {
          "output_type": "execute_result",
          "data": {
            "text/plain": [
              "(958,)"
            ]
          },
          "metadata": {},
          "execution_count": 3
        }
      ]
    },
    {
      "cell_type": "markdown",
      "source": [
        "Al enumerar las categorías nos encontramos con el valor NaN, indicando que hay tuplas sin especificar su categoría:"
      ],
      "metadata": {
        "id": "eimjuDt0_eU1"
      }
    },
    {
      "cell_type": "code",
      "source": [
        "df['categoria'].unique()"
      ],
      "metadata": {
        "colab": {
          "base_uri": "https://localhost:8080/"
        },
        "id": "aC_NyhA6B_8t",
        "outputId": "7ea6b658-3848-4dfd-fd2c-1d677b8d878d"
      },
      "execution_count": 4,
      "outputs": [
        {
          "output_type": "execute_result",
          "data": {
            "text/plain": [
              "array(['Noticias destacadas', 'Ciencia y Tecnologia', nan, 'Deportes',\n",
              "       'Entretenimiento', 'Destacadas', 'Actualidad', 'Crítica'],\n",
              "      dtype=object)"
            ]
          },
          "metadata": {},
          "execution_count": 4
        }
      ]
    },
    {
      "cell_type": "markdown",
      "source": [
        "Al contar los valores por cada una:"
      ],
      "metadata": {
        "id": "Mkhm04oB_z4o"
      }
    },
    {
      "cell_type": "code",
      "source": [
        "print(df.groupby('categoria')['titular'].count())"
      ],
      "metadata": {
        "colab": {
          "base_uri": "https://localhost:8080/"
        },
        "id": "gJTkTwY5AgqI",
        "outputId": "5613f88e-79bc-4d55-fb8a-6e08dba32458"
      },
      "execution_count": 5,
      "outputs": [
        {
          "output_type": "stream",
          "name": "stdout",
          "text": [
            "categoria\n",
            "Actualidad                   1\n",
            "Ciencia y Tecnologia      2966\n",
            "Crítica                      4\n",
            "Deportes                  2969\n",
            "Destacadas                2971\n",
            "Entretenimiento           2961\n",
            "Noticias destacadas     133864\n",
            "Name: titular, dtype: int64\n"
          ]
        }
      ]
    },
    {
      "cell_type": "markdown",
      "source": [
        "Además, al observar el dataset más arriba, podemos ver que existen tuplas que se encuentran repetidas. Teniendo esto en cuenta, contamos nuevamente las noticias:"
      ],
      "metadata": {
        "id": "zTunm_q86cd3"
      }
    },
    {
      "cell_type": "code",
      "source": [
        "print(df.groupby('categoria')['titular'].nunique())"
      ],
      "metadata": {
        "colab": {
          "base_uri": "https://localhost:8080/"
        },
        "id": "5BkP2SJuyHMG",
        "outputId": "fa81f3f3-379a-4970-f75a-7fb049f0b844"
      },
      "execution_count": 6,
      "outputs": [
        {
          "output_type": "stream",
          "name": "stdout",
          "text": [
            "categoria\n",
            "Actualidad                  1\n",
            "Ciencia y Tecnologia      710\n",
            "Crítica                     1\n",
            "Deportes                 1402\n",
            "Destacadas               1731\n",
            "Entretenimiento          1199\n",
            "Noticias destacadas     39491\n",
            "Name: titular, dtype: int64\n"
          ]
        }
      ]
    },
    {
      "cell_type": "markdown",
      "source": [
        "## División del conjunto de textos"
      ],
      "metadata": {
        "id": "Him6F9RrtO33"
      }
    },
    {
      "cell_type": "markdown",
      "source": [
        "Utilizamos el método K-Fold para futura cross-validation:"
      ],
      "metadata": {
        "id": "h53cafokuaAm"
      }
    },
    {
      "cell_type": "code",
      "source": [
        "def k_fold_split(df : pd.DataFrame, k : int) -> tuple[pd.DataFrame, pd.DataFrame]:\n",
        "    if (k < 2) : raise ValueError(\"k must be >= 2. The value of k was: {}\".format(k))\n",
        "    df         = df.copy()\n",
        "    df         = df.sample(frac=1)\n",
        "    df_size    = df.shape[0]\n",
        "    fold_times = math.ceil(df_size / k)\n",
        "    train_df   = pd.DataFrame(columns=df.columns)\n",
        "    test_df    = pd.DataFrame(columns=df.columns)\n",
        "    for i in range(fold_times):\n",
        "        curr_fold = df.iloc[i*k:(i+1)*k]\n",
        "        train_df  = pd.concat([train_df, curr_fold.iloc[0:k-1]])\n",
        "        test_df   = pd.concat([test_df,  curr_fold.iloc[k-1].to_frame().T]) \\\n",
        "                    if curr_fold.shape[0] >= k else test_df\n",
        "    return train_df, test_df"
      ],
      "metadata": {
        "id": "nXyLTPgDtkuU"
      },
      "execution_count": 7,
      "outputs": []
    },
    {
      "cell_type": "markdown",
      "source": [
        "Vamos a crear dos conjuntos, uno de entrenamiento y otro de testeo, por lo que nos queda:"
      ],
      "metadata": {
        "id": "Shnfelm7u1Pe"
      }
    },
    {
      "cell_type": "code",
      "source": [
        "k = 2"
      ],
      "metadata": {
        "id": "lyn-ihRfuGQB"
      },
      "execution_count": 8,
      "outputs": []
    },
    {
      "cell_type": "code",
      "source": [
        "test_size = df.shape[0] / k\n",
        "(test_size * (k-1), test_size)"
      ],
      "metadata": {
        "colab": {
          "base_uri": "https://localhost:8080/"
        },
        "id": "G6h7t0gFtwun",
        "outputId": "3787789b-3368-4103-910d-a28fc32610b3"
      },
      "execution_count": 9,
      "outputs": [
        {
          "output_type": "execute_result",
          "data": {
            "text/plain": [
              "(82345.0, 82345.0)"
            ]
          },
          "metadata": {},
          "execution_count": 9
        }
      ]
    },
    {
      "cell_type": "code",
      "source": [
        "train_df, test_df = k_fold_split(df, k)"
      ],
      "metadata": {
        "id": "CGEHOtikuLS9"
      },
      "execution_count": 10,
      "outputs": []
    },
    {
      "cell_type": "markdown",
      "source": [
        "## ❌ BORRAR SECCIÓN\n",
        "Achico train_df para que no me explote el notebook"
      ],
      "metadata": {
        "id": "pnc7ddQ00vKz"
      }
    },
    {
      "cell_type": "code",
      "source": [
        "original_train_df = train_df\n",
        "train_df = pd.DataFrame(train_df[:2500])"
      ],
      "metadata": {
        "id": "EvoAvPfn03pz"
      },
      "execution_count": 11,
      "outputs": []
    },
    {
      "cell_type": "markdown",
      "source": [
        "## Preprocesamiento de los datos"
      ],
      "metadata": {
        "id": "G5RfoY7v-Qer"
      }
    },
    {
      "cell_type": "markdown",
      "source": [
        "Vamos a expresar los títulos como un array conformado por sus palabras relevantes lematizadas:"
      ],
      "metadata": {
        "id": "fdGbZ0LkZM9F"
      }
    },
    {
      "cell_type": "code",
      "source": [
        "nltk.download('stopwords')\n",
        "stop_words = set(stopwords.words('spanish'))"
      ],
      "metadata": {
        "colab": {
          "base_uri": "https://localhost:8080/"
        },
        "id": "vPlQ9HN0nuxt",
        "outputId": "fe614780-36c9-441f-fadb-f0997e19ba6c"
      },
      "execution_count": 12,
      "outputs": [
        {
          "output_type": "stream",
          "name": "stderr",
          "text": [
            "[nltk_data] Downloading package stopwords to /root/nltk_data...\n",
            "[nltk_data]   Package stopwords is already up-to-date!\n"
          ]
        }
      ]
    },
    {
      "cell_type": "code",
      "source": [
        "%%capture\n",
        "!python -m spacy download es_core_news_md"
      ],
      "metadata": {
        "id": "Dx5Ca-KjUfpA"
      },
      "execution_count": 13,
      "outputs": []
    },
    {
      "cell_type": "code",
      "source": [
        "nlp = spacy.load(\"es_core_news_md\")"
      ],
      "metadata": {
        "id": "jIpTA_oKSoAm"
      },
      "execution_count": 14,
      "outputs": []
    },
    {
      "cell_type": "code",
      "source": [
        "def preprocess_text(title_string : str):\n",
        "\n",
        "  # removing unnecesary symbols and tokenization\n",
        "  title = nlp(title_string.strip('.,+-#:;¿?¡!\"\\''))\n",
        "\n",
        "  lemmas = []\n",
        "\n",
        "  for tok in title:\n",
        "    word = tok.lemma_.lower()\n",
        "    if word not in stop_words:\n",
        "      lemmas.append(word)\n",
        "\n",
        "  return lemmas"
      ],
      "metadata": {
        "id": "_7c3NAK5mQDZ"
      },
      "execution_count": 15,
      "outputs": []
    },
    {
      "cell_type": "code",
      "source": [
        "train_df['titular'] = train_df['titular'].apply(preprocess_text)\n",
        "train_df.head()"
      ],
      "metadata": {
        "colab": {
          "base_uri": "https://localhost:8080/",
          "height": 206
        },
        "id": "Vy_WXFzbFJi1",
        "outputId": "2c6edd1e-d1a3-4477-bf88-8edc66a9a343"
      },
      "execution_count": 16,
      "outputs": [
        {
          "output_type": "execute_result",
          "data": {
            "text/plain": [
              "                     fecha                                            titular  \\\n",
              "94106  2019-02-18 19:18:00  [eduardo, berizzo, ser, dt, paraguay, tener, c...   \n",
              "19231  2019-06-28 22:56:00  [mercado, optimista, :, junio, dólar, bajar, 5...   \n",
              "127757 2019-08-07 20:57:39  [recrudecer, conflicto, escrutinio, provisorio...   \n",
              "116055 2019-08-03 18:16:59  [facebook, querer, dejar, claro, servicio, ser...   \n",
              "42195  2019-05-29 17:58:00          [cómo, escuchar, audio, whatsapp, rápido]   \n",
              "\n",
              "                 fuente            categoria  \n",
              "94106         LA NACION  Noticias destacadas  \n",
              "19231            Clarín  Noticias destacadas  \n",
              "127757        Página 12  Noticias destacadas  \n",
              "116055  Misiones OnLine  Noticias destacadas  \n",
              "42195      Diario Veloz  Noticias destacadas  "
            ],
            "text/html": [
              "\n",
              "  <div id=\"df-74793203-25f3-407c-8781-4b7c1a302283\" class=\"colab-df-container\">\n",
              "    <div>\n",
              "<style scoped>\n",
              "    .dataframe tbody tr th:only-of-type {\n",
              "        vertical-align: middle;\n",
              "    }\n",
              "\n",
              "    .dataframe tbody tr th {\n",
              "        vertical-align: top;\n",
              "    }\n",
              "\n",
              "    .dataframe thead th {\n",
              "        text-align: right;\n",
              "    }\n",
              "</style>\n",
              "<table border=\"1\" class=\"dataframe\">\n",
              "  <thead>\n",
              "    <tr style=\"text-align: right;\">\n",
              "      <th></th>\n",
              "      <th>fecha</th>\n",
              "      <th>titular</th>\n",
              "      <th>fuente</th>\n",
              "      <th>categoria</th>\n",
              "    </tr>\n",
              "  </thead>\n",
              "  <tbody>\n",
              "    <tr>\n",
              "      <th>94106</th>\n",
              "      <td>2019-02-18 19:18:00</td>\n",
              "      <td>[eduardo, berizzo, ser, dt, paraguay, tener, c...</td>\n",
              "      <td>LA NACION</td>\n",
              "      <td>Noticias destacadas</td>\n",
              "    </tr>\n",
              "    <tr>\n",
              "      <th>19231</th>\n",
              "      <td>2019-06-28 22:56:00</td>\n",
              "      <td>[mercado, optimista, :, junio, dólar, bajar, 5...</td>\n",
              "      <td>Clarín</td>\n",
              "      <td>Noticias destacadas</td>\n",
              "    </tr>\n",
              "    <tr>\n",
              "      <th>127757</th>\n",
              "      <td>2019-08-07 20:57:39</td>\n",
              "      <td>[recrudecer, conflicto, escrutinio, provisorio...</td>\n",
              "      <td>Página 12</td>\n",
              "      <td>Noticias destacadas</td>\n",
              "    </tr>\n",
              "    <tr>\n",
              "      <th>116055</th>\n",
              "      <td>2019-08-03 18:16:59</td>\n",
              "      <td>[facebook, querer, dejar, claro, servicio, ser...</td>\n",
              "      <td>Misiones OnLine</td>\n",
              "      <td>Noticias destacadas</td>\n",
              "    </tr>\n",
              "    <tr>\n",
              "      <th>42195</th>\n",
              "      <td>2019-05-29 17:58:00</td>\n",
              "      <td>[cómo, escuchar, audio, whatsapp, rápido]</td>\n",
              "      <td>Diario Veloz</td>\n",
              "      <td>Noticias destacadas</td>\n",
              "    </tr>\n",
              "  </tbody>\n",
              "</table>\n",
              "</div>\n",
              "    <div class=\"colab-df-buttons\">\n",
              "\n",
              "  <div class=\"colab-df-container\">\n",
              "    <button class=\"colab-df-convert\" onclick=\"convertToInteractive('df-74793203-25f3-407c-8781-4b7c1a302283')\"\n",
              "            title=\"Convert this dataframe to an interactive table.\"\n",
              "            style=\"display:none;\">\n",
              "\n",
              "  <svg xmlns=\"http://www.w3.org/2000/svg\" height=\"24px\" viewBox=\"0 -960 960 960\">\n",
              "    <path d=\"M120-120v-720h720v720H120Zm60-500h600v-160H180v160Zm220 220h160v-160H400v160Zm0 220h160v-160H400v160ZM180-400h160v-160H180v160Zm440 0h160v-160H620v160ZM180-180h160v-160H180v160Zm440 0h160v-160H620v160Z\"/>\n",
              "  </svg>\n",
              "    </button>\n",
              "\n",
              "  <style>\n",
              "    .colab-df-container {\n",
              "      display:flex;\n",
              "      gap: 12px;\n",
              "    }\n",
              "\n",
              "    .colab-df-convert {\n",
              "      background-color: #E8F0FE;\n",
              "      border: none;\n",
              "      border-radius: 50%;\n",
              "      cursor: pointer;\n",
              "      display: none;\n",
              "      fill: #1967D2;\n",
              "      height: 32px;\n",
              "      padding: 0 0 0 0;\n",
              "      width: 32px;\n",
              "    }\n",
              "\n",
              "    .colab-df-convert:hover {\n",
              "      background-color: #E2EBFA;\n",
              "      box-shadow: 0px 1px 2px rgba(60, 64, 67, 0.3), 0px 1px 3px 1px rgba(60, 64, 67, 0.15);\n",
              "      fill: #174EA6;\n",
              "    }\n",
              "\n",
              "    .colab-df-buttons div {\n",
              "      margin-bottom: 4px;\n",
              "    }\n",
              "\n",
              "    [theme=dark] .colab-df-convert {\n",
              "      background-color: #3B4455;\n",
              "      fill: #D2E3FC;\n",
              "    }\n",
              "\n",
              "    [theme=dark] .colab-df-convert:hover {\n",
              "      background-color: #434B5C;\n",
              "      box-shadow: 0px 1px 3px 1px rgba(0, 0, 0, 0.15);\n",
              "      filter: drop-shadow(0px 1px 2px rgba(0, 0, 0, 0.3));\n",
              "      fill: #FFFFFF;\n",
              "    }\n",
              "  </style>\n",
              "\n",
              "    <script>\n",
              "      const buttonEl =\n",
              "        document.querySelector('#df-74793203-25f3-407c-8781-4b7c1a302283 button.colab-df-convert');\n",
              "      buttonEl.style.display =\n",
              "        google.colab.kernel.accessAllowed ? 'block' : 'none';\n",
              "\n",
              "      async function convertToInteractive(key) {\n",
              "        const element = document.querySelector('#df-74793203-25f3-407c-8781-4b7c1a302283');\n",
              "        const dataTable =\n",
              "          await google.colab.kernel.invokeFunction('convertToInteractive',\n",
              "                                                    [key], {});\n",
              "        if (!dataTable) return;\n",
              "\n",
              "        const docLinkHtml = 'Like what you see? Visit the ' +\n",
              "          '<a target=\"_blank\" href=https://colab.research.google.com/notebooks/data_table.ipynb>data table notebook</a>'\n",
              "          + ' to learn more about interactive tables.';\n",
              "        element.innerHTML = '';\n",
              "        dataTable['output_type'] = 'display_data';\n",
              "        await google.colab.output.renderOutput(dataTable, element);\n",
              "        const docLink = document.createElement('div');\n",
              "        docLink.innerHTML = docLinkHtml;\n",
              "        element.appendChild(docLink);\n",
              "      }\n",
              "    </script>\n",
              "  </div>\n",
              "\n",
              "\n",
              "<div id=\"df-c7720b36-5974-422a-820a-dd60828a574c\">\n",
              "  <button class=\"colab-df-quickchart\" onclick=\"quickchart('df-c7720b36-5974-422a-820a-dd60828a574c')\"\n",
              "            title=\"Suggest charts.\"\n",
              "            style=\"display:none;\">\n",
              "\n",
              "<svg xmlns=\"http://www.w3.org/2000/svg\" height=\"24px\"viewBox=\"0 0 24 24\"\n",
              "     width=\"24px\">\n",
              "    <g>\n",
              "        <path d=\"M19 3H5c-1.1 0-2 .9-2 2v14c0 1.1.9 2 2 2h14c1.1 0 2-.9 2-2V5c0-1.1-.9-2-2-2zM9 17H7v-7h2v7zm4 0h-2V7h2v10zm4 0h-2v-4h2v4z\"/>\n",
              "    </g>\n",
              "</svg>\n",
              "  </button>\n",
              "\n",
              "<style>\n",
              "  .colab-df-quickchart {\n",
              "    background-color: #E8F0FE;\n",
              "    border: none;\n",
              "    border-radius: 50%;\n",
              "    cursor: pointer;\n",
              "    display: none;\n",
              "    fill: #1967D2;\n",
              "    height: 32px;\n",
              "    padding: 0 0 0 0;\n",
              "    width: 32px;\n",
              "  }\n",
              "\n",
              "  .colab-df-quickchart:hover {\n",
              "    background-color: #E2EBFA;\n",
              "    box-shadow: 0px 1px 2px rgba(60, 64, 67, 0.3), 0px 1px 3px 1px rgba(60, 64, 67, 0.15);\n",
              "    fill: #174EA6;\n",
              "  }\n",
              "\n",
              "  [theme=dark] .colab-df-quickchart {\n",
              "    background-color: #3B4455;\n",
              "    fill: #D2E3FC;\n",
              "  }\n",
              "\n",
              "  [theme=dark] .colab-df-quickchart:hover {\n",
              "    background-color: #434B5C;\n",
              "    box-shadow: 0px 1px 3px 1px rgba(0, 0, 0, 0.15);\n",
              "    filter: drop-shadow(0px 1px 2px rgba(0, 0, 0, 0.3));\n",
              "    fill: #FFFFFF;\n",
              "  }\n",
              "</style>\n",
              "\n",
              "  <script>\n",
              "    async function quickchart(key) {\n",
              "      const charts = await google.colab.kernel.invokeFunction(\n",
              "          'suggestCharts', [key], {});\n",
              "    }\n",
              "    (() => {\n",
              "      let quickchartButtonEl =\n",
              "        document.querySelector('#df-c7720b36-5974-422a-820a-dd60828a574c button');\n",
              "      quickchartButtonEl.style.display =\n",
              "        google.colab.kernel.accessAllowed ? 'block' : 'none';\n",
              "    })();\n",
              "  </script>\n",
              "</div>\n",
              "    </div>\n",
              "  </div>\n"
            ]
          },
          "metadata": {},
          "execution_count": 16
        }
      ]
    },
    {
      "cell_type": "markdown",
      "source": [
        "## Armado de vocabulario"
      ],
      "metadata": {
        "id": "nQCxh-xMrNLX"
      }
    },
    {
      "cell_type": "markdown",
      "source": [
        "Para empezar creamos un diccionario con todas las palabras utilizadas en los titulares para cada categoría, evitando repetidos en cada set:"
      ],
      "metadata": {
        "id": "n4eQFxQQacr-"
      }
    },
    {
      "cell_type": "code",
      "source": [
        "categories = train_df.dropna(subset=['categoria'])['categoria'].unique()\n",
        "categories"
      ],
      "metadata": {
        "colab": {
          "base_uri": "https://localhost:8080/"
        },
        "id": "W_7NcVtZVDon",
        "outputId": "a9136a07-ac12-4756-c186-f63e301bc766"
      },
      "execution_count": 17,
      "outputs": [
        {
          "output_type": "execute_result",
          "data": {
            "text/plain": [
              "array(['Noticias destacadas', 'Deportes', 'Entretenimiento',\n",
              "       'Ciencia y Tecnologia', 'Destacadas'], dtype=object)"
            ]
          },
          "metadata": {},
          "execution_count": 17
        }
      ]
    },
    {
      "cell_type": "code",
      "source": [
        "vocab = {}\n",
        "\n",
        "for category in categories:\n",
        "\n",
        "  # set of words used in the current category\n",
        "  cat_vocab = set()\n",
        "\n",
        "  # subset of training data of the current category\n",
        "  cat_train_df = train_df[train_df['categoria'] == category]\n",
        "\n",
        "  for title in cat_train_df['titular']:\n",
        "    cat_vocab.update(title)\n",
        "\n",
        "  vocab[category] = list(cat_vocab)"
      ],
      "metadata": {
        "id": "JdBDC5qyRNn2"
      },
      "execution_count": 18,
      "outputs": []
    },
    {
      "cell_type": "markdown",
      "source": [
        "Por ejemplo, para deportes:"
      ],
      "metadata": {
        "id": "cNS_TBwfdq-L"
      }
    },
    {
      "cell_type": "code",
      "source": [
        "dep_idx = np.where(categories == 'Deportes')[0][0]\n",
        "vocab[categories[dep_idx]][:10]"
      ],
      "metadata": {
        "colab": {
          "base_uri": "https://localhost:8080/"
        },
        "id": "vKliz-sIX8cr",
        "outputId": "d76acf26-9d07-46ff-d661-23a698870347"
      },
      "execution_count": 19,
      "outputs": [
        {
          "output_type": "execute_result",
          "data": {
            "text/plain": [
              "['ordenar',\n",
              " 'kannemann',\n",
              " 'cada',\n",
              " 'previo',\n",
              " 'garantizar',\n",
              " 'parecer',\n",
              " '(',\n",
              " 'polémico',\n",
              " 'levantar',\n",
              " 'futbolista']"
            ]
          },
          "metadata": {},
          "execution_count": 19
        }
      ]
    },
    {
      "cell_type": "markdown",
      "source": [
        "## Cálculo de frecuencias"
      ],
      "metadata": {
        "id": "GswrDveSeiUE"
      }
    },
    {
      "cell_type": "markdown",
      "source": [
        "Iteramos los titulares dentro de cada categoría y calculamos la frecuencia de aparición de las palabras dentro de cada categoría:"
      ],
      "metadata": {
        "id": "LpdShFciuFIZ"
      }
    },
    {
      "cell_type": "code",
      "source": [
        "vocab_freq = {}\n",
        "laplace_vocab_freq = {}\n",
        "titles_by_cat = {}\n",
        "\n",
        "for cat_idx, category in enumerate(categories):\n",
        "\n",
        "  # all the words used the in current category\n",
        "  word_list = vocab[categories[cat_idx]]\n",
        "\n",
        "  # dict with the frequencies of every word in the current category\n",
        "  words_freq = { key: 0 for key in word_list }\n",
        "  words_laplace_freq = { key: 0 for key in word_list }\n",
        "\n",
        "  # training data subset of the current category\n",
        "  cat_train_df = train_df[train_df['categoria'] == category]\n",
        "\n",
        "  # amount of titles in the current category\n",
        "  cat_title_count = len(cat_train_df['titular'])\n",
        "  titles_by_cat[category] = cat_title_count\n",
        "\n",
        "  for word in word_list:\n",
        "    for title in cat_train_df['titular']:\n",
        "      if word in title:\n",
        "        words_freq[word] += (1 / cat_title_count)\n",
        "        words_laplace_freq[word] += (1 / (cat_title_count+len(categories)))\n",
        "    words_laplace_freq[word] += (1 / (cat_title_count+len(categories)))\n",
        "\n",
        "  vocab_freq[category] = words_freq\n",
        "  laplace_vocab_freq[category] = words_laplace_freq"
      ],
      "metadata": {
        "id": "BTqOhoyQaoq9"
      },
      "execution_count": 20,
      "outputs": []
    },
    {
      "cell_type": "markdown",
      "source": [
        "## Cálculo de probabilidades"
      ],
      "metadata": {
        "id": "PU5U3yzsj6CF"
      }
    },
    {
      "cell_type": "markdown",
      "source": [
        "Primero calculamos la probabilidad de que un titular pertenezca a cierta categoría:"
      ],
      "metadata": {
        "id": "ibh1KbtJkCKs"
      }
    },
    {
      "cell_type": "code",
      "source": [
        "title_count = sum(titles_by_cat.values())\n",
        "p_cat = { key: 0 for key in categories }\n",
        "\n",
        "for category in categories:\n",
        "  p_cat[category] = titles_by_cat[category] / title_count\n",
        "\n",
        "p_cat"
      ],
      "metadata": {
        "colab": {
          "base_uri": "https://localhost:8080/"
        },
        "id": "rmc7pkItpNZj",
        "outputId": "1bb9589a-70d2-41a9-b7b0-c9af49010b9c"
      },
      "execution_count": 21,
      "outputs": [
        {
          "output_type": "execute_result",
          "data": {
            "text/plain": [
              "{'Noticias destacadas': 0.9204136690647482,\n",
              " 'Deportes': 0.022482014388489208,\n",
              " 'Entretenimiento': 0.02158273381294964,\n",
              " 'Ciencia y Tecnologia': 0.017985611510791366,\n",
              " 'Destacadas': 0.01753597122302158}"
            ]
          },
          "metadata": {},
          "execution_count": 21
        }
      ]
    },
    {
      "cell_type": "code",
      "source": [
        "sum(p_cat.values())"
      ],
      "metadata": {
        "colab": {
          "base_uri": "https://localhost:8080/"
        },
        "id": "R2R3ZiZuwZCV",
        "outputId": "3d0b593a-6065-40fb-ecfe-2e9307b92d9c"
      },
      "execution_count": 22,
      "outputs": [
        {
          "output_type": "execute_result",
          "data": {
            "text/plain": [
              "0.9999999999999999"
            ]
          },
          "metadata": {},
          "execution_count": 22
        }
      ]
    },
    {
      "cell_type": "markdown",
      "source": [
        "Con esta información y con las frecuencias guardadas en la sección anterior podemos calcular **P(A|categoria)**, es decir, la probabilidad de ocurrencia de un conjunto de palabras dada cierta categoría:"
      ],
      "metadata": {
        "id": "lAGAsE5BkSuV"
      }
    },
    {
      "cell_type": "code",
      "source": [
        "def p_a_cat_laplace(conj_a : list, category : str):\n",
        "  prob = 1\n",
        "  words_freq = laplace_vocab_freq[category]\n",
        "  for word in conj_a:\n",
        "    freq = words_freq.get(word, 0)\n",
        "    if freq > 0:\n",
        "      prob *= freq\n",
        "    else:\n",
        "      prob *= (1 / (cat_title_count+len(categories)))\n",
        "  return prob"
      ],
      "metadata": {
        "id": "VNPimmG_LhHv"
      },
      "execution_count": 23,
      "outputs": []
    },
    {
      "cell_type": "code",
      "source": [
        "def p_a_cat(conj_a : list, category : str):\n",
        "  prob = 1\n",
        "  words_freq = vocab_freq[category]\n",
        "  for word in conj_a:\n",
        "    freq = words_freq.get(word, 0)\n",
        "    if freq > 0:\n",
        "      prob *= freq\n",
        "    else:\n",
        "      return p_a_cat_laplace(conj_a, category)\n",
        "  return prob"
      ],
      "metadata": {
        "id": "bciZnDagksGd"
      },
      "execution_count": 24,
      "outputs": []
    },
    {
      "cell_type": "markdown",
      "source": [
        "Luego obtenemos **P(A)**, la probabilidad de ocurrencia de un conjunto de palabras:"
      ],
      "metadata": {
        "id": "7-lL8kdH15DW"
      }
    },
    {
      "cell_type": "code",
      "source": [
        "def p_a(conj_a : list):\n",
        "  prob = 0\n",
        "  for category in categories:\n",
        "    prob += (p_a_cat(conj_a, category) * p_cat[category])\n",
        "  return prob"
      ],
      "metadata": {
        "id": "f90_6XJu14hL"
      },
      "execution_count": 25,
      "outputs": []
    },
    {
      "cell_type": "markdown",
      "source": [
        "Finalmente podemos calcular la probabilidad de que un titular pertenezca a cierta categoría dado su conjunto de palabras:"
      ],
      "metadata": {
        "id": "FJ0yMI_-xX66"
      }
    },
    {
      "cell_type": "code",
      "source": [
        "def p_cat_a(category : str, conj_a : list):\n",
        "  return p_a_cat(conj_a, category) * p_cat[category] / p_a(conj_a)"
      ],
      "metadata": {
        "id": "m5TXmnx343P4"
      },
      "execution_count": 26,
      "outputs": []
    },
    {
      "cell_type": "markdown",
      "source": [
        "## Naive Bayes"
      ],
      "metadata": {
        "id": "5IQYxgMR5jm1"
      }
    },
    {
      "cell_type": "markdown",
      "source": [
        "Ahora calculamos las probabilidades **P(categoria|A)** para cada categoría y nos quedamos con la de mayor valor:"
      ],
      "metadata": {
        "id": "WGu297RC5mnl"
      }
    },
    {
      "cell_type": "code",
      "source": [
        "def naive_bayes(conj_a : list, print_probs : bool = False):\n",
        "  p_cats_a = {}\n",
        "  for category in categories:\n",
        "    p_cats_a[category] = p_cat_a(category, conj_a)\n",
        "    if print_probs:\n",
        "      print(f\"P ( cat = '{category}' | {conj_a} ) = {p_cat_a(category, conj_a)}\")\n",
        "  return max(p_cats_a, key=lambda k: p_cats_a[k])"
      ],
      "metadata": {
        "id": "9m4Ir5o-FTiv"
      },
      "execution_count": 27,
      "outputs": []
    },
    {
      "cell_type": "code",
      "source": [
        "sample_word = vocab[categories[dep_idx]][0]\n",
        "selected_class = naive_bayes(conj_a=[sample_word], print_probs=True)\n",
        "print(f\"\\nSelected class: {selected_class}\")"
      ],
      "metadata": {
        "colab": {
          "base_uri": "https://localhost:8080/"
        },
        "id": "akIjEVIYGWQg",
        "outputId": "d30de8e5-9e38-4d01-d1ec-557e6a047890"
      },
      "execution_count": 28,
      "outputs": [
        {
          "output_type": "stream",
          "name": "stdout",
          "text": [
            "P ( cat = 'Noticias destacadas' | ['ordenar'] ) = 0.5072046109510087\n",
            "P ( cat = 'Deportes' | ['ordenar'] ) = 0.12680115273775217\n",
            "P ( cat = 'Entretenimiento' | ['ordenar'] ) = 0.138328530259366\n",
            "P ( cat = 'Ciencia y Tecnologia' | ['ordenar'] ) = 0.11527377521613834\n",
            "P ( cat = 'Destacadas' | ['ordenar'] ) = 0.11239193083573489\n",
            "\n",
            "Selected class: Noticias destacadas\n"
          ]
        }
      ]
    },
    {
      "cell_type": "markdown",
      "source": [
        "Próximamente:\n",
        "\n",
        "*   Actualizar función de k-fold\n",
        "*   Cross-validation con test_set"
      ],
      "metadata": {
        "id": "QviwaCLYG0xM"
      }
    }
  ]
}
