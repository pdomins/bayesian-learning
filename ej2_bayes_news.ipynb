{
  "nbformat": 4,
  "nbformat_minor": 0,
  "metadata": {
    "colab": {
      "provenance": []
    },
    "kernelspec": {
      "name": "python3",
      "display_name": "Python 3"
    },
    "language_info": {
      "name": "python"
    }
  },
  "cells": [
    {
      "cell_type": "markdown",
      "source": [
        "# Clasificador Naive Bayes de noticias argentinas"
      ],
      "metadata": {
        "id": "fAjVxSbp-YsE"
      }
    },
    {
      "cell_type": "markdown",
      "source": [
        "<a target=\"_blank\" href=\"https://colab.research.google.com/github/pdomins/bayesian-learning/blob/master/ej2_bayes_news.ipynb\">\n",
        "  <img src=\"https://colab.research.google.com/assets/colab-badge.svg\" alt=\"Open In Colab\"/>\n",
        "</a>"
      ],
      "metadata": {
        "id": "-PP1tQgGbXYZ"
      }
    },
    {
      "cell_type": "markdown",
      "source": [
        "El objetivo de este ejercicio es implementar un clasificador de texto utilizando el **clasificador ingenuo de Bayes** sobre el\n",
        "conjunto de datos *”Noticias Argentinas”* para clasificar cada noticia según su tipo."
      ],
      "metadata": {
        "id": "Exi3zUTTOjeO"
      }
    },
    {
      "cell_type": "markdown",
      "source": [
        "Librerías utilizadas:"
      ],
      "metadata": {
        "id": "HzcDtfWs-k-r"
      }
    },
    {
      "cell_type": "code",
      "execution_count": 1,
      "metadata": {
        "id": "CBJtDroUVQfh"
      },
      "outputs": [],
      "source": [
        "import pandas as pd\n",
        "import numpy as np\n",
        "import nltk\n",
        "import math\n",
        "\n",
        "from nltk.corpus import stopwords"
      ]
    },
    {
      "cell_type": "markdown",
      "source": [
        "## Análisis del dataset"
      ],
      "metadata": {
        "id": "0c2pgfET-eGO"
      }
    },
    {
      "cell_type": "markdown",
      "source": [
        "En principio contamos con 164690 tuplas:"
      ],
      "metadata": {
        "id": "l2nGoBuY_XIs"
      }
    },
    {
      "cell_type": "code",
      "source": [
        "df = pd.read_excel(\"Noticias_argentinas_clean.xlsx\")\n",
        "df"
      ],
      "metadata": {
        "colab": {
          "base_uri": "https://localhost:8080/",
          "height": 423
        },
        "id": "Pp3MXdG8vCZe",
        "outputId": "7d4f7a93-e007-4a77-c3b2-6319d438adf8"
      },
      "execution_count": 2,
      "outputs": [
        {
          "output_type": "execute_result",
          "data": {
            "text/plain": [
              "                     fecha                                            titular  \\\n",
              "0      2018-12-13 15:49:06                                   Se van los Melli   \n",
              "1      2018-12-26 21:21:41                       Cantos racistas en el Calcio   \n",
              "2      2018-12-26 21:21:41                       Cantos racistas en el Calcio   \n",
              "3      2019-01-13 16:35:30                    Los que viajan a Uruguay son...   \n",
              "4      2019-01-13 16:35:30                    Los que viajan a Uruguay son...   \n",
              "...                    ...                                                ...   \n",
              "164685 2018-11-26 11:34:11  River Boca: el Gobierno nacional pide â€œinves...   \n",
              "164686 2018-11-26 11:34:11  River Boca: el Gobierno nacional pide â€œinves...   \n",
              "164687 2018-11-24 22:25:24  Se postergó San Lorenzo Huracán: el resto de l...   \n",
              "164688 2018-11-24 22:25:24  Se postergó San Lorenzo Huracán: el resto de l...   \n",
              "164689 2018-11-28 12:10:27  Talleres Racing, por la Superliga: formaciones...   \n",
              "\n",
              "       fuente            categoria  \n",
              "0         NaN  Noticias destacadas  \n",
              "1         NaN  Noticias destacadas  \n",
              "2         NaN  Noticias destacadas  \n",
              "3         NaN  Noticias destacadas  \n",
              "4         NaN  Noticias destacadas  \n",
              "...       ...                  ...  \n",
              "164685    NaN                  NaN  \n",
              "164686    NaN                  NaN  \n",
              "164687    NaN                  NaN  \n",
              "164688    NaN                  NaN  \n",
              "164689    NaN                  NaN  \n",
              "\n",
              "[164690 rows x 4 columns]"
            ],
            "text/html": [
              "\n",
              "  <div id=\"df-e741c868-38d6-420a-9dbc-8cd6826cb731\" class=\"colab-df-container\">\n",
              "    <div>\n",
              "<style scoped>\n",
              "    .dataframe tbody tr th:only-of-type {\n",
              "        vertical-align: middle;\n",
              "    }\n",
              "\n",
              "    .dataframe tbody tr th {\n",
              "        vertical-align: top;\n",
              "    }\n",
              "\n",
              "    .dataframe thead th {\n",
              "        text-align: right;\n",
              "    }\n",
              "</style>\n",
              "<table border=\"1\" class=\"dataframe\">\n",
              "  <thead>\n",
              "    <tr style=\"text-align: right;\">\n",
              "      <th></th>\n",
              "      <th>fecha</th>\n",
              "      <th>titular</th>\n",
              "      <th>fuente</th>\n",
              "      <th>categoria</th>\n",
              "    </tr>\n",
              "  </thead>\n",
              "  <tbody>\n",
              "    <tr>\n",
              "      <th>0</th>\n",
              "      <td>2018-12-13 15:49:06</td>\n",
              "      <td>Se van los Melli</td>\n",
              "      <td>NaN</td>\n",
              "      <td>Noticias destacadas</td>\n",
              "    </tr>\n",
              "    <tr>\n",
              "      <th>1</th>\n",
              "      <td>2018-12-26 21:21:41</td>\n",
              "      <td>Cantos racistas en el Calcio</td>\n",
              "      <td>NaN</td>\n",
              "      <td>Noticias destacadas</td>\n",
              "    </tr>\n",
              "    <tr>\n",
              "      <th>2</th>\n",
              "      <td>2018-12-26 21:21:41</td>\n",
              "      <td>Cantos racistas en el Calcio</td>\n",
              "      <td>NaN</td>\n",
              "      <td>Noticias destacadas</td>\n",
              "    </tr>\n",
              "    <tr>\n",
              "      <th>3</th>\n",
              "      <td>2019-01-13 16:35:30</td>\n",
              "      <td>Los que viajan a Uruguay son...</td>\n",
              "      <td>NaN</td>\n",
              "      <td>Noticias destacadas</td>\n",
              "    </tr>\n",
              "    <tr>\n",
              "      <th>4</th>\n",
              "      <td>2019-01-13 16:35:30</td>\n",
              "      <td>Los que viajan a Uruguay son...</td>\n",
              "      <td>NaN</td>\n",
              "      <td>Noticias destacadas</td>\n",
              "    </tr>\n",
              "    <tr>\n",
              "      <th>...</th>\n",
              "      <td>...</td>\n",
              "      <td>...</td>\n",
              "      <td>...</td>\n",
              "      <td>...</td>\n",
              "    </tr>\n",
              "    <tr>\n",
              "      <th>164685</th>\n",
              "      <td>2018-11-26 11:34:11</td>\n",
              "      <td>River Boca: el Gobierno nacional pide â€œinves...</td>\n",
              "      <td>NaN</td>\n",
              "      <td>NaN</td>\n",
              "    </tr>\n",
              "    <tr>\n",
              "      <th>164686</th>\n",
              "      <td>2018-11-26 11:34:11</td>\n",
              "      <td>River Boca: el Gobierno nacional pide â€œinves...</td>\n",
              "      <td>NaN</td>\n",
              "      <td>NaN</td>\n",
              "    </tr>\n",
              "    <tr>\n",
              "      <th>164687</th>\n",
              "      <td>2018-11-24 22:25:24</td>\n",
              "      <td>Se postergó San Lorenzo Huracán: el resto de l...</td>\n",
              "      <td>NaN</td>\n",
              "      <td>NaN</td>\n",
              "    </tr>\n",
              "    <tr>\n",
              "      <th>164688</th>\n",
              "      <td>2018-11-24 22:25:24</td>\n",
              "      <td>Se postergó San Lorenzo Huracán: el resto de l...</td>\n",
              "      <td>NaN</td>\n",
              "      <td>NaN</td>\n",
              "    </tr>\n",
              "    <tr>\n",
              "      <th>164689</th>\n",
              "      <td>2018-11-28 12:10:27</td>\n",
              "      <td>Talleres Racing, por la Superliga: formaciones...</td>\n",
              "      <td>NaN</td>\n",
              "      <td>NaN</td>\n",
              "    </tr>\n",
              "  </tbody>\n",
              "</table>\n",
              "<p>164690 rows × 4 columns</p>\n",
              "</div>\n",
              "    <div class=\"colab-df-buttons\">\n",
              "\n",
              "  <div class=\"colab-df-container\">\n",
              "    <button class=\"colab-df-convert\" onclick=\"convertToInteractive('df-e741c868-38d6-420a-9dbc-8cd6826cb731')\"\n",
              "            title=\"Convert this dataframe to an interactive table.\"\n",
              "            style=\"display:none;\">\n",
              "\n",
              "  <svg xmlns=\"http://www.w3.org/2000/svg\" height=\"24px\" viewBox=\"0 -960 960 960\">\n",
              "    <path d=\"M120-120v-720h720v720H120Zm60-500h600v-160H180v160Zm220 220h160v-160H400v160Zm0 220h160v-160H400v160ZM180-400h160v-160H180v160Zm440 0h160v-160H620v160ZM180-180h160v-160H180v160Zm440 0h160v-160H620v160Z\"/>\n",
              "  </svg>\n",
              "    </button>\n",
              "\n",
              "  <style>\n",
              "    .colab-df-container {\n",
              "      display:flex;\n",
              "      gap: 12px;\n",
              "    }\n",
              "\n",
              "    .colab-df-convert {\n",
              "      background-color: #E8F0FE;\n",
              "      border: none;\n",
              "      border-radius: 50%;\n",
              "      cursor: pointer;\n",
              "      display: none;\n",
              "      fill: #1967D2;\n",
              "      height: 32px;\n",
              "      padding: 0 0 0 0;\n",
              "      width: 32px;\n",
              "    }\n",
              "\n",
              "    .colab-df-convert:hover {\n",
              "      background-color: #E2EBFA;\n",
              "      box-shadow: 0px 1px 2px rgba(60, 64, 67, 0.3), 0px 1px 3px 1px rgba(60, 64, 67, 0.15);\n",
              "      fill: #174EA6;\n",
              "    }\n",
              "\n",
              "    .colab-df-buttons div {\n",
              "      margin-bottom: 4px;\n",
              "    }\n",
              "\n",
              "    [theme=dark] .colab-df-convert {\n",
              "      background-color: #3B4455;\n",
              "      fill: #D2E3FC;\n",
              "    }\n",
              "\n",
              "    [theme=dark] .colab-df-convert:hover {\n",
              "      background-color: #434B5C;\n",
              "      box-shadow: 0px 1px 3px 1px rgba(0, 0, 0, 0.15);\n",
              "      filter: drop-shadow(0px 1px 2px rgba(0, 0, 0, 0.3));\n",
              "      fill: #FFFFFF;\n",
              "    }\n",
              "  </style>\n",
              "\n",
              "    <script>\n",
              "      const buttonEl =\n",
              "        document.querySelector('#df-e741c868-38d6-420a-9dbc-8cd6826cb731 button.colab-df-convert');\n",
              "      buttonEl.style.display =\n",
              "        google.colab.kernel.accessAllowed ? 'block' : 'none';\n",
              "\n",
              "      async function convertToInteractive(key) {\n",
              "        const element = document.querySelector('#df-e741c868-38d6-420a-9dbc-8cd6826cb731');\n",
              "        const dataTable =\n",
              "          await google.colab.kernel.invokeFunction('convertToInteractive',\n",
              "                                                    [key], {});\n",
              "        if (!dataTable) return;\n",
              "\n",
              "        const docLinkHtml = 'Like what you see? Visit the ' +\n",
              "          '<a target=\"_blank\" href=https://colab.research.google.com/notebooks/data_table.ipynb>data table notebook</a>'\n",
              "          + ' to learn more about interactive tables.';\n",
              "        element.innerHTML = '';\n",
              "        dataTable['output_type'] = 'display_data';\n",
              "        await google.colab.output.renderOutput(dataTable, element);\n",
              "        const docLink = document.createElement('div');\n",
              "        docLink.innerHTML = docLinkHtml;\n",
              "        element.appendChild(docLink);\n",
              "      }\n",
              "    </script>\n",
              "  </div>\n",
              "\n",
              "\n",
              "<div id=\"df-4d9941cf-5d8f-4f7b-9441-11bb03072773\">\n",
              "  <button class=\"colab-df-quickchart\" onclick=\"quickchart('df-4d9941cf-5d8f-4f7b-9441-11bb03072773')\"\n",
              "            title=\"Suggest charts.\"\n",
              "            style=\"display:none;\">\n",
              "\n",
              "<svg xmlns=\"http://www.w3.org/2000/svg\" height=\"24px\"viewBox=\"0 0 24 24\"\n",
              "     width=\"24px\">\n",
              "    <g>\n",
              "        <path d=\"M19 3H5c-1.1 0-2 .9-2 2v14c0 1.1.9 2 2 2h14c1.1 0 2-.9 2-2V5c0-1.1-.9-2-2-2zM9 17H7v-7h2v7zm4 0h-2V7h2v10zm4 0h-2v-4h2v4z\"/>\n",
              "    </g>\n",
              "</svg>\n",
              "  </button>\n",
              "\n",
              "<style>\n",
              "  .colab-df-quickchart {\n",
              "    background-color: #E8F0FE;\n",
              "    border: none;\n",
              "    border-radius: 50%;\n",
              "    cursor: pointer;\n",
              "    display: none;\n",
              "    fill: #1967D2;\n",
              "    height: 32px;\n",
              "    padding: 0 0 0 0;\n",
              "    width: 32px;\n",
              "  }\n",
              "\n",
              "  .colab-df-quickchart:hover {\n",
              "    background-color: #E2EBFA;\n",
              "    box-shadow: 0px 1px 2px rgba(60, 64, 67, 0.3), 0px 1px 3px 1px rgba(60, 64, 67, 0.15);\n",
              "    fill: #174EA6;\n",
              "  }\n",
              "\n",
              "  [theme=dark] .colab-df-quickchart {\n",
              "    background-color: #3B4455;\n",
              "    fill: #D2E3FC;\n",
              "  }\n",
              "\n",
              "  [theme=dark] .colab-df-quickchart:hover {\n",
              "    background-color: #434B5C;\n",
              "    box-shadow: 0px 1px 3px 1px rgba(0, 0, 0, 0.15);\n",
              "    filter: drop-shadow(0px 1px 2px rgba(0, 0, 0, 0.3));\n",
              "    fill: #FFFFFF;\n",
              "  }\n",
              "</style>\n",
              "\n",
              "  <script>\n",
              "    async function quickchart(key) {\n",
              "      const charts = await google.colab.kernel.invokeFunction(\n",
              "          'suggestCharts', [key], {});\n",
              "    }\n",
              "    (() => {\n",
              "      let quickchartButtonEl =\n",
              "        document.querySelector('#df-4d9941cf-5d8f-4f7b-9441-11bb03072773 button');\n",
              "      quickchartButtonEl.style.display =\n",
              "        google.colab.kernel.accessAllowed ? 'block' : 'none';\n",
              "    })();\n",
              "  </script>\n",
              "</div>\n",
              "    </div>\n",
              "  </div>\n"
            ]
          },
          "metadata": {},
          "execution_count": 2
        }
      ]
    },
    {
      "cell_type": "code",
      "source": [
        "df['fuente'].unique().shape"
      ],
      "metadata": {
        "colab": {
          "base_uri": "https://localhost:8080/"
        },
        "id": "7vl8x84lA6-B",
        "outputId": "67f2e0ea-15d5-4dca-ac82-290c48c50a77"
      },
      "execution_count": 3,
      "outputs": [
        {
          "output_type": "execute_result",
          "data": {
            "text/plain": [
              "(958,)"
            ]
          },
          "metadata": {},
          "execution_count": 3
        }
      ]
    },
    {
      "cell_type": "markdown",
      "source": [
        "Al enumerar las categorías nos encontramos con el valor NaN, indicando que hay tuplas sin especificar su categoría:"
      ],
      "metadata": {
        "id": "eimjuDt0_eU1"
      }
    },
    {
      "cell_type": "code",
      "source": [
        "df['categoria'].unique()"
      ],
      "metadata": {
        "colab": {
          "base_uri": "https://localhost:8080/"
        },
        "id": "uvPqmdosxmos",
        "outputId": "97897e7e-542e-4b8c-e811-83b68be61962"
      },
      "execution_count": 4,
      "outputs": [
        {
          "output_type": "execute_result",
          "data": {
            "text/plain": [
              "array(['Noticias destacadas', 'Ciencia y Tecnologia', nan, 'Deportes',\n",
              "       'Entretenimiento', 'Destacadas', 'Actualidad', 'Crítica'],\n",
              "      dtype=object)"
            ]
          },
          "metadata": {},
          "execution_count": 4
        }
      ]
    },
    {
      "cell_type": "markdown",
      "source": [
        "Al contar los valores por cada una (sin vacíos):"
      ],
      "metadata": {
        "id": "Mkhm04oB_z4o"
      }
    },
    {
      "cell_type": "code",
      "source": [
        "print(df.groupby('categoria')['titular'].count())"
      ],
      "metadata": {
        "colab": {
          "base_uri": "https://localhost:8080/"
        },
        "id": "gJTkTwY5AgqI",
        "outputId": "0e4b5a82-ffca-46ff-cb2f-70cfd37273cf"
      },
      "execution_count": 5,
      "outputs": [
        {
          "output_type": "stream",
          "name": "stdout",
          "text": [
            "categoria\n",
            "Actualidad                   1\n",
            "Ciencia y Tecnologia      2966\n",
            "Crítica                      4\n",
            "Deportes                  2969\n",
            "Destacadas                2971\n",
            "Entretenimiento           2961\n",
            "Noticias destacadas     133864\n",
            "Name: titular, dtype: int64\n"
          ]
        }
      ]
    },
    {
      "cell_type": "markdown",
      "source": [
        "Además, al observar el dataset más arriba, podemos ver que existen tuplas que se encuentran repetidas. Teniendo esto en cuenta, contamos nuevamente las noticias:"
      ],
      "metadata": {
        "id": "zTunm_q86cd3"
      }
    },
    {
      "cell_type": "code",
      "source": [
        "print(df.groupby('categoria')['titular'].nunique())"
      ],
      "metadata": {
        "colab": {
          "base_uri": "https://localhost:8080/"
        },
        "id": "5BkP2SJuyHMG",
        "outputId": "464341eb-9c8c-4ae0-d52c-e4c0103e6ab8"
      },
      "execution_count": 6,
      "outputs": [
        {
          "output_type": "stream",
          "name": "stdout",
          "text": [
            "categoria\n",
            "Actualidad                  1\n",
            "Ciencia y Tecnologia      710\n",
            "Crítica                     1\n",
            "Deportes                 1402\n",
            "Destacadas               1731\n",
            "Entretenimiento          1199\n",
            "Noticias destacadas     39491\n",
            "Name: titular, dtype: int64\n"
          ]
        }
      ]
    },
    {
      "cell_type": "markdown",
      "source": [
        "## División del conjunto de textos"
      ],
      "metadata": {
        "id": "Him6F9RrtO33"
      }
    },
    {
      "cell_type": "markdown",
      "source": [
        "Utilizamos el método K-Fold para futura cross-validation:"
      ],
      "metadata": {
        "id": "h53cafokuaAm"
      }
    },
    {
      "cell_type": "code",
      "source": [
        "def k_fold_split(df : pd.DataFrame, k : int) -> tuple[pd.DataFrame, pd.DataFrame]:\n",
        "    if (k < 2) : raise ValueError(\"k must be >= 2. The value of k was: {}\".format(k))\n",
        "    df         = df.copy()\n",
        "    df         = df.sample(frac=1)\n",
        "    df_size    = df.shape[0]\n",
        "    fold_times = math.ceil(df_size / k)\n",
        "    train_df   = pd.DataFrame(columns=df.columns)\n",
        "    test_df    = pd.DataFrame(columns=df.columns)\n",
        "    for i in range(fold_times):\n",
        "        curr_fold = df.iloc[i*k:(i+1)*k]\n",
        "        train_df  = pd.concat([train_df, curr_fold.iloc[0:k-1]])\n",
        "        test_df   = pd.concat([test_df,  curr_fold.iloc[k-1].to_frame().T]) \\\n",
        "                    if curr_fold.shape[0] >= k else test_df\n",
        "    return train_df, test_df"
      ],
      "metadata": {
        "id": "nXyLTPgDtkuU"
      },
      "execution_count": 7,
      "outputs": []
    },
    {
      "cell_type": "markdown",
      "source": [
        "Vamos a crear dos conjuntos, uno de entrenamiento y otro de testeo, por lo que nos queda:"
      ],
      "metadata": {
        "id": "Shnfelm7u1Pe"
      }
    },
    {
      "cell_type": "code",
      "source": [
        "k = 2"
      ],
      "metadata": {
        "id": "lyn-ihRfuGQB"
      },
      "execution_count": 8,
      "outputs": []
    },
    {
      "cell_type": "code",
      "source": [
        "test_size = df.shape[0] / k\n",
        "(test_size * (k-1), test_size)"
      ],
      "metadata": {
        "colab": {
          "base_uri": "https://localhost:8080/"
        },
        "id": "G6h7t0gFtwun",
        "outputId": "15a666d3-a877-4804-a46a-3bf3186bf6d1"
      },
      "execution_count": 9,
      "outputs": [
        {
          "output_type": "execute_result",
          "data": {
            "text/plain": [
              "(82345.0, 82345.0)"
            ]
          },
          "metadata": {},
          "execution_count": 9
        }
      ]
    },
    {
      "cell_type": "code",
      "source": [
        "train_df, test_df = k_fold_split(df, k)"
      ],
      "metadata": {
        "id": "CGEHOtikuLS9"
      },
      "execution_count": 10,
      "outputs": []
    },
    {
      "cell_type": "markdown",
      "source": [
        "## ❌ BORRAR SECCIÓN\n",
        "Achico train_df para que no me explote el notebook"
      ],
      "metadata": {
        "id": "pnc7ddQ00vKz"
      }
    },
    {
      "cell_type": "code",
      "source": [
        "original_train_df = train_df\n",
        "train_df = pd.DataFrame(train_df[:2500])"
      ],
      "metadata": {
        "id": "EvoAvPfn03pz"
      },
      "execution_count": 11,
      "outputs": []
    },
    {
      "cell_type": "markdown",
      "source": [
        "## Preprocesamiento de los datos"
      ],
      "metadata": {
        "id": "G5RfoY7v-Qer"
      }
    },
    {
      "cell_type": "markdown",
      "source": [
        "Vamos a expresar los títulos como un array conformado por sus palabras relevantes lematizadas:"
      ],
      "metadata": {
        "id": "fdGbZ0LkZM9F"
      }
    },
    {
      "cell_type": "code",
      "source": [
        "nltk.download('stopwords')\n",
        "stop_words = set(stopwords.words('spanish'))"
      ],
      "metadata": {
        "colab": {
          "base_uri": "https://localhost:8080/"
        },
        "id": "vPlQ9HN0nuxt",
        "outputId": "0ab46e32-36a0-44f9-df63-9b734f69b153"
      },
      "execution_count": 12,
      "outputs": [
        {
          "output_type": "stream",
          "name": "stderr",
          "text": [
            "[nltk_data] Downloading package stopwords to /root/nltk_data...\n",
            "[nltk_data]   Package stopwords is already up-to-date!\n"
          ]
        }
      ]
    },
    {
      "cell_type": "code",
      "source": [
        "%%capture\n",
        "!python -m spacy download es_core_news_md"
      ],
      "metadata": {
        "id": "Dx5Ca-KjUfpA"
      },
      "execution_count": 13,
      "outputs": []
    },
    {
      "cell_type": "code",
      "source": [
        "import spacy\n",
        "nlp = spacy.load(\"es_core_news_md\")"
      ],
      "metadata": {
        "id": "jIpTA_oKSoAm"
      },
      "execution_count": 14,
      "outputs": []
    },
    {
      "cell_type": "code",
      "source": [
        "def preprocess_text(title_string : str):\n",
        "\n",
        "  # removing unnecesary symbols and tokenization\n",
        "  title = nlp(title_string.strip('.,+-#:;¿?¡!\"\\''))\n",
        "\n",
        "  lemmas = []\n",
        "\n",
        "  for tok in title:\n",
        "    word = tok.lemma_.lower()\n",
        "    if word not in stop_words:\n",
        "      lemmas.append(word)\n",
        "\n",
        "  return lemmas"
      ],
      "metadata": {
        "id": "_7c3NAK5mQDZ"
      },
      "execution_count": 15,
      "outputs": []
    },
    {
      "cell_type": "code",
      "source": [
        "train_df['titular'] = train_df['titular'].apply(preprocess_text)\n",
        "train_df.head()"
      ],
      "metadata": {
        "colab": {
          "base_uri": "https://localhost:8080/",
          "height": 206
        },
        "id": "Vy_WXFzbFJi1",
        "outputId": "1246fca8-4c11-4e7a-ef6c-a205af30b778"
      },
      "execution_count": 16,
      "outputs": [
        {
          "output_type": "execute_result",
          "data": {
            "text/plain": [
              "                     fecha                                            titular  \\\n",
              "48491  2019-07-02 23:04:46  [empezar, conocer él, parte, letra, chico, acu...   \n",
              "28474  2019-05-17 23:42:00           [efecto, contagio, ser, clave, jaguares]   \n",
              "77377  2019-04-12 08:36:56  [arrancar, copa, superliga, :, formato, ,, cru...   \n",
              "130442 2019-01-19 10:28:58  [pasar, día, después, hallazgo, cuerpo, albert...   \n",
              "53418  2019-04-17 12:18:00  [famoso, mostrar, indignadísima, foto, \", súpe...   \n",
              "\n",
              "                       fuente            categoria  \n",
              "48491   El Cronista Comercial  Noticias destacadas  \n",
              "28474              Clarín.com  Noticias destacadas  \n",
              "77377             Infobae.com  Noticias destacadas  \n",
              "130442             Perfil.com  Noticias destacadas  \n",
              "53418        El Intransigente  Noticias destacadas  "
            ],
            "text/html": [
              "\n",
              "  <div id=\"df-ae06ef5a-7e31-40f6-bda9-a5e772fceacf\" class=\"colab-df-container\">\n",
              "    <div>\n",
              "<style scoped>\n",
              "    .dataframe tbody tr th:only-of-type {\n",
              "        vertical-align: middle;\n",
              "    }\n",
              "\n",
              "    .dataframe tbody tr th {\n",
              "        vertical-align: top;\n",
              "    }\n",
              "\n",
              "    .dataframe thead th {\n",
              "        text-align: right;\n",
              "    }\n",
              "</style>\n",
              "<table border=\"1\" class=\"dataframe\">\n",
              "  <thead>\n",
              "    <tr style=\"text-align: right;\">\n",
              "      <th></th>\n",
              "      <th>fecha</th>\n",
              "      <th>titular</th>\n",
              "      <th>fuente</th>\n",
              "      <th>categoria</th>\n",
              "    </tr>\n",
              "  </thead>\n",
              "  <tbody>\n",
              "    <tr>\n",
              "      <th>48491</th>\n",
              "      <td>2019-07-02 23:04:46</td>\n",
              "      <td>[empezar, conocer él, parte, letra, chico, acu...</td>\n",
              "      <td>El Cronista Comercial</td>\n",
              "      <td>Noticias destacadas</td>\n",
              "    </tr>\n",
              "    <tr>\n",
              "      <th>28474</th>\n",
              "      <td>2019-05-17 23:42:00</td>\n",
              "      <td>[efecto, contagio, ser, clave, jaguares]</td>\n",
              "      <td>Clarín.com</td>\n",
              "      <td>Noticias destacadas</td>\n",
              "    </tr>\n",
              "    <tr>\n",
              "      <th>77377</th>\n",
              "      <td>2019-04-12 08:36:56</td>\n",
              "      <td>[arrancar, copa, superliga, :, formato, ,, cru...</td>\n",
              "      <td>Infobae.com</td>\n",
              "      <td>Noticias destacadas</td>\n",
              "    </tr>\n",
              "    <tr>\n",
              "      <th>130442</th>\n",
              "      <td>2019-01-19 10:28:58</td>\n",
              "      <td>[pasar, día, después, hallazgo, cuerpo, albert...</td>\n",
              "      <td>Perfil.com</td>\n",
              "      <td>Noticias destacadas</td>\n",
              "    </tr>\n",
              "    <tr>\n",
              "      <th>53418</th>\n",
              "      <td>2019-04-17 12:18:00</td>\n",
              "      <td>[famoso, mostrar, indignadísima, foto, \", súpe...</td>\n",
              "      <td>El Intransigente</td>\n",
              "      <td>Noticias destacadas</td>\n",
              "    </tr>\n",
              "  </tbody>\n",
              "</table>\n",
              "</div>\n",
              "    <div class=\"colab-df-buttons\">\n",
              "\n",
              "  <div class=\"colab-df-container\">\n",
              "    <button class=\"colab-df-convert\" onclick=\"convertToInteractive('df-ae06ef5a-7e31-40f6-bda9-a5e772fceacf')\"\n",
              "            title=\"Convert this dataframe to an interactive table.\"\n",
              "            style=\"display:none;\">\n",
              "\n",
              "  <svg xmlns=\"http://www.w3.org/2000/svg\" height=\"24px\" viewBox=\"0 -960 960 960\">\n",
              "    <path d=\"M120-120v-720h720v720H120Zm60-500h600v-160H180v160Zm220 220h160v-160H400v160Zm0 220h160v-160H400v160ZM180-400h160v-160H180v160Zm440 0h160v-160H620v160ZM180-180h160v-160H180v160Zm440 0h160v-160H620v160Z\"/>\n",
              "  </svg>\n",
              "    </button>\n",
              "\n",
              "  <style>\n",
              "    .colab-df-container {\n",
              "      display:flex;\n",
              "      gap: 12px;\n",
              "    }\n",
              "\n",
              "    .colab-df-convert {\n",
              "      background-color: #E8F0FE;\n",
              "      border: none;\n",
              "      border-radius: 50%;\n",
              "      cursor: pointer;\n",
              "      display: none;\n",
              "      fill: #1967D2;\n",
              "      height: 32px;\n",
              "      padding: 0 0 0 0;\n",
              "      width: 32px;\n",
              "    }\n",
              "\n",
              "    .colab-df-convert:hover {\n",
              "      background-color: #E2EBFA;\n",
              "      box-shadow: 0px 1px 2px rgba(60, 64, 67, 0.3), 0px 1px 3px 1px rgba(60, 64, 67, 0.15);\n",
              "      fill: #174EA6;\n",
              "    }\n",
              "\n",
              "    .colab-df-buttons div {\n",
              "      margin-bottom: 4px;\n",
              "    }\n",
              "\n",
              "    [theme=dark] .colab-df-convert {\n",
              "      background-color: #3B4455;\n",
              "      fill: #D2E3FC;\n",
              "    }\n",
              "\n",
              "    [theme=dark] .colab-df-convert:hover {\n",
              "      background-color: #434B5C;\n",
              "      box-shadow: 0px 1px 3px 1px rgba(0, 0, 0, 0.15);\n",
              "      filter: drop-shadow(0px 1px 2px rgba(0, 0, 0, 0.3));\n",
              "      fill: #FFFFFF;\n",
              "    }\n",
              "  </style>\n",
              "\n",
              "    <script>\n",
              "      const buttonEl =\n",
              "        document.querySelector('#df-ae06ef5a-7e31-40f6-bda9-a5e772fceacf button.colab-df-convert');\n",
              "      buttonEl.style.display =\n",
              "        google.colab.kernel.accessAllowed ? 'block' : 'none';\n",
              "\n",
              "      async function convertToInteractive(key) {\n",
              "        const element = document.querySelector('#df-ae06ef5a-7e31-40f6-bda9-a5e772fceacf');\n",
              "        const dataTable =\n",
              "          await google.colab.kernel.invokeFunction('convertToInteractive',\n",
              "                                                    [key], {});\n",
              "        if (!dataTable) return;\n",
              "\n",
              "        const docLinkHtml = 'Like what you see? Visit the ' +\n",
              "          '<a target=\"_blank\" href=https://colab.research.google.com/notebooks/data_table.ipynb>data table notebook</a>'\n",
              "          + ' to learn more about interactive tables.';\n",
              "        element.innerHTML = '';\n",
              "        dataTable['output_type'] = 'display_data';\n",
              "        await google.colab.output.renderOutput(dataTable, element);\n",
              "        const docLink = document.createElement('div');\n",
              "        docLink.innerHTML = docLinkHtml;\n",
              "        element.appendChild(docLink);\n",
              "      }\n",
              "    </script>\n",
              "  </div>\n",
              "\n",
              "\n",
              "<div id=\"df-98306b05-2224-4579-8a42-b1ab1e1d3806\">\n",
              "  <button class=\"colab-df-quickchart\" onclick=\"quickchart('df-98306b05-2224-4579-8a42-b1ab1e1d3806')\"\n",
              "            title=\"Suggest charts.\"\n",
              "            style=\"display:none;\">\n",
              "\n",
              "<svg xmlns=\"http://www.w3.org/2000/svg\" height=\"24px\"viewBox=\"0 0 24 24\"\n",
              "     width=\"24px\">\n",
              "    <g>\n",
              "        <path d=\"M19 3H5c-1.1 0-2 .9-2 2v14c0 1.1.9 2 2 2h14c1.1 0 2-.9 2-2V5c0-1.1-.9-2-2-2zM9 17H7v-7h2v7zm4 0h-2V7h2v10zm4 0h-2v-4h2v4z\"/>\n",
              "    </g>\n",
              "</svg>\n",
              "  </button>\n",
              "\n",
              "<style>\n",
              "  .colab-df-quickchart {\n",
              "    background-color: #E8F0FE;\n",
              "    border: none;\n",
              "    border-radius: 50%;\n",
              "    cursor: pointer;\n",
              "    display: none;\n",
              "    fill: #1967D2;\n",
              "    height: 32px;\n",
              "    padding: 0 0 0 0;\n",
              "    width: 32px;\n",
              "  }\n",
              "\n",
              "  .colab-df-quickchart:hover {\n",
              "    background-color: #E2EBFA;\n",
              "    box-shadow: 0px 1px 2px rgba(60, 64, 67, 0.3), 0px 1px 3px 1px rgba(60, 64, 67, 0.15);\n",
              "    fill: #174EA6;\n",
              "  }\n",
              "\n",
              "  [theme=dark] .colab-df-quickchart {\n",
              "    background-color: #3B4455;\n",
              "    fill: #D2E3FC;\n",
              "  }\n",
              "\n",
              "  [theme=dark] .colab-df-quickchart:hover {\n",
              "    background-color: #434B5C;\n",
              "    box-shadow: 0px 1px 3px 1px rgba(0, 0, 0, 0.15);\n",
              "    filter: drop-shadow(0px 1px 2px rgba(0, 0, 0, 0.3));\n",
              "    fill: #FFFFFF;\n",
              "  }\n",
              "</style>\n",
              "\n",
              "  <script>\n",
              "    async function quickchart(key) {\n",
              "      const charts = await google.colab.kernel.invokeFunction(\n",
              "          'suggestCharts', [key], {});\n",
              "    }\n",
              "    (() => {\n",
              "      let quickchartButtonEl =\n",
              "        document.querySelector('#df-98306b05-2224-4579-8a42-b1ab1e1d3806 button');\n",
              "      quickchartButtonEl.style.display =\n",
              "        google.colab.kernel.accessAllowed ? 'block' : 'none';\n",
              "    })();\n",
              "  </script>\n",
              "</div>\n",
              "    </div>\n",
              "  </div>\n"
            ]
          },
          "metadata": {},
          "execution_count": 16
        }
      ]
    },
    {
      "cell_type": "markdown",
      "source": [
        "## Armado de vocabulario"
      ],
      "metadata": {
        "id": "nQCxh-xMrNLX"
      }
    },
    {
      "cell_type": "markdown",
      "source": [
        "Para empezar creamos un diccionario con todas las palabras utilizadas en los titulares para cada categoría, evitando repetidos en cada set:"
      ],
      "metadata": {
        "id": "n4eQFxQQacr-"
      }
    },
    {
      "cell_type": "code",
      "source": [
        "categories = train_df['categoria'].unique()\n",
        "categories"
      ],
      "metadata": {
        "colab": {
          "base_uri": "https://localhost:8080/"
        },
        "id": "W_7NcVtZVDon",
        "outputId": "923afccc-1baf-4fcd-8a53-58a41ddf7fbb"
      },
      "execution_count": 17,
      "outputs": [
        {
          "output_type": "execute_result",
          "data": {
            "text/plain": [
              "array(['Noticias destacadas', nan, 'Ciencia y Tecnologia', 'Deportes',\n",
              "       'Entretenimiento', 'Destacadas'], dtype=object)"
            ]
          },
          "metadata": {},
          "execution_count": 17
        }
      ]
    },
    {
      "cell_type": "code",
      "source": [
        "vocab = {}\n",
        "\n",
        "for category in categories:\n",
        "\n",
        "  # set of words used in the current category\n",
        "  cat_vocab = set()\n",
        "\n",
        "  # subset of training data of the current category\n",
        "  cat_train_df = train_df[train_df['categoria'] == category]\n",
        "\n",
        "  for title in cat_train_df['titular']:\n",
        "    cat_vocab.update(title)\n",
        "\n",
        "  vocab[category] = list(cat_vocab)"
      ],
      "metadata": {
        "id": "JdBDC5qyRNn2"
      },
      "execution_count": 18,
      "outputs": []
    },
    {
      "cell_type": "markdown",
      "source": [
        "Por ejemplo, para deportes:"
      ],
      "metadata": {
        "id": "cNS_TBwfdq-L"
      }
    },
    {
      "cell_type": "code",
      "source": [
        "dep_idx = np.where(categories == 'Deportes')[0][0]\n",
        "vocab[categories[dep_idx]][:10]"
      ],
      "metadata": {
        "colab": {
          "base_uri": "https://localhost:8080/"
        },
        "id": "vKliz-sIX8cr",
        "outputId": "40753d46-faeb-4060-ed22-09ee3d6336f6"
      },
      "execution_count": 19,
      "outputs": [
        {
          "output_type": "execute_result",
          "data": {
            "text/plain": [
              "['atlético',\n",
              " 'aldosivi',\n",
              " 'colón-belgrano',\n",
              " 'floresta',\n",
              " 'guardar',\n",
              " 'fassi',\n",
              " 'evitar',\n",
              " 'vivas',\n",
              " 'jugador',\n",
              " 'jugar']"
            ]
          },
          "metadata": {},
          "execution_count": 19
        }
      ]
    },
    {
      "cell_type": "markdown",
      "source": [
        "## Cálculo de frecuencias"
      ],
      "metadata": {
        "id": "GswrDveSeiUE"
      }
    },
    {
      "cell_type": "markdown",
      "source": [
        "Iteramos los titulares dentro de cada categoría y calculamos la frecuencia de aparición de las palabras dentro de cada categoría:"
      ],
      "metadata": {
        "id": "LpdShFciuFIZ"
      }
    },
    {
      "cell_type": "code",
      "source": [
        "vocab_freq = {}\n",
        "titles_by_cat = {}\n",
        "\n",
        "for cat_idx, category in enumerate(categories):\n",
        "\n",
        "  # all the words used the in current category\n",
        "  word_list = vocab[categories[cat_idx]]\n",
        "\n",
        "  # dict with the frequencies of every word in the current category\n",
        "  words_freq = { key: 0 for key in word_list }\n",
        "\n",
        "  # training data subset of the current category\n",
        "  cat_train_df = train_df[train_df['categoria'] == category]\n",
        "\n",
        "  # amount of titles in the current category\n",
        "  cat_title_count = len(cat_train_df['titular'])\n",
        "  titles_by_cat[category] = cat_title_count\n",
        "\n",
        "  for title in cat_train_df['titular']:\n",
        "    for word in word_list:\n",
        "      if word in title:\n",
        "        words_freq[word] += (1 / cat_title_count)\n",
        "\n",
        "  vocab_freq[category] = words_freq"
      ],
      "metadata": {
        "id": "BTqOhoyQaoq9"
      },
      "execution_count": 20,
      "outputs": []
    },
    {
      "cell_type": "markdown",
      "source": [
        "## Cálculo de probabilidades"
      ],
      "metadata": {
        "id": "PU5U3yzsj6CF"
      }
    },
    {
      "cell_type": "markdown",
      "source": [
        "Primero calculamos la probabilidad de que un titular pertenezca a cierta categoría:"
      ],
      "metadata": {
        "id": "ibh1KbtJkCKs"
      }
    },
    {
      "cell_type": "code",
      "source": [
        "title_count = sum(titles_by_cat.values())\n",
        "p_cat = { key: 0 for key in categories }\n",
        "\n",
        "for category in categories:\n",
        "  p_cat[category] = titles_by_cat[category] / title_count\n",
        "\n",
        "p_cat"
      ],
      "metadata": {
        "colab": {
          "base_uri": "https://localhost:8080/"
        },
        "id": "rmc7pkItpNZj",
        "outputId": "b0935937-7c02-4b84-c440-0f03432c322b"
      },
      "execution_count": 27,
      "outputs": [
        {
          "output_type": "execute_result",
          "data": {
            "text/plain": [
              "{'Noticias destacadas': 0.908390022675737,\n",
              " nan: 0.0,\n",
              " 'Ciencia y Tecnologia': 0.026303854875283448,\n",
              " 'Deportes': 0.019954648526077097,\n",
              " 'Entretenimiento': 0.024489795918367346,\n",
              " 'Destacadas': 0.020861678004535148}"
            ]
          },
          "metadata": {},
          "execution_count": 27
        }
      ]
    },
    {
      "cell_type": "code",
      "source": [
        "sum(p_cat.values())"
      ],
      "metadata": {
        "colab": {
          "base_uri": "https://localhost:8080/"
        },
        "id": "R2R3ZiZuwZCV",
        "outputId": "05060200-28fe-4f81-ac74-79b965a56b0d"
      },
      "execution_count": 23,
      "outputs": [
        {
          "output_type": "execute_result",
          "data": {
            "text/plain": [
              "1.0"
            ]
          },
          "metadata": {},
          "execution_count": 23
        }
      ]
    },
    {
      "cell_type": "markdown",
      "source": [
        "Con esta información y con las frecuencias guardadas en la sección anterior podemos calcular **P(A|categoria)**, es decir, la probabilidad de ocurrencia de un conjunto de palabras dada cierta categoría:"
      ],
      "metadata": {
        "id": "lAGAsE5BkSuV"
      }
    },
    {
      "cell_type": "code",
      "source": [
        "def p_a_cat(conj_a : list, category : str):\n",
        "  prob = 1\n",
        "  words_freq = vocab_freq[category]\n",
        "  for word in conj_a:\n",
        "    freq = words_freq.get(word)\n",
        "    if freq is not None:\n",
        "      prob *= freq\n",
        "    else:\n",
        "      # TODO: Laplace smoothing\n",
        "      return 0\n",
        "  return prob"
      ],
      "metadata": {
        "id": "bciZnDagksGd"
      },
      "execution_count": 34,
      "outputs": []
    },
    {
      "cell_type": "markdown",
      "source": [
        "Luego obtenemos **P(A)**, la probabilidad de ocurrencia de un conjunto de palabras:"
      ],
      "metadata": {
        "id": "7-lL8kdH15DW"
      }
    },
    {
      "cell_type": "code",
      "source": [
        "def p_a(conj_a : list):\n",
        "  prob = 0\n",
        "  for category in categories:\n",
        "    prob += (p_a_cat(conj_a, category) * p_cat[category])\n",
        "  return prob"
      ],
      "metadata": {
        "id": "f90_6XJu14hL"
      },
      "execution_count": 30,
      "outputs": []
    },
    {
      "cell_type": "markdown",
      "source": [
        "Finalmente podemos calcular la probabilidad de que un titular pertenezca a cierta categoría dado su conjunto de palabras:"
      ],
      "metadata": {
        "id": "FJ0yMI_-xX66"
      }
    },
    {
      "cell_type": "code",
      "source": [
        "def p_cat_a(category : str, conj_a : list):\n",
        "  return p_a_cat(conj_a, category) * p_cat[category] / p_a(conj_a)"
      ],
      "metadata": {
        "id": "m5TXmnx343P4"
      },
      "execution_count": 28,
      "outputs": []
    },
    {
      "cell_type": "markdown",
      "source": [
        "Por ejemplo, si tomamos una palabra del vocabulario de Deportes:"
      ],
      "metadata": {
        "id": "ZDDrjDzyBA2t"
      }
    },
    {
      "cell_type": "code",
      "source": [
        "sample_word = vocab[categories[dep_idx]][-10]\n",
        "print(f\"P ( cat = 'Deportes' | '{sample_word}' ) = {p_cat_a('Deportes', [sample_word])}\")\n",
        "print(f\"P ( cat = 'Noticias destacadas' | '{sample_word}' ) = {p_cat_a('Noticias destacadas', [sample_word])}\")\n",
        "print(f\"P ( cat = 'Ciencia y Tecnologia' | '{sample_word}' ) = {p_cat_a('Ciencia y Tecnologia', [sample_word])}\")\n",
        "print(f\"P ( cat = 'Entretenimiento' | '{sample_word}' ) = {p_cat_a('Entretenimiento', [sample_word])}\")\n",
        "print(f\"P ( cat = 'Destacadas' | '{sample_word}' ) = {p_cat_a('Destacadas', [sample_word])}\")"
      ],
      "metadata": {
        "colab": {
          "base_uri": "https://localhost:8080/"
        },
        "id": "VUBKIM0V-DE_",
        "outputId": "0998f1b1-a72b-4991-bac1-99585d34601f"
      },
      "execution_count": 56,
      "outputs": [
        {
          "output_type": "stream",
          "name": "stdout",
          "text": [
            "P ( cat = 'Deportes' | 'messi' ) = 0.08695652173913043\n",
            "P ( cat = 'Noticias destacadas' | 'messi' ) = 0.9130434782608696\n",
            "P ( cat = 'Ciencia y Tecnologia' | 'messi' ) = 0.0\n",
            "P ( cat = 'Entretenimiento' | 'messi' ) = 0.0\n",
            "P ( cat = 'Destacadas' | 'messi' ) = 0.0\n"
          ]
        }
      ]
    },
    {
      "cell_type": "markdown",
      "source": [
        "## Naive Bayes"
      ],
      "metadata": {
        "id": "5IQYxgMR5jm1"
      }
    },
    {
      "cell_type": "markdown",
      "source": [
        "Ahora calculamos las probabilidades **P(categoria|A)** para cada categoría y nos quedamos con la de mayor valor:"
      ],
      "metadata": {
        "id": "WGu297RC5mnl"
      }
    },
    {
      "cell_type": "code",
      "source": [
        "def naive_bayes(conj_a : list):\n",
        "  p_cats_a = {}\n",
        "  for category in categories:\n",
        "    p_cats_a[category] = p_cat_a(category, conj_a)\n",
        "  return max(p_cats_a, key=lambda k: p_cats_a[k])"
      ],
      "metadata": {
        "id": "9m4Ir5o-FTiv"
      },
      "execution_count": 57,
      "outputs": []
    },
    {
      "cell_type": "code",
      "source": [
        "naive_bayes([sample_word])"
      ],
      "metadata": {
        "colab": {
          "base_uri": "https://localhost:8080/",
          "height": 36
        },
        "id": "akIjEVIYGWQg",
        "outputId": "ee1821e5-6713-41ed-b07b-435ce9596ad9"
      },
      "execution_count": 58,
      "outputs": [
        {
          "output_type": "execute_result",
          "data": {
            "text/plain": [
              "'Noticias destacadas'"
            ],
            "application/vnd.google.colaboratory.intrinsic+json": {
              "type": "string"
            }
          },
          "metadata": {},
          "execution_count": 58
        }
      ]
    },
    {
      "cell_type": "markdown",
      "source": [
        "Para la próxima:\n",
        "\n",
        "*   Añadir suavizado de Laplace\n",
        "*   Actualizar función de k-fold\n",
        "*   Cross-validation con test_set"
      ],
      "metadata": {
        "id": "QviwaCLYG0xM"
      }
    }
  ]
}
