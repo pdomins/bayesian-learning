{
  "nbformat": 4,
  "nbformat_minor": 0,
  "metadata": {
    "colab": {
      "provenance": []
    },
    "kernelspec": {
      "name": "python3",
      "display_name": "Python 3"
    },
    "language_info": {
      "name": "python"
    }
  },
  "cells": [
    {
      "cell_type": "markdown",
      "source": [
        "# Clasificador Naive Bayes de noticias argentinas\n",
        "El objetivo de este ejercicio es implementar un clasificador de texto utilizando el **clasificador ingenuo de Bayes** sobre el\n",
        "conjunto de datos *”Noticias Argentinas”* para clasificar cada noticia según su tipo."
      ],
      "metadata": {
        "id": "fAjVxSbp-YsE"
      }
    },
    {
      "cell_type": "markdown",
      "source": [
        "Librerías utilizadas:"
      ],
      "metadata": {
        "id": "HzcDtfWs-k-r"
      }
    },
    {
      "cell_type": "code",
      "execution_count": 1,
      "metadata": {
        "id": "CBJtDroUVQfh"
      },
      "outputs": [],
      "source": [
        "import pandas as pd\n",
        "import numpy as np\n",
        "import nltk\n",
        "import math\n",
        "\n",
        "from nltk.corpus import stopwords"
      ]
    },
    {
      "cell_type": "markdown",
      "source": [
        "## Análisis del dataset"
      ],
      "metadata": {
        "id": "0c2pgfET-eGO"
      }
    },
    {
      "cell_type": "markdown",
      "source": [
        "En principio contamos con 164690 tuplas:"
      ],
      "metadata": {
        "id": "l2nGoBuY_XIs"
      }
    },
    {
      "cell_type": "code",
      "source": [
        "df = pd.read_excel(\"Noticias_argentinas_clean.xlsx\")\n",
        "df"
      ],
      "metadata": {
        "colab": {
          "base_uri": "https://localhost:8080/",
          "height": 423
        },
        "id": "Pp3MXdG8vCZe",
        "outputId": "e9984a98-9549-4b82-d412-a1af9f7b0e63"
      },
      "execution_count": 2,
      "outputs": [
        {
          "output_type": "execute_result",
          "data": {
            "text/plain": [
              "                     fecha                                            titular  \\\n",
              "0      2018-12-13 15:49:06                                   Se van los Melli   \n",
              "1      2018-12-26 21:21:41                       Cantos racistas en el Calcio   \n",
              "2      2018-12-26 21:21:41                       Cantos racistas en el Calcio   \n",
              "3      2019-01-13 16:35:30                    Los que viajan a Uruguay son...   \n",
              "4      2019-01-13 16:35:30                    Los que viajan a Uruguay son...   \n",
              "...                    ...                                                ...   \n",
              "164685 2018-11-26 11:34:11  River Boca: el Gobierno nacional pide â€œinves...   \n",
              "164686 2018-11-26 11:34:11  River Boca: el Gobierno nacional pide â€œinves...   \n",
              "164687 2018-11-24 22:25:24  Se postergó San Lorenzo Huracán: el resto de l...   \n",
              "164688 2018-11-24 22:25:24  Se postergó San Lorenzo Huracán: el resto de l...   \n",
              "164689 2018-11-28 12:10:27  Talleres Racing, por la Superliga: formaciones...   \n",
              "\n",
              "       fuente            categoria  \n",
              "0         NaN  Noticias destacadas  \n",
              "1         NaN  Noticias destacadas  \n",
              "2         NaN  Noticias destacadas  \n",
              "3         NaN  Noticias destacadas  \n",
              "4         NaN  Noticias destacadas  \n",
              "...       ...                  ...  \n",
              "164685    NaN                  NaN  \n",
              "164686    NaN                  NaN  \n",
              "164687    NaN                  NaN  \n",
              "164688    NaN                  NaN  \n",
              "164689    NaN                  NaN  \n",
              "\n",
              "[164690 rows x 4 columns]"
            ],
            "text/html": [
              "\n",
              "  <div id=\"df-e4ea5b42-5f7f-415f-8a15-0161f1dbc6a8\" class=\"colab-df-container\">\n",
              "    <div>\n",
              "<style scoped>\n",
              "    .dataframe tbody tr th:only-of-type {\n",
              "        vertical-align: middle;\n",
              "    }\n",
              "\n",
              "    .dataframe tbody tr th {\n",
              "        vertical-align: top;\n",
              "    }\n",
              "\n",
              "    .dataframe thead th {\n",
              "        text-align: right;\n",
              "    }\n",
              "</style>\n",
              "<table border=\"1\" class=\"dataframe\">\n",
              "  <thead>\n",
              "    <tr style=\"text-align: right;\">\n",
              "      <th></th>\n",
              "      <th>fecha</th>\n",
              "      <th>titular</th>\n",
              "      <th>fuente</th>\n",
              "      <th>categoria</th>\n",
              "    </tr>\n",
              "  </thead>\n",
              "  <tbody>\n",
              "    <tr>\n",
              "      <th>0</th>\n",
              "      <td>2018-12-13 15:49:06</td>\n",
              "      <td>Se van los Melli</td>\n",
              "      <td>NaN</td>\n",
              "      <td>Noticias destacadas</td>\n",
              "    </tr>\n",
              "    <tr>\n",
              "      <th>1</th>\n",
              "      <td>2018-12-26 21:21:41</td>\n",
              "      <td>Cantos racistas en el Calcio</td>\n",
              "      <td>NaN</td>\n",
              "      <td>Noticias destacadas</td>\n",
              "    </tr>\n",
              "    <tr>\n",
              "      <th>2</th>\n",
              "      <td>2018-12-26 21:21:41</td>\n",
              "      <td>Cantos racistas en el Calcio</td>\n",
              "      <td>NaN</td>\n",
              "      <td>Noticias destacadas</td>\n",
              "    </tr>\n",
              "    <tr>\n",
              "      <th>3</th>\n",
              "      <td>2019-01-13 16:35:30</td>\n",
              "      <td>Los que viajan a Uruguay son...</td>\n",
              "      <td>NaN</td>\n",
              "      <td>Noticias destacadas</td>\n",
              "    </tr>\n",
              "    <tr>\n",
              "      <th>4</th>\n",
              "      <td>2019-01-13 16:35:30</td>\n",
              "      <td>Los que viajan a Uruguay son...</td>\n",
              "      <td>NaN</td>\n",
              "      <td>Noticias destacadas</td>\n",
              "    </tr>\n",
              "    <tr>\n",
              "      <th>...</th>\n",
              "      <td>...</td>\n",
              "      <td>...</td>\n",
              "      <td>...</td>\n",
              "      <td>...</td>\n",
              "    </tr>\n",
              "    <tr>\n",
              "      <th>164685</th>\n",
              "      <td>2018-11-26 11:34:11</td>\n",
              "      <td>River Boca: el Gobierno nacional pide â€œinves...</td>\n",
              "      <td>NaN</td>\n",
              "      <td>NaN</td>\n",
              "    </tr>\n",
              "    <tr>\n",
              "      <th>164686</th>\n",
              "      <td>2018-11-26 11:34:11</td>\n",
              "      <td>River Boca: el Gobierno nacional pide â€œinves...</td>\n",
              "      <td>NaN</td>\n",
              "      <td>NaN</td>\n",
              "    </tr>\n",
              "    <tr>\n",
              "      <th>164687</th>\n",
              "      <td>2018-11-24 22:25:24</td>\n",
              "      <td>Se postergó San Lorenzo Huracán: el resto de l...</td>\n",
              "      <td>NaN</td>\n",
              "      <td>NaN</td>\n",
              "    </tr>\n",
              "    <tr>\n",
              "      <th>164688</th>\n",
              "      <td>2018-11-24 22:25:24</td>\n",
              "      <td>Se postergó San Lorenzo Huracán: el resto de l...</td>\n",
              "      <td>NaN</td>\n",
              "      <td>NaN</td>\n",
              "    </tr>\n",
              "    <tr>\n",
              "      <th>164689</th>\n",
              "      <td>2018-11-28 12:10:27</td>\n",
              "      <td>Talleres Racing, por la Superliga: formaciones...</td>\n",
              "      <td>NaN</td>\n",
              "      <td>NaN</td>\n",
              "    </tr>\n",
              "  </tbody>\n",
              "</table>\n",
              "<p>164690 rows × 4 columns</p>\n",
              "</div>\n",
              "    <div class=\"colab-df-buttons\">\n",
              "\n",
              "  <div class=\"colab-df-container\">\n",
              "    <button class=\"colab-df-convert\" onclick=\"convertToInteractive('df-e4ea5b42-5f7f-415f-8a15-0161f1dbc6a8')\"\n",
              "            title=\"Convert this dataframe to an interactive table.\"\n",
              "            style=\"display:none;\">\n",
              "\n",
              "  <svg xmlns=\"http://www.w3.org/2000/svg\" height=\"24px\" viewBox=\"0 -960 960 960\">\n",
              "    <path d=\"M120-120v-720h720v720H120Zm60-500h600v-160H180v160Zm220 220h160v-160H400v160Zm0 220h160v-160H400v160ZM180-400h160v-160H180v160Zm440 0h160v-160H620v160ZM180-180h160v-160H180v160Zm440 0h160v-160H620v160Z\"/>\n",
              "  </svg>\n",
              "    </button>\n",
              "\n",
              "  <style>\n",
              "    .colab-df-container {\n",
              "      display:flex;\n",
              "      gap: 12px;\n",
              "    }\n",
              "\n",
              "    .colab-df-convert {\n",
              "      background-color: #E8F0FE;\n",
              "      border: none;\n",
              "      border-radius: 50%;\n",
              "      cursor: pointer;\n",
              "      display: none;\n",
              "      fill: #1967D2;\n",
              "      height: 32px;\n",
              "      padding: 0 0 0 0;\n",
              "      width: 32px;\n",
              "    }\n",
              "\n",
              "    .colab-df-convert:hover {\n",
              "      background-color: #E2EBFA;\n",
              "      box-shadow: 0px 1px 2px rgba(60, 64, 67, 0.3), 0px 1px 3px 1px rgba(60, 64, 67, 0.15);\n",
              "      fill: #174EA6;\n",
              "    }\n",
              "\n",
              "    .colab-df-buttons div {\n",
              "      margin-bottom: 4px;\n",
              "    }\n",
              "\n",
              "    [theme=dark] .colab-df-convert {\n",
              "      background-color: #3B4455;\n",
              "      fill: #D2E3FC;\n",
              "    }\n",
              "\n",
              "    [theme=dark] .colab-df-convert:hover {\n",
              "      background-color: #434B5C;\n",
              "      box-shadow: 0px 1px 3px 1px rgba(0, 0, 0, 0.15);\n",
              "      filter: drop-shadow(0px 1px 2px rgba(0, 0, 0, 0.3));\n",
              "      fill: #FFFFFF;\n",
              "    }\n",
              "  </style>\n",
              "\n",
              "    <script>\n",
              "      const buttonEl =\n",
              "        document.querySelector('#df-e4ea5b42-5f7f-415f-8a15-0161f1dbc6a8 button.colab-df-convert');\n",
              "      buttonEl.style.display =\n",
              "        google.colab.kernel.accessAllowed ? 'block' : 'none';\n",
              "\n",
              "      async function convertToInteractive(key) {\n",
              "        const element = document.querySelector('#df-e4ea5b42-5f7f-415f-8a15-0161f1dbc6a8');\n",
              "        const dataTable =\n",
              "          await google.colab.kernel.invokeFunction('convertToInteractive',\n",
              "                                                    [key], {});\n",
              "        if (!dataTable) return;\n",
              "\n",
              "        const docLinkHtml = 'Like what you see? Visit the ' +\n",
              "          '<a target=\"_blank\" href=https://colab.research.google.com/notebooks/data_table.ipynb>data table notebook</a>'\n",
              "          + ' to learn more about interactive tables.';\n",
              "        element.innerHTML = '';\n",
              "        dataTable['output_type'] = 'display_data';\n",
              "        await google.colab.output.renderOutput(dataTable, element);\n",
              "        const docLink = document.createElement('div');\n",
              "        docLink.innerHTML = docLinkHtml;\n",
              "        element.appendChild(docLink);\n",
              "      }\n",
              "    </script>\n",
              "  </div>\n",
              "\n",
              "\n",
              "<div id=\"df-79629d58-126f-4a69-ae3d-6db86e97cf35\">\n",
              "  <button class=\"colab-df-quickchart\" onclick=\"quickchart('df-79629d58-126f-4a69-ae3d-6db86e97cf35')\"\n",
              "            title=\"Suggest charts.\"\n",
              "            style=\"display:none;\">\n",
              "\n",
              "<svg xmlns=\"http://www.w3.org/2000/svg\" height=\"24px\"viewBox=\"0 0 24 24\"\n",
              "     width=\"24px\">\n",
              "    <g>\n",
              "        <path d=\"M19 3H5c-1.1 0-2 .9-2 2v14c0 1.1.9 2 2 2h14c1.1 0 2-.9 2-2V5c0-1.1-.9-2-2-2zM9 17H7v-7h2v7zm4 0h-2V7h2v10zm4 0h-2v-4h2v4z\"/>\n",
              "    </g>\n",
              "</svg>\n",
              "  </button>\n",
              "\n",
              "<style>\n",
              "  .colab-df-quickchart {\n",
              "    background-color: #E8F0FE;\n",
              "    border: none;\n",
              "    border-radius: 50%;\n",
              "    cursor: pointer;\n",
              "    display: none;\n",
              "    fill: #1967D2;\n",
              "    height: 32px;\n",
              "    padding: 0 0 0 0;\n",
              "    width: 32px;\n",
              "  }\n",
              "\n",
              "  .colab-df-quickchart:hover {\n",
              "    background-color: #E2EBFA;\n",
              "    box-shadow: 0px 1px 2px rgba(60, 64, 67, 0.3), 0px 1px 3px 1px rgba(60, 64, 67, 0.15);\n",
              "    fill: #174EA6;\n",
              "  }\n",
              "\n",
              "  [theme=dark] .colab-df-quickchart {\n",
              "    background-color: #3B4455;\n",
              "    fill: #D2E3FC;\n",
              "  }\n",
              "\n",
              "  [theme=dark] .colab-df-quickchart:hover {\n",
              "    background-color: #434B5C;\n",
              "    box-shadow: 0px 1px 3px 1px rgba(0, 0, 0, 0.15);\n",
              "    filter: drop-shadow(0px 1px 2px rgba(0, 0, 0, 0.3));\n",
              "    fill: #FFFFFF;\n",
              "  }\n",
              "</style>\n",
              "\n",
              "  <script>\n",
              "    async function quickchart(key) {\n",
              "      const charts = await google.colab.kernel.invokeFunction(\n",
              "          'suggestCharts', [key], {});\n",
              "    }\n",
              "    (() => {\n",
              "      let quickchartButtonEl =\n",
              "        document.querySelector('#df-79629d58-126f-4a69-ae3d-6db86e97cf35 button');\n",
              "      quickchartButtonEl.style.display =\n",
              "        google.colab.kernel.accessAllowed ? 'block' : 'none';\n",
              "    })();\n",
              "  </script>\n",
              "</div>\n",
              "    </div>\n",
              "  </div>\n"
            ]
          },
          "metadata": {},
          "execution_count": 2
        }
      ]
    },
    {
      "cell_type": "code",
      "source": [
        "df['fuente'].unique().shape"
      ],
      "metadata": {
        "colab": {
          "base_uri": "https://localhost:8080/"
        },
        "id": "7vl8x84lA6-B",
        "outputId": "f3a275e3-4ea2-492d-ff65-1f8d5926ce74"
      },
      "execution_count": 3,
      "outputs": [
        {
          "output_type": "execute_result",
          "data": {
            "text/plain": [
              "(958,)"
            ]
          },
          "metadata": {},
          "execution_count": 3
        }
      ]
    },
    {
      "cell_type": "markdown",
      "source": [
        "Al enumerar las categorías nos encontramos con el valor NaN, indicando que hay tuplas sin especificar su categoría:"
      ],
      "metadata": {
        "id": "eimjuDt0_eU1"
      }
    },
    {
      "cell_type": "code",
      "source": [
        "df['categoria'].unique()"
      ],
      "metadata": {
        "colab": {
          "base_uri": "https://localhost:8080/"
        },
        "id": "uvPqmdosxmos",
        "outputId": "0b0a012c-2783-4247-badc-a888a26f3afb"
      },
      "execution_count": 4,
      "outputs": [
        {
          "output_type": "execute_result",
          "data": {
            "text/plain": [
              "array(['Noticias destacadas', 'Ciencia y Tecnologia', nan, 'Deportes',\n",
              "       'Entretenimiento', 'Destacadas', 'Actualidad', 'Crítica'],\n",
              "      dtype=object)"
            ]
          },
          "metadata": {},
          "execution_count": 4
        }
      ]
    },
    {
      "cell_type": "markdown",
      "source": [
        "Al contar los valores por cada una (sin vacíos):"
      ],
      "metadata": {
        "id": "Mkhm04oB_z4o"
      }
    },
    {
      "cell_type": "code",
      "source": [
        "print(df.groupby('categoria')['titular'].count())"
      ],
      "metadata": {
        "colab": {
          "base_uri": "https://localhost:8080/"
        },
        "id": "gJTkTwY5AgqI",
        "outputId": "91e23e23-bb9c-4f20-cd4d-25d7d4556bed"
      },
      "execution_count": 5,
      "outputs": [
        {
          "output_type": "stream",
          "name": "stdout",
          "text": [
            "categoria\n",
            "Actualidad                   1\n",
            "Ciencia y Tecnologia      2966\n",
            "Crítica                      4\n",
            "Deportes                  2969\n",
            "Destacadas                2971\n",
            "Entretenimiento           2961\n",
            "Noticias destacadas     133864\n",
            "Name: titular, dtype: int64\n"
          ]
        }
      ]
    },
    {
      "cell_type": "markdown",
      "source": [
        "Además, al observar el dataset más arriba, podemos ver que existen tuplas que se encuentran repetidas. Teniendo esto en cuenta, contamos nuevamente las noticias:"
      ],
      "metadata": {
        "id": "zTunm_q86cd3"
      }
    },
    {
      "cell_type": "code",
      "source": [
        "print(df.groupby('categoria')['titular'].nunique())"
      ],
      "metadata": {
        "colab": {
          "base_uri": "https://localhost:8080/"
        },
        "id": "5BkP2SJuyHMG",
        "outputId": "6e7d21b2-4663-4bd8-d4af-c478e5e8b457"
      },
      "execution_count": 6,
      "outputs": [
        {
          "output_type": "stream",
          "name": "stdout",
          "text": [
            "categoria\n",
            "Actualidad                  1\n",
            "Ciencia y Tecnologia      710\n",
            "Crítica                     1\n",
            "Deportes                 1402\n",
            "Destacadas               1731\n",
            "Entretenimiento          1199\n",
            "Noticias destacadas     39491\n",
            "Name: titular, dtype: int64\n"
          ]
        }
      ]
    },
    {
      "cell_type": "markdown",
      "source": [
        "## División del conjunto de textos"
      ],
      "metadata": {
        "id": "Him6F9RrtO33"
      }
    },
    {
      "cell_type": "markdown",
      "source": [
        "Utilizamos el método K-Fold para futura cross-validation:"
      ],
      "metadata": {
        "id": "h53cafokuaAm"
      }
    },
    {
      "cell_type": "code",
      "source": [
        "def k_fold_split(df : pd.DataFrame, k : int) -> tuple[pd.DataFrame, pd.DataFrame]:\n",
        "    if (k < 2) : raise ValueError(\"k must be >= 2. The value of k was: {}\".format(k))\n",
        "    df         = df.copy()\n",
        "    df         = df.sample(frac=1)\n",
        "    df_size    = df.shape[0]\n",
        "    fold_times = math.ceil(df_size / k)\n",
        "    train_df   = pd.DataFrame(columns=df.columns)\n",
        "    test_df    = pd.DataFrame(columns=df.columns)\n",
        "    for i in range(fold_times):\n",
        "        curr_fold = df.iloc[i*k:(i+1)*k]\n",
        "        train_df  = pd.concat([train_df, curr_fold.iloc[0:k-1]])\n",
        "        test_df   = pd.concat([test_df,  curr_fold.iloc[k-1].to_frame().T]) \\\n",
        "                    if curr_fold.shape[0] >= k else test_df\n",
        "    return train_df, test_df"
      ],
      "metadata": {
        "id": "nXyLTPgDtkuU"
      },
      "execution_count": 7,
      "outputs": []
    },
    {
      "cell_type": "markdown",
      "source": [
        "Vamos a crear dos conjuntos, uno de entrenamiento y otro de testeo, por lo que nos queda:"
      ],
      "metadata": {
        "id": "Shnfelm7u1Pe"
      }
    },
    {
      "cell_type": "code",
      "source": [
        "k = 2"
      ],
      "metadata": {
        "id": "lyn-ihRfuGQB"
      },
      "execution_count": 8,
      "outputs": []
    },
    {
      "cell_type": "code",
      "source": [
        "test_size = df.shape[0] / k\n",
        "(test_size * (k-1), test_size)"
      ],
      "metadata": {
        "colab": {
          "base_uri": "https://localhost:8080/"
        },
        "id": "G6h7t0gFtwun",
        "outputId": "ed72069d-0bb9-4fff-cf19-e3d565d6e0c5"
      },
      "execution_count": 9,
      "outputs": [
        {
          "output_type": "execute_result",
          "data": {
            "text/plain": [
              "(82345.0, 82345.0)"
            ]
          },
          "metadata": {},
          "execution_count": 9
        }
      ]
    },
    {
      "cell_type": "code",
      "source": [
        "train_df, test_df = k_fold_split(df, k)"
      ],
      "metadata": {
        "id": "CGEHOtikuLS9"
      },
      "execution_count": 10,
      "outputs": []
    },
    {
      "cell_type": "markdown",
      "source": [
        "## ❌ BORRAR SECCIÓN\n",
        "Achico train_df para que no me explote el notebook"
      ],
      "metadata": {
        "id": "pnc7ddQ00vKz"
      }
    },
    {
      "cell_type": "code",
      "source": [
        "original_train_df = train_df\n",
        "train_df = pd.DataFrame(train_df[:2500])"
      ],
      "metadata": {
        "id": "EvoAvPfn03pz"
      },
      "execution_count": 11,
      "outputs": []
    },
    {
      "cell_type": "markdown",
      "source": [
        "## Preprocesamiento de los datos"
      ],
      "metadata": {
        "id": "G5RfoY7v-Qer"
      }
    },
    {
      "cell_type": "markdown",
      "source": [
        "Vamos a expresar los títulos como un array conformado por sus palabras relevantes lematizadas:"
      ],
      "metadata": {
        "id": "fdGbZ0LkZM9F"
      }
    },
    {
      "cell_type": "code",
      "source": [
        "nltk.download('stopwords')\n",
        "stop_words = set(stopwords.words('spanish'))"
      ],
      "metadata": {
        "colab": {
          "base_uri": "https://localhost:8080/"
        },
        "id": "vPlQ9HN0nuxt",
        "outputId": "2d2990f2-b914-4a50-f95c-4f65a531700b"
      },
      "execution_count": 12,
      "outputs": [
        {
          "output_type": "stream",
          "name": "stderr",
          "text": [
            "[nltk_data] Downloading package stopwords to /root/nltk_data...\n",
            "[nltk_data]   Unzipping corpora/stopwords.zip.\n"
          ]
        }
      ]
    },
    {
      "cell_type": "code",
      "source": [
        "%%capture\n",
        "!python -m spacy download es_core_news_md"
      ],
      "metadata": {
        "id": "Dx5Ca-KjUfpA"
      },
      "execution_count": 23,
      "outputs": []
    },
    {
      "cell_type": "code",
      "source": [
        "import spacy\n",
        "\n",
        "nlp = spacy.load(\"es_core_news_md\")"
      ],
      "metadata": {
        "id": "jIpTA_oKSoAm"
      },
      "execution_count": 24,
      "outputs": []
    },
    {
      "cell_type": "code",
      "source": [
        "def preprocess_text(title_string):\n",
        "  title = nlp(title_string.strip('.,+-#:;¿?¡!\"\\''))\n",
        "  lemmas = []\n",
        "  for tok in title:\n",
        "    word = tok.lemma_.lower()\n",
        "    if word not in stop_words:\n",
        "      lemmas.append(word)\n",
        "  return lemmas"
      ],
      "metadata": {
        "id": "_7c3NAK5mQDZ"
      },
      "execution_count": 25,
      "outputs": []
    },
    {
      "cell_type": "code",
      "source": [
        "train_df['titular'] = train_df['titular'].apply(preprocess_text)\n",
        "train_df.head()"
      ],
      "metadata": {
        "colab": {
          "base_uri": "https://localhost:8080/",
          "height": 206
        },
        "id": "Vy_WXFzbFJi1",
        "outputId": "df52d271-f071-40ac-db28-4418255bbf88"
      },
      "execution_count": 26,
      "outputs": [
        {
          "output_type": "execute_result",
          "data": {
            "text/plain": [
              "                    fecha                                            titular  \\\n",
              "62968 2019-08-07 19:13:35  [maría, eugenia, vidal, hacer, fuerte, llamado...   \n",
              "13209 2019-07-05 10:43:00        [león, ,, animal, compañía, rico, pakistán]   \n",
              "36497 2018-11-30 17:17:55  [fortnite, battle, royale, compartir, desafío,...   \n",
              "76483 2019-02-20 22:09:35  [6, motivo, poder, complicar, banco, central, ...   \n",
              "54281 2019-08-09 00:10:34  [cuál, ser, historia, detrás, portada, famoso,...   \n",
              "\n",
              "                 fuente             categoria  \n",
              "62968           infobae   Noticias destacadas  \n",
              "13209        ámbito.com   Noticias destacadas  \n",
              "36497      Diario Depor  Ciencia y Tecnologia  \n",
              "76483       Infobae.com   Noticias destacadas  \n",
              "54281  El Intransigente   Noticias destacadas  "
            ],
            "text/html": [
              "\n",
              "  <div id=\"df-78fe3f08-98af-4657-81c2-760bcc31fd35\" class=\"colab-df-container\">\n",
              "    <div>\n",
              "<style scoped>\n",
              "    .dataframe tbody tr th:only-of-type {\n",
              "        vertical-align: middle;\n",
              "    }\n",
              "\n",
              "    .dataframe tbody tr th {\n",
              "        vertical-align: top;\n",
              "    }\n",
              "\n",
              "    .dataframe thead th {\n",
              "        text-align: right;\n",
              "    }\n",
              "</style>\n",
              "<table border=\"1\" class=\"dataframe\">\n",
              "  <thead>\n",
              "    <tr style=\"text-align: right;\">\n",
              "      <th></th>\n",
              "      <th>fecha</th>\n",
              "      <th>titular</th>\n",
              "      <th>fuente</th>\n",
              "      <th>categoria</th>\n",
              "    </tr>\n",
              "  </thead>\n",
              "  <tbody>\n",
              "    <tr>\n",
              "      <th>62968</th>\n",
              "      <td>2019-08-07 19:13:35</td>\n",
              "      <td>[maría, eugenia, vidal, hacer, fuerte, llamado...</td>\n",
              "      <td>infobae</td>\n",
              "      <td>Noticias destacadas</td>\n",
              "    </tr>\n",
              "    <tr>\n",
              "      <th>13209</th>\n",
              "      <td>2019-07-05 10:43:00</td>\n",
              "      <td>[león, ,, animal, compañía, rico, pakistán]</td>\n",
              "      <td>ámbito.com</td>\n",
              "      <td>Noticias destacadas</td>\n",
              "    </tr>\n",
              "    <tr>\n",
              "      <th>36497</th>\n",
              "      <td>2018-11-30 17:17:55</td>\n",
              "      <td>[fortnite, battle, royale, compartir, desafío,...</td>\n",
              "      <td>Diario Depor</td>\n",
              "      <td>Ciencia y Tecnologia</td>\n",
              "    </tr>\n",
              "    <tr>\n",
              "      <th>76483</th>\n",
              "      <td>2019-02-20 22:09:35</td>\n",
              "      <td>[6, motivo, poder, complicar, banco, central, ...</td>\n",
              "      <td>Infobae.com</td>\n",
              "      <td>Noticias destacadas</td>\n",
              "    </tr>\n",
              "    <tr>\n",
              "      <th>54281</th>\n",
              "      <td>2019-08-09 00:10:34</td>\n",
              "      <td>[cuál, ser, historia, detrás, portada, famoso,...</td>\n",
              "      <td>El Intransigente</td>\n",
              "      <td>Noticias destacadas</td>\n",
              "    </tr>\n",
              "  </tbody>\n",
              "</table>\n",
              "</div>\n",
              "    <div class=\"colab-df-buttons\">\n",
              "\n",
              "  <div class=\"colab-df-container\">\n",
              "    <button class=\"colab-df-convert\" onclick=\"convertToInteractive('df-78fe3f08-98af-4657-81c2-760bcc31fd35')\"\n",
              "            title=\"Convert this dataframe to an interactive table.\"\n",
              "            style=\"display:none;\">\n",
              "\n",
              "  <svg xmlns=\"http://www.w3.org/2000/svg\" height=\"24px\" viewBox=\"0 -960 960 960\">\n",
              "    <path d=\"M120-120v-720h720v720H120Zm60-500h600v-160H180v160Zm220 220h160v-160H400v160Zm0 220h160v-160H400v160ZM180-400h160v-160H180v160Zm440 0h160v-160H620v160ZM180-180h160v-160H180v160Zm440 0h160v-160H620v160Z\"/>\n",
              "  </svg>\n",
              "    </button>\n",
              "\n",
              "  <style>\n",
              "    .colab-df-container {\n",
              "      display:flex;\n",
              "      gap: 12px;\n",
              "    }\n",
              "\n",
              "    .colab-df-convert {\n",
              "      background-color: #E8F0FE;\n",
              "      border: none;\n",
              "      border-radius: 50%;\n",
              "      cursor: pointer;\n",
              "      display: none;\n",
              "      fill: #1967D2;\n",
              "      height: 32px;\n",
              "      padding: 0 0 0 0;\n",
              "      width: 32px;\n",
              "    }\n",
              "\n",
              "    .colab-df-convert:hover {\n",
              "      background-color: #E2EBFA;\n",
              "      box-shadow: 0px 1px 2px rgba(60, 64, 67, 0.3), 0px 1px 3px 1px rgba(60, 64, 67, 0.15);\n",
              "      fill: #174EA6;\n",
              "    }\n",
              "\n",
              "    .colab-df-buttons div {\n",
              "      margin-bottom: 4px;\n",
              "    }\n",
              "\n",
              "    [theme=dark] .colab-df-convert {\n",
              "      background-color: #3B4455;\n",
              "      fill: #D2E3FC;\n",
              "    }\n",
              "\n",
              "    [theme=dark] .colab-df-convert:hover {\n",
              "      background-color: #434B5C;\n",
              "      box-shadow: 0px 1px 3px 1px rgba(0, 0, 0, 0.15);\n",
              "      filter: drop-shadow(0px 1px 2px rgba(0, 0, 0, 0.3));\n",
              "      fill: #FFFFFF;\n",
              "    }\n",
              "  </style>\n",
              "\n",
              "    <script>\n",
              "      const buttonEl =\n",
              "        document.querySelector('#df-78fe3f08-98af-4657-81c2-760bcc31fd35 button.colab-df-convert');\n",
              "      buttonEl.style.display =\n",
              "        google.colab.kernel.accessAllowed ? 'block' : 'none';\n",
              "\n",
              "      async function convertToInteractive(key) {\n",
              "        const element = document.querySelector('#df-78fe3f08-98af-4657-81c2-760bcc31fd35');\n",
              "        const dataTable =\n",
              "          await google.colab.kernel.invokeFunction('convertToInteractive',\n",
              "                                                    [key], {});\n",
              "        if (!dataTable) return;\n",
              "\n",
              "        const docLinkHtml = 'Like what you see? Visit the ' +\n",
              "          '<a target=\"_blank\" href=https://colab.research.google.com/notebooks/data_table.ipynb>data table notebook</a>'\n",
              "          + ' to learn more about interactive tables.';\n",
              "        element.innerHTML = '';\n",
              "        dataTable['output_type'] = 'display_data';\n",
              "        await google.colab.output.renderOutput(dataTable, element);\n",
              "        const docLink = document.createElement('div');\n",
              "        docLink.innerHTML = docLinkHtml;\n",
              "        element.appendChild(docLink);\n",
              "      }\n",
              "    </script>\n",
              "  </div>\n",
              "\n",
              "\n",
              "<div id=\"df-f9996582-a010-4eb2-9dcb-174deaae85d7\">\n",
              "  <button class=\"colab-df-quickchart\" onclick=\"quickchart('df-f9996582-a010-4eb2-9dcb-174deaae85d7')\"\n",
              "            title=\"Suggest charts.\"\n",
              "            style=\"display:none;\">\n",
              "\n",
              "<svg xmlns=\"http://www.w3.org/2000/svg\" height=\"24px\"viewBox=\"0 0 24 24\"\n",
              "     width=\"24px\">\n",
              "    <g>\n",
              "        <path d=\"M19 3H5c-1.1 0-2 .9-2 2v14c0 1.1.9 2 2 2h14c1.1 0 2-.9 2-2V5c0-1.1-.9-2-2-2zM9 17H7v-7h2v7zm4 0h-2V7h2v10zm4 0h-2v-4h2v4z\"/>\n",
              "    </g>\n",
              "</svg>\n",
              "  </button>\n",
              "\n",
              "<style>\n",
              "  .colab-df-quickchart {\n",
              "    background-color: #E8F0FE;\n",
              "    border: none;\n",
              "    border-radius: 50%;\n",
              "    cursor: pointer;\n",
              "    display: none;\n",
              "    fill: #1967D2;\n",
              "    height: 32px;\n",
              "    padding: 0 0 0 0;\n",
              "    width: 32px;\n",
              "  }\n",
              "\n",
              "  .colab-df-quickchart:hover {\n",
              "    background-color: #E2EBFA;\n",
              "    box-shadow: 0px 1px 2px rgba(60, 64, 67, 0.3), 0px 1px 3px 1px rgba(60, 64, 67, 0.15);\n",
              "    fill: #174EA6;\n",
              "  }\n",
              "\n",
              "  [theme=dark] .colab-df-quickchart {\n",
              "    background-color: #3B4455;\n",
              "    fill: #D2E3FC;\n",
              "  }\n",
              "\n",
              "  [theme=dark] .colab-df-quickchart:hover {\n",
              "    background-color: #434B5C;\n",
              "    box-shadow: 0px 1px 3px 1px rgba(0, 0, 0, 0.15);\n",
              "    filter: drop-shadow(0px 1px 2px rgba(0, 0, 0, 0.3));\n",
              "    fill: #FFFFFF;\n",
              "  }\n",
              "</style>\n",
              "\n",
              "  <script>\n",
              "    async function quickchart(key) {\n",
              "      const charts = await google.colab.kernel.invokeFunction(\n",
              "          'suggestCharts', [key], {});\n",
              "    }\n",
              "    (() => {\n",
              "      let quickchartButtonEl =\n",
              "        document.querySelector('#df-f9996582-a010-4eb2-9dcb-174deaae85d7 button');\n",
              "      quickchartButtonEl.style.display =\n",
              "        google.colab.kernel.accessAllowed ? 'block' : 'none';\n",
              "    })();\n",
              "  </script>\n",
              "</div>\n",
              "    </div>\n",
              "  </div>\n"
            ]
          },
          "metadata": {},
          "execution_count": 26
        }
      ]
    },
    {
      "cell_type": "markdown",
      "source": [
        "## Armado de vocabulario"
      ],
      "metadata": {
        "id": "nQCxh-xMrNLX"
      }
    },
    {
      "cell_type": "markdown",
      "source": [
        "Para empezar creamos un diccionario con todas las palabras utilizadas en los titulares para cada categoría, evitando repetidos en cada set:"
      ],
      "metadata": {
        "id": "n4eQFxQQacr-"
      }
    },
    {
      "cell_type": "code",
      "source": [
        "categories = train_df['categoria'].unique()\n",
        "categories"
      ],
      "metadata": {
        "colab": {
          "base_uri": "https://localhost:8080/"
        },
        "id": "W_7NcVtZVDon",
        "outputId": "02dabc86-7aa9-44c5-bf33-d182b938dd34"
      },
      "execution_count": 29,
      "outputs": [
        {
          "output_type": "execute_result",
          "data": {
            "text/plain": [
              "array(['Noticias destacadas', 'Ciencia y Tecnologia', 'Destacadas', nan,\n",
              "       'Deportes', 'Entretenimiento'], dtype=object)"
            ]
          },
          "metadata": {},
          "execution_count": 29
        }
      ]
    },
    {
      "cell_type": "code",
      "source": [
        "vocab = {}\n",
        "\n",
        "for category in categories:\n",
        "  cat_vocab = set()\n",
        "  cat_train_df = train_df[train_df['categoria'] == category]\n",
        "  for title in cat_train_df['titular']:\n",
        "    cat_vocab.update(title)\n",
        "  vocab[category] = list(cat_vocab)"
      ],
      "metadata": {
        "id": "JdBDC5qyRNn2"
      },
      "execution_count": 31,
      "outputs": []
    },
    {
      "cell_type": "code",
      "source": [
        "categories[1]"
      ],
      "metadata": {
        "colab": {
          "base_uri": "https://localhost:8080/",
          "height": 36
        },
        "id": "vKliz-sIX8cr",
        "outputId": "614c746d-628e-4dec-f0e9-a7686a075bd2"
      },
      "execution_count": 37,
      "outputs": [
        {
          "output_type": "execute_result",
          "data": {
            "text/plain": [
              "'Ciencia y Tecnologia'"
            ],
            "application/vnd.google.colaboratory.intrinsic+json": {
              "type": "string"
            }
          },
          "metadata": {},
          "execution_count": 37
        }
      ]
    },
    {
      "cell_type": "code",
      "source": [
        "vocab[categories[1]][:10]"
      ],
      "metadata": {
        "colab": {
          "base_uri": "https://localhost:8080/"
        },
        "id": "pWKFIu2kXLaM",
        "outputId": "72503050-6b73-4006-b89e-5ae7479c3247"
      },
      "execution_count": 39,
      "outputs": [
        {
          "output_type": "execute_result",
          "data": {
            "text/plain": [
              "['cómo',\n",
              " 'campaña',\n",
              " 'probabilidad',\n",
              " 'asteoridar',\n",
              " 'venta',\n",
              " 'after',\n",
              " 'descubrir',\n",
              " 'furor',\n",
              " 'ganar',\n",
              " 'agua']"
            ]
          },
          "metadata": {},
          "execution_count": 39
        }
      ]
    },
    {
      "cell_type": "markdown",
      "source": [
        "\n",
        "Próximamente:\n",
        "*   Iterar titulares y contar la cantidad de titulares que contienen la palabra elegida.\n",
        "*   Obtener la frecuencia dividiendo la cantidad de apariciones por la cantidad total de titulares."
      ],
      "metadata": {
        "id": "MCiT5cy0ZkBK"
      }
    }
  ]
}
