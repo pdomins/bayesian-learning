{
  "nbformat": 4,
  "nbformat_minor": 0,
  "metadata": {
    "colab": {
      "provenance": []
    },
    "kernelspec": {
      "name": "python3",
      "display_name": "Python 3"
    },
    "language_info": {
      "name": "python"
    }
  },
  "cells": [
    {
      "cell_type": "markdown",
      "source": [
        "# Clasificador Naive Bayes de noticias argentinas\n",
        "El objetivo de este ejercicio es implementar un clasificador de texto utilizando el **clasificador ingenuo de Bayes** sobre el\n",
        "conjunto de datos *”Noticias Argentinas”* para clasificar cada noticia según su tipo."
      ],
      "metadata": {
        "id": "fAjVxSbp-YsE"
      }
    },
    {
      "cell_type": "markdown",
      "source": [
        "Librerías utilizadas:"
      ],
      "metadata": {
        "id": "HzcDtfWs-k-r"
      }
    },
    {
      "cell_type": "code",
      "execution_count": 1,
      "metadata": {
        "id": "CBJtDroUVQfh"
      },
      "outputs": [],
      "source": [
        "import pandas as pd\n",
        "import numpy as np\n",
        "import nltk\n",
        "import math\n",
        "\n",
        "from nltk.corpus import stopwords"
      ]
    },
    {
      "cell_type": "markdown",
      "source": [
        "## Análisis del dataset"
      ],
      "metadata": {
        "id": "0c2pgfET-eGO"
      }
    },
    {
      "cell_type": "markdown",
      "source": [
        "En principio contamos con 164690 tuplas:"
      ],
      "metadata": {
        "id": "l2nGoBuY_XIs"
      }
    },
    {
      "cell_type": "code",
      "source": [
        "df = pd.read_excel(\"Noticias_argentinas_clean.xlsx\")\n",
        "df"
      ],
      "metadata": {
        "colab": {
          "base_uri": "https://localhost:8080/",
          "height": 423
        },
        "id": "Pp3MXdG8vCZe",
        "outputId": "e11fa6da-01a8-4eff-f946-a21c69543a9e"
      },
      "execution_count": 2,
      "outputs": [
        {
          "output_type": "execute_result",
          "data": {
            "text/plain": [
              "                     fecha                                            titular  \\\n",
              "0      2018-12-13 15:49:06                                   Se van los Melli   \n",
              "1      2018-12-26 21:21:41                       Cantos racistas en el Calcio   \n",
              "2      2018-12-26 21:21:41                       Cantos racistas en el Calcio   \n",
              "3      2019-01-13 16:35:30                    Los que viajan a Uruguay son...   \n",
              "4      2019-01-13 16:35:30                    Los que viajan a Uruguay son...   \n",
              "...                    ...                                                ...   \n",
              "164685 2018-11-26 11:34:11  River Boca: el Gobierno nacional pide â€œinves...   \n",
              "164686 2018-11-26 11:34:11  River Boca: el Gobierno nacional pide â€œinves...   \n",
              "164687 2018-11-24 22:25:24  Se postergó San Lorenzo Huracán: el resto de l...   \n",
              "164688 2018-11-24 22:25:24  Se postergó San Lorenzo Huracán: el resto de l...   \n",
              "164689 2018-11-28 12:10:27  Talleres Racing, por la Superliga: formaciones...   \n",
              "\n",
              "       fuente            categoria  \n",
              "0         NaN  Noticias destacadas  \n",
              "1         NaN  Noticias destacadas  \n",
              "2         NaN  Noticias destacadas  \n",
              "3         NaN  Noticias destacadas  \n",
              "4         NaN  Noticias destacadas  \n",
              "...       ...                  ...  \n",
              "164685    NaN                  NaN  \n",
              "164686    NaN                  NaN  \n",
              "164687    NaN                  NaN  \n",
              "164688    NaN                  NaN  \n",
              "164689    NaN                  NaN  \n",
              "\n",
              "[164690 rows x 4 columns]"
            ],
            "text/html": [
              "\n",
              "  <div id=\"df-c4e40efc-97af-4703-8c55-542c9807eb04\" class=\"colab-df-container\">\n",
              "    <div>\n",
              "<style scoped>\n",
              "    .dataframe tbody tr th:only-of-type {\n",
              "        vertical-align: middle;\n",
              "    }\n",
              "\n",
              "    .dataframe tbody tr th {\n",
              "        vertical-align: top;\n",
              "    }\n",
              "\n",
              "    .dataframe thead th {\n",
              "        text-align: right;\n",
              "    }\n",
              "</style>\n",
              "<table border=\"1\" class=\"dataframe\">\n",
              "  <thead>\n",
              "    <tr style=\"text-align: right;\">\n",
              "      <th></th>\n",
              "      <th>fecha</th>\n",
              "      <th>titular</th>\n",
              "      <th>fuente</th>\n",
              "      <th>categoria</th>\n",
              "    </tr>\n",
              "  </thead>\n",
              "  <tbody>\n",
              "    <tr>\n",
              "      <th>0</th>\n",
              "      <td>2018-12-13 15:49:06</td>\n",
              "      <td>Se van los Melli</td>\n",
              "      <td>NaN</td>\n",
              "      <td>Noticias destacadas</td>\n",
              "    </tr>\n",
              "    <tr>\n",
              "      <th>1</th>\n",
              "      <td>2018-12-26 21:21:41</td>\n",
              "      <td>Cantos racistas en el Calcio</td>\n",
              "      <td>NaN</td>\n",
              "      <td>Noticias destacadas</td>\n",
              "    </tr>\n",
              "    <tr>\n",
              "      <th>2</th>\n",
              "      <td>2018-12-26 21:21:41</td>\n",
              "      <td>Cantos racistas en el Calcio</td>\n",
              "      <td>NaN</td>\n",
              "      <td>Noticias destacadas</td>\n",
              "    </tr>\n",
              "    <tr>\n",
              "      <th>3</th>\n",
              "      <td>2019-01-13 16:35:30</td>\n",
              "      <td>Los que viajan a Uruguay son...</td>\n",
              "      <td>NaN</td>\n",
              "      <td>Noticias destacadas</td>\n",
              "    </tr>\n",
              "    <tr>\n",
              "      <th>4</th>\n",
              "      <td>2019-01-13 16:35:30</td>\n",
              "      <td>Los que viajan a Uruguay son...</td>\n",
              "      <td>NaN</td>\n",
              "      <td>Noticias destacadas</td>\n",
              "    </tr>\n",
              "    <tr>\n",
              "      <th>...</th>\n",
              "      <td>...</td>\n",
              "      <td>...</td>\n",
              "      <td>...</td>\n",
              "      <td>...</td>\n",
              "    </tr>\n",
              "    <tr>\n",
              "      <th>164685</th>\n",
              "      <td>2018-11-26 11:34:11</td>\n",
              "      <td>River Boca: el Gobierno nacional pide â€œinves...</td>\n",
              "      <td>NaN</td>\n",
              "      <td>NaN</td>\n",
              "    </tr>\n",
              "    <tr>\n",
              "      <th>164686</th>\n",
              "      <td>2018-11-26 11:34:11</td>\n",
              "      <td>River Boca: el Gobierno nacional pide â€œinves...</td>\n",
              "      <td>NaN</td>\n",
              "      <td>NaN</td>\n",
              "    </tr>\n",
              "    <tr>\n",
              "      <th>164687</th>\n",
              "      <td>2018-11-24 22:25:24</td>\n",
              "      <td>Se postergó San Lorenzo Huracán: el resto de l...</td>\n",
              "      <td>NaN</td>\n",
              "      <td>NaN</td>\n",
              "    </tr>\n",
              "    <tr>\n",
              "      <th>164688</th>\n",
              "      <td>2018-11-24 22:25:24</td>\n",
              "      <td>Se postergó San Lorenzo Huracán: el resto de l...</td>\n",
              "      <td>NaN</td>\n",
              "      <td>NaN</td>\n",
              "    </tr>\n",
              "    <tr>\n",
              "      <th>164689</th>\n",
              "      <td>2018-11-28 12:10:27</td>\n",
              "      <td>Talleres Racing, por la Superliga: formaciones...</td>\n",
              "      <td>NaN</td>\n",
              "      <td>NaN</td>\n",
              "    </tr>\n",
              "  </tbody>\n",
              "</table>\n",
              "<p>164690 rows × 4 columns</p>\n",
              "</div>\n",
              "    <div class=\"colab-df-buttons\">\n",
              "\n",
              "  <div class=\"colab-df-container\">\n",
              "    <button class=\"colab-df-convert\" onclick=\"convertToInteractive('df-c4e40efc-97af-4703-8c55-542c9807eb04')\"\n",
              "            title=\"Convert this dataframe to an interactive table.\"\n",
              "            style=\"display:none;\">\n",
              "\n",
              "  <svg xmlns=\"http://www.w3.org/2000/svg\" height=\"24px\" viewBox=\"0 -960 960 960\">\n",
              "    <path d=\"M120-120v-720h720v720H120Zm60-500h600v-160H180v160Zm220 220h160v-160H400v160Zm0 220h160v-160H400v160ZM180-400h160v-160H180v160Zm440 0h160v-160H620v160ZM180-180h160v-160H180v160Zm440 0h160v-160H620v160Z\"/>\n",
              "  </svg>\n",
              "    </button>\n",
              "\n",
              "  <style>\n",
              "    .colab-df-container {\n",
              "      display:flex;\n",
              "      gap: 12px;\n",
              "    }\n",
              "\n",
              "    .colab-df-convert {\n",
              "      background-color: #E8F0FE;\n",
              "      border: none;\n",
              "      border-radius: 50%;\n",
              "      cursor: pointer;\n",
              "      display: none;\n",
              "      fill: #1967D2;\n",
              "      height: 32px;\n",
              "      padding: 0 0 0 0;\n",
              "      width: 32px;\n",
              "    }\n",
              "\n",
              "    .colab-df-convert:hover {\n",
              "      background-color: #E2EBFA;\n",
              "      box-shadow: 0px 1px 2px rgba(60, 64, 67, 0.3), 0px 1px 3px 1px rgba(60, 64, 67, 0.15);\n",
              "      fill: #174EA6;\n",
              "    }\n",
              "\n",
              "    .colab-df-buttons div {\n",
              "      margin-bottom: 4px;\n",
              "    }\n",
              "\n",
              "    [theme=dark] .colab-df-convert {\n",
              "      background-color: #3B4455;\n",
              "      fill: #D2E3FC;\n",
              "    }\n",
              "\n",
              "    [theme=dark] .colab-df-convert:hover {\n",
              "      background-color: #434B5C;\n",
              "      box-shadow: 0px 1px 3px 1px rgba(0, 0, 0, 0.15);\n",
              "      filter: drop-shadow(0px 1px 2px rgba(0, 0, 0, 0.3));\n",
              "      fill: #FFFFFF;\n",
              "    }\n",
              "  </style>\n",
              "\n",
              "    <script>\n",
              "      const buttonEl =\n",
              "        document.querySelector('#df-c4e40efc-97af-4703-8c55-542c9807eb04 button.colab-df-convert');\n",
              "      buttonEl.style.display =\n",
              "        google.colab.kernel.accessAllowed ? 'block' : 'none';\n",
              "\n",
              "      async function convertToInteractive(key) {\n",
              "        const element = document.querySelector('#df-c4e40efc-97af-4703-8c55-542c9807eb04');\n",
              "        const dataTable =\n",
              "          await google.colab.kernel.invokeFunction('convertToInteractive',\n",
              "                                                    [key], {});\n",
              "        if (!dataTable) return;\n",
              "\n",
              "        const docLinkHtml = 'Like what you see? Visit the ' +\n",
              "          '<a target=\"_blank\" href=https://colab.research.google.com/notebooks/data_table.ipynb>data table notebook</a>'\n",
              "          + ' to learn more about interactive tables.';\n",
              "        element.innerHTML = '';\n",
              "        dataTable['output_type'] = 'display_data';\n",
              "        await google.colab.output.renderOutput(dataTable, element);\n",
              "        const docLink = document.createElement('div');\n",
              "        docLink.innerHTML = docLinkHtml;\n",
              "        element.appendChild(docLink);\n",
              "      }\n",
              "    </script>\n",
              "  </div>\n",
              "\n",
              "\n",
              "<div id=\"df-21211cdc-06b0-42a2-b8be-49399d7be2e4\">\n",
              "  <button class=\"colab-df-quickchart\" onclick=\"quickchart('df-21211cdc-06b0-42a2-b8be-49399d7be2e4')\"\n",
              "            title=\"Suggest charts.\"\n",
              "            style=\"display:none;\">\n",
              "\n",
              "<svg xmlns=\"http://www.w3.org/2000/svg\" height=\"24px\"viewBox=\"0 0 24 24\"\n",
              "     width=\"24px\">\n",
              "    <g>\n",
              "        <path d=\"M19 3H5c-1.1 0-2 .9-2 2v14c0 1.1.9 2 2 2h14c1.1 0 2-.9 2-2V5c0-1.1-.9-2-2-2zM9 17H7v-7h2v7zm4 0h-2V7h2v10zm4 0h-2v-4h2v4z\"/>\n",
              "    </g>\n",
              "</svg>\n",
              "  </button>\n",
              "\n",
              "<style>\n",
              "  .colab-df-quickchart {\n",
              "    background-color: #E8F0FE;\n",
              "    border: none;\n",
              "    border-radius: 50%;\n",
              "    cursor: pointer;\n",
              "    display: none;\n",
              "    fill: #1967D2;\n",
              "    height: 32px;\n",
              "    padding: 0 0 0 0;\n",
              "    width: 32px;\n",
              "  }\n",
              "\n",
              "  .colab-df-quickchart:hover {\n",
              "    background-color: #E2EBFA;\n",
              "    box-shadow: 0px 1px 2px rgba(60, 64, 67, 0.3), 0px 1px 3px 1px rgba(60, 64, 67, 0.15);\n",
              "    fill: #174EA6;\n",
              "  }\n",
              "\n",
              "  [theme=dark] .colab-df-quickchart {\n",
              "    background-color: #3B4455;\n",
              "    fill: #D2E3FC;\n",
              "  }\n",
              "\n",
              "  [theme=dark] .colab-df-quickchart:hover {\n",
              "    background-color: #434B5C;\n",
              "    box-shadow: 0px 1px 3px 1px rgba(0, 0, 0, 0.15);\n",
              "    filter: drop-shadow(0px 1px 2px rgba(0, 0, 0, 0.3));\n",
              "    fill: #FFFFFF;\n",
              "  }\n",
              "</style>\n",
              "\n",
              "  <script>\n",
              "    async function quickchart(key) {\n",
              "      const charts = await google.colab.kernel.invokeFunction(\n",
              "          'suggestCharts', [key], {});\n",
              "    }\n",
              "    (() => {\n",
              "      let quickchartButtonEl =\n",
              "        document.querySelector('#df-21211cdc-06b0-42a2-b8be-49399d7be2e4 button');\n",
              "      quickchartButtonEl.style.display =\n",
              "        google.colab.kernel.accessAllowed ? 'block' : 'none';\n",
              "    })();\n",
              "  </script>\n",
              "</div>\n",
              "    </div>\n",
              "  </div>\n"
            ]
          },
          "metadata": {},
          "execution_count": 2
        }
      ]
    },
    {
      "cell_type": "code",
      "source": [
        "df['fuente'].unique().shape"
      ],
      "metadata": {
        "colab": {
          "base_uri": "https://localhost:8080/"
        },
        "id": "7vl8x84lA6-B",
        "outputId": "4074b2d8-eaa1-4c34-97a2-2ed614b3dc4c"
      },
      "execution_count": 3,
      "outputs": [
        {
          "output_type": "execute_result",
          "data": {
            "text/plain": [
              "(958,)"
            ]
          },
          "metadata": {},
          "execution_count": 3
        }
      ]
    },
    {
      "cell_type": "markdown",
      "source": [
        "Al enumerar las categorías nos encontramos con el valor NaN, indicando que hay tuplas sin especificar su categoría:"
      ],
      "metadata": {
        "id": "eimjuDt0_eU1"
      }
    },
    {
      "cell_type": "code",
      "source": [
        "df['categoria'].unique()"
      ],
      "metadata": {
        "colab": {
          "base_uri": "https://localhost:8080/"
        },
        "id": "uvPqmdosxmos",
        "outputId": "59afbf53-9b15-4e0e-b3d9-a68217642f42"
      },
      "execution_count": 4,
      "outputs": [
        {
          "output_type": "execute_result",
          "data": {
            "text/plain": [
              "array(['Noticias destacadas', 'Ciencia y Tecnologia', nan, 'Deportes',\n",
              "       'Entretenimiento', 'Destacadas', 'Actualidad', 'Crítica'],\n",
              "      dtype=object)"
            ]
          },
          "metadata": {},
          "execution_count": 4
        }
      ]
    },
    {
      "cell_type": "markdown",
      "source": [
        "Al contar los valores por cada una (sin vacíos):"
      ],
      "metadata": {
        "id": "Mkhm04oB_z4o"
      }
    },
    {
      "cell_type": "code",
      "source": [
        "print(df.groupby('categoria')['titular'].count())"
      ],
      "metadata": {
        "colab": {
          "base_uri": "https://localhost:8080/"
        },
        "id": "gJTkTwY5AgqI",
        "outputId": "9f4341ce-fbb6-4c80-fdaf-72cb1f3f07a3"
      },
      "execution_count": 5,
      "outputs": [
        {
          "output_type": "stream",
          "name": "stdout",
          "text": [
            "categoria\n",
            "Actualidad                   1\n",
            "Ciencia y Tecnologia      2966\n",
            "Crítica                      4\n",
            "Deportes                  2969\n",
            "Destacadas                2971\n",
            "Entretenimiento           2961\n",
            "Noticias destacadas     133864\n",
            "Name: titular, dtype: int64\n"
          ]
        }
      ]
    },
    {
      "cell_type": "markdown",
      "source": [
        "Además, al observar el dataset más arriba, podemos ver que existen tuplas que se encuentran repetidas. Teniendo esto en cuenta, contamos nuevamente las noticias:"
      ],
      "metadata": {
        "id": "zTunm_q86cd3"
      }
    },
    {
      "cell_type": "code",
      "source": [
        "print(df.groupby('categoria')['titular'].nunique())"
      ],
      "metadata": {
        "colab": {
          "base_uri": "https://localhost:8080/"
        },
        "id": "5BkP2SJuyHMG",
        "outputId": "edd94f81-7fb2-463f-a51d-f282e045fa0e"
      },
      "execution_count": 6,
      "outputs": [
        {
          "output_type": "stream",
          "name": "stdout",
          "text": [
            "categoria\n",
            "Actualidad                  1\n",
            "Ciencia y Tecnologia      710\n",
            "Crítica                     1\n",
            "Deportes                 1402\n",
            "Destacadas               1731\n",
            "Entretenimiento          1199\n",
            "Noticias destacadas     39491\n",
            "Name: titular, dtype: int64\n"
          ]
        }
      ]
    },
    {
      "cell_type": "markdown",
      "source": [
        "## División del conjunto de textos"
      ],
      "metadata": {
        "id": "Him6F9RrtO33"
      }
    },
    {
      "cell_type": "markdown",
      "source": [
        "Utilizamos el método K-Fold para futura cross-validation:"
      ],
      "metadata": {
        "id": "h53cafokuaAm"
      }
    },
    {
      "cell_type": "code",
      "source": [
        "def k_fold_split(df : pd.DataFrame, k : int) -> tuple[pd.DataFrame, pd.DataFrame]:\n",
        "    if (k < 2) : raise ValueError(\"k must be >= 2. The value of k was: {}\".format(k))\n",
        "    df         = df.copy()\n",
        "    df         = df.sample(frac=1)\n",
        "    df_size    = df.shape[0]\n",
        "    fold_times = math.ceil(df_size / k)\n",
        "    train_df   = pd.DataFrame(columns=df.columns)\n",
        "    test_df    = pd.DataFrame(columns=df.columns)\n",
        "    for i in range(fold_times):\n",
        "        curr_fold = df.iloc[i*k:(i+1)*k]\n",
        "        train_df  = pd.concat([train_df, curr_fold.iloc[0:k-1]])\n",
        "        test_df   = pd.concat([test_df,  curr_fold.iloc[k-1].to_frame().T]) \\\n",
        "                    if curr_fold.shape[0] >= k else test_df\n",
        "    return train_df, test_df"
      ],
      "metadata": {
        "id": "nXyLTPgDtkuU"
      },
      "execution_count": 7,
      "outputs": []
    },
    {
      "cell_type": "markdown",
      "source": [
        "Vamos a crear dos conjuntos, uno de entrenamiento y otro de testeo, por lo que nos queda:"
      ],
      "metadata": {
        "id": "Shnfelm7u1Pe"
      }
    },
    {
      "cell_type": "code",
      "source": [
        "k = 2"
      ],
      "metadata": {
        "id": "lyn-ihRfuGQB"
      },
      "execution_count": 8,
      "outputs": []
    },
    {
      "cell_type": "code",
      "source": [
        "test_size = df.shape[0] / k\n",
        "(test_size * (k-1), test_size)"
      ],
      "metadata": {
        "colab": {
          "base_uri": "https://localhost:8080/"
        },
        "id": "G6h7t0gFtwun",
        "outputId": "cce27282-35c2-481c-cf6d-bcdf5ab322b7"
      },
      "execution_count": 9,
      "outputs": [
        {
          "output_type": "execute_result",
          "data": {
            "text/plain": [
              "(82345.0, 82345.0)"
            ]
          },
          "metadata": {},
          "execution_count": 9
        }
      ]
    },
    {
      "cell_type": "code",
      "source": [
        "train_df, test_df = k_fold_split(df, k)"
      ],
      "metadata": {
        "id": "CGEHOtikuLS9"
      },
      "execution_count": 10,
      "outputs": []
    },
    {
      "cell_type": "markdown",
      "source": [
        "## ❌ BORRAR SECCIÓN\n",
        "Achico train_df para que no me explote el notebook"
      ],
      "metadata": {
        "id": "pnc7ddQ00vKz"
      }
    },
    {
      "cell_type": "code",
      "source": [
        "train_df = pd.DataFrame(train_df[:2500])"
      ],
      "metadata": {
        "id": "EvoAvPfn03pz"
      },
      "execution_count": 11,
      "outputs": []
    },
    {
      "cell_type": "markdown",
      "source": [
        "## Preprocesamiento de los datos"
      ],
      "metadata": {
        "id": "G5RfoY7v-Qer"
      }
    },
    {
      "cell_type": "markdown",
      "source": [
        "Vamos a expresar los títulos como un array conformado por sus palabras relevantes lematizadas:"
      ],
      "metadata": {
        "id": "fdGbZ0LkZM9F"
      }
    },
    {
      "cell_type": "code",
      "source": [
        "nltk.download('stopwords')\n",
        "stop_words = set(stopwords.words('spanish'))"
      ],
      "metadata": {
        "colab": {
          "base_uri": "https://localhost:8080/"
        },
        "id": "vPlQ9HN0nuxt",
        "outputId": "0283f006-193d-4a95-de21-994b5bd91303"
      },
      "execution_count": 12,
      "outputs": [
        {
          "output_type": "stream",
          "name": "stderr",
          "text": [
            "[nltk_data] Downloading package stopwords to /root/nltk_data...\n",
            "[nltk_data]   Package stopwords is already up-to-date!\n"
          ]
        }
      ]
    },
    {
      "cell_type": "code",
      "source": [
        "import en_core_web_sm\n",
        "pipeline = en_core_web_sm.load()"
      ],
      "metadata": {
        "id": "B_OfB8hDssGT"
      },
      "execution_count": 13,
      "outputs": []
    },
    {
      "cell_type": "code",
      "source": [
        "def preprocess_text(title_string):\n",
        "  title = pipeline(title_string.strip('.,+-#:;¿?¡!\"\\''))\n",
        "  lemmas = []\n",
        "  for tok in title:\n",
        "    word = tok.lemma_.lower()\n",
        "    if word not in stop_words:\n",
        "      lemmas.append(word)\n",
        "  return lemmas"
      ],
      "metadata": {
        "id": "_7c3NAK5mQDZ"
      },
      "execution_count": 14,
      "outputs": []
    },
    {
      "cell_type": "code",
      "source": [
        "train_df['titular'] = train_df['titular'].apply(preprocess_text)\n",
        "train_df.head()"
      ],
      "metadata": {
        "colab": {
          "base_uri": "https://localhost:8080/",
          "height": 206
        },
        "id": "Vy_WXFzbFJi1",
        "outputId": "c5f1ccc9-7311-4205-d2bc-feec67178a68"
      },
      "execution_count": 15,
      "outputs": [
        {
          "output_type": "execute_result",
          "data": {
            "text/plain": [
              "                     fecha                                            titular  \\\n",
              "53138  2019-02-24 10:39:00  [ricado, bochini, explicó, independiente, cayó...   \n",
              "4863   2018-12-15 08:29:00  [quinto, sábado, ,, perdió, fuerza, protesta, ...   \n",
              "101070 2018-11-28 17:00:05  [habló, amiga, acompañó, pier, fritzsche, luch...   \n",
              "60292  2019-01-09 17:22:22  [fiebre, amarilla, :, ¿, necesaria, dónde, apl...   \n",
              "152550 2019-08-09 15:09:59  [curiosidad, mata, gato, ,, indiscretos, cada,...   \n",
              "\n",
              "                     fuente            categoria  \n",
              "53138      El Intransigente  Noticias destacadas  \n",
              "4863             Ambito.com  Noticias destacadas  \n",
              "101070  La Voz del Interior      Entretenimiento  \n",
              "60292                  FILO  Noticias destacadas  \n",
              "152550   Tiempo de San Juan  Noticias destacadas  "
            ],
            "text/html": [
              "\n",
              "  <div id=\"df-6a525daa-c28e-4fc1-b43f-1e2f31d9a183\" class=\"colab-df-container\">\n",
              "    <div>\n",
              "<style scoped>\n",
              "    .dataframe tbody tr th:only-of-type {\n",
              "        vertical-align: middle;\n",
              "    }\n",
              "\n",
              "    .dataframe tbody tr th {\n",
              "        vertical-align: top;\n",
              "    }\n",
              "\n",
              "    .dataframe thead th {\n",
              "        text-align: right;\n",
              "    }\n",
              "</style>\n",
              "<table border=\"1\" class=\"dataframe\">\n",
              "  <thead>\n",
              "    <tr style=\"text-align: right;\">\n",
              "      <th></th>\n",
              "      <th>fecha</th>\n",
              "      <th>titular</th>\n",
              "      <th>fuente</th>\n",
              "      <th>categoria</th>\n",
              "    </tr>\n",
              "  </thead>\n",
              "  <tbody>\n",
              "    <tr>\n",
              "      <th>53138</th>\n",
              "      <td>2019-02-24 10:39:00</td>\n",
              "      <td>[ricado, bochini, explicó, independiente, cayó...</td>\n",
              "      <td>El Intransigente</td>\n",
              "      <td>Noticias destacadas</td>\n",
              "    </tr>\n",
              "    <tr>\n",
              "      <th>4863</th>\n",
              "      <td>2018-12-15 08:29:00</td>\n",
              "      <td>[quinto, sábado, ,, perdió, fuerza, protesta, ...</td>\n",
              "      <td>Ambito.com</td>\n",
              "      <td>Noticias destacadas</td>\n",
              "    </tr>\n",
              "    <tr>\n",
              "      <th>101070</th>\n",
              "      <td>2018-11-28 17:00:05</td>\n",
              "      <td>[habló, amiga, acompañó, pier, fritzsche, luch...</td>\n",
              "      <td>La Voz del Interior</td>\n",
              "      <td>Entretenimiento</td>\n",
              "    </tr>\n",
              "    <tr>\n",
              "      <th>60292</th>\n",
              "      <td>2019-01-09 17:22:22</td>\n",
              "      <td>[fiebre, amarilla, :, ¿, necesaria, dónde, apl...</td>\n",
              "      <td>FILO</td>\n",
              "      <td>Noticias destacadas</td>\n",
              "    </tr>\n",
              "    <tr>\n",
              "      <th>152550</th>\n",
              "      <td>2019-08-09 15:09:59</td>\n",
              "      <td>[curiosidad, mata, gato, ,, indiscretos, cada,...</td>\n",
              "      <td>Tiempo de San Juan</td>\n",
              "      <td>Noticias destacadas</td>\n",
              "    </tr>\n",
              "  </tbody>\n",
              "</table>\n",
              "</div>\n",
              "    <div class=\"colab-df-buttons\">\n",
              "\n",
              "  <div class=\"colab-df-container\">\n",
              "    <button class=\"colab-df-convert\" onclick=\"convertToInteractive('df-6a525daa-c28e-4fc1-b43f-1e2f31d9a183')\"\n",
              "            title=\"Convert this dataframe to an interactive table.\"\n",
              "            style=\"display:none;\">\n",
              "\n",
              "  <svg xmlns=\"http://www.w3.org/2000/svg\" height=\"24px\" viewBox=\"0 -960 960 960\">\n",
              "    <path d=\"M120-120v-720h720v720H120Zm60-500h600v-160H180v160Zm220 220h160v-160H400v160Zm0 220h160v-160H400v160ZM180-400h160v-160H180v160Zm440 0h160v-160H620v160ZM180-180h160v-160H180v160Zm440 0h160v-160H620v160Z\"/>\n",
              "  </svg>\n",
              "    </button>\n",
              "\n",
              "  <style>\n",
              "    .colab-df-container {\n",
              "      display:flex;\n",
              "      gap: 12px;\n",
              "    }\n",
              "\n",
              "    .colab-df-convert {\n",
              "      background-color: #E8F0FE;\n",
              "      border: none;\n",
              "      border-radius: 50%;\n",
              "      cursor: pointer;\n",
              "      display: none;\n",
              "      fill: #1967D2;\n",
              "      height: 32px;\n",
              "      padding: 0 0 0 0;\n",
              "      width: 32px;\n",
              "    }\n",
              "\n",
              "    .colab-df-convert:hover {\n",
              "      background-color: #E2EBFA;\n",
              "      box-shadow: 0px 1px 2px rgba(60, 64, 67, 0.3), 0px 1px 3px 1px rgba(60, 64, 67, 0.15);\n",
              "      fill: #174EA6;\n",
              "    }\n",
              "\n",
              "    .colab-df-buttons div {\n",
              "      margin-bottom: 4px;\n",
              "    }\n",
              "\n",
              "    [theme=dark] .colab-df-convert {\n",
              "      background-color: #3B4455;\n",
              "      fill: #D2E3FC;\n",
              "    }\n",
              "\n",
              "    [theme=dark] .colab-df-convert:hover {\n",
              "      background-color: #434B5C;\n",
              "      box-shadow: 0px 1px 3px 1px rgba(0, 0, 0, 0.15);\n",
              "      filter: drop-shadow(0px 1px 2px rgba(0, 0, 0, 0.3));\n",
              "      fill: #FFFFFF;\n",
              "    }\n",
              "  </style>\n",
              "\n",
              "    <script>\n",
              "      const buttonEl =\n",
              "        document.querySelector('#df-6a525daa-c28e-4fc1-b43f-1e2f31d9a183 button.colab-df-convert');\n",
              "      buttonEl.style.display =\n",
              "        google.colab.kernel.accessAllowed ? 'block' : 'none';\n",
              "\n",
              "      async function convertToInteractive(key) {\n",
              "        const element = document.querySelector('#df-6a525daa-c28e-4fc1-b43f-1e2f31d9a183');\n",
              "        const dataTable =\n",
              "          await google.colab.kernel.invokeFunction('convertToInteractive',\n",
              "                                                    [key], {});\n",
              "        if (!dataTable) return;\n",
              "\n",
              "        const docLinkHtml = 'Like what you see? Visit the ' +\n",
              "          '<a target=\"_blank\" href=https://colab.research.google.com/notebooks/data_table.ipynb>data table notebook</a>'\n",
              "          + ' to learn more about interactive tables.';\n",
              "        element.innerHTML = '';\n",
              "        dataTable['output_type'] = 'display_data';\n",
              "        await google.colab.output.renderOutput(dataTable, element);\n",
              "        const docLink = document.createElement('div');\n",
              "        docLink.innerHTML = docLinkHtml;\n",
              "        element.appendChild(docLink);\n",
              "      }\n",
              "    </script>\n",
              "  </div>\n",
              "\n",
              "\n",
              "<div id=\"df-0890bbfe-3c86-4f4a-b1c4-f1ac08698dfe\">\n",
              "  <button class=\"colab-df-quickchart\" onclick=\"quickchart('df-0890bbfe-3c86-4f4a-b1c4-f1ac08698dfe')\"\n",
              "            title=\"Suggest charts.\"\n",
              "            style=\"display:none;\">\n",
              "\n",
              "<svg xmlns=\"http://www.w3.org/2000/svg\" height=\"24px\"viewBox=\"0 0 24 24\"\n",
              "     width=\"24px\">\n",
              "    <g>\n",
              "        <path d=\"M19 3H5c-1.1 0-2 .9-2 2v14c0 1.1.9 2 2 2h14c1.1 0 2-.9 2-2V5c0-1.1-.9-2-2-2zM9 17H7v-7h2v7zm4 0h-2V7h2v10zm4 0h-2v-4h2v4z\"/>\n",
              "    </g>\n",
              "</svg>\n",
              "  </button>\n",
              "\n",
              "<style>\n",
              "  .colab-df-quickchart {\n",
              "    background-color: #E8F0FE;\n",
              "    border: none;\n",
              "    border-radius: 50%;\n",
              "    cursor: pointer;\n",
              "    display: none;\n",
              "    fill: #1967D2;\n",
              "    height: 32px;\n",
              "    padding: 0 0 0 0;\n",
              "    width: 32px;\n",
              "  }\n",
              "\n",
              "  .colab-df-quickchart:hover {\n",
              "    background-color: #E2EBFA;\n",
              "    box-shadow: 0px 1px 2px rgba(60, 64, 67, 0.3), 0px 1px 3px 1px rgba(60, 64, 67, 0.15);\n",
              "    fill: #174EA6;\n",
              "  }\n",
              "\n",
              "  [theme=dark] .colab-df-quickchart {\n",
              "    background-color: #3B4455;\n",
              "    fill: #D2E3FC;\n",
              "  }\n",
              "\n",
              "  [theme=dark] .colab-df-quickchart:hover {\n",
              "    background-color: #434B5C;\n",
              "    box-shadow: 0px 1px 3px 1px rgba(0, 0, 0, 0.15);\n",
              "    filter: drop-shadow(0px 1px 2px rgba(0, 0, 0, 0.3));\n",
              "    fill: #FFFFFF;\n",
              "  }\n",
              "</style>\n",
              "\n",
              "  <script>\n",
              "    async function quickchart(key) {\n",
              "      const charts = await google.colab.kernel.invokeFunction(\n",
              "          'suggestCharts', [key], {});\n",
              "    }\n",
              "    (() => {\n",
              "      let quickchartButtonEl =\n",
              "        document.querySelector('#df-0890bbfe-3c86-4f4a-b1c4-f1ac08698dfe button');\n",
              "      quickchartButtonEl.style.display =\n",
              "        google.colab.kernel.accessAllowed ? 'block' : 'none';\n",
              "    })();\n",
              "  </script>\n",
              "</div>\n",
              "    </div>\n",
              "  </div>\n"
            ]
          },
          "metadata": {},
          "execution_count": 15
        }
      ]
    },
    {
      "cell_type": "markdown",
      "source": [
        "## One-Hot Encoding"
      ],
      "metadata": {
        "id": "nQCxh-xMrNLX"
      }
    },
    {
      "cell_type": "markdown",
      "source": [
        "Para empezar creamos un set con todas las palabras de nuestro vocabulario, evitando repetidos:"
      ],
      "metadata": {
        "id": "n4eQFxQQacr-"
      }
    },
    {
      "cell_type": "code",
      "source": [
        "vocab = set()\n",
        "for title in train_df['titular']:\n",
        "  vocab.update(title)\n",
        "vocab = list(vocab)\n",
        "\n",
        "print(f\"Vocab len: {len(vocab)}\")"
      ],
      "metadata": {
        "colab": {
          "base_uri": "https://localhost:8080/"
        },
        "id": "XbkZBvZmak5y",
        "outputId": "9d929752-1765-47cd-88eb-f7e4081d0081"
      },
      "execution_count": 16,
      "outputs": [
        {
          "output_type": "stream",
          "name": "stdout",
          "text": [
            "Vocab len: 7021\n"
          ]
        }
      ]
    },
    {
      "cell_type": "markdown",
      "source": [
        "Por último aplicamos One-Hot Encoding para representar a las palabras del set:"
      ],
      "metadata": {
        "id": "el4XKAofZ7eE"
      }
    },
    {
      "cell_type": "code",
      "source": [
        "def one_hot_encode(tokens):\n",
        "    encoding = np.zeros(len(vocab))\n",
        "    for word in tokens:\n",
        "        if word in vocab:\n",
        "            word_index = vocab.index(word)\n",
        "            encoding[word_index] = 1\n",
        "    return encoding"
      ],
      "metadata": {
        "id": "nhCc4atJZ0tQ"
      },
      "execution_count": 17,
      "outputs": []
    },
    {
      "cell_type": "code",
      "source": [
        "train_df['titular_onehot'] = train_df['titular'].apply(one_hot_encode)\n",
        "train_df.head()"
      ],
      "metadata": {
        "colab": {
          "base_uri": "https://localhost:8080/",
          "height": 293
        },
        "id": "eKReXAcwXyIa",
        "outputId": "f683dbf6-dc22-4968-c2f7-a62ba4d036a3"
      },
      "execution_count": 18,
      "outputs": [
        {
          "output_type": "execute_result",
          "data": {
            "text/plain": [
              "                     fecha                                            titular  \\\n",
              "53138  2019-02-24 10:39:00  [ricado, bochini, explicó, independiente, cayó...   \n",
              "4863   2018-12-15 08:29:00  [quinto, sábado, ,, perdió, fuerza, protesta, ...   \n",
              "101070 2018-11-28 17:00:05  [habló, amiga, acompañó, pier, fritzsche, luch...   \n",
              "60292  2019-01-09 17:22:22  [fiebre, amarilla, :, ¿, necesaria, dónde, apl...   \n",
              "152550 2019-08-09 15:09:59  [curiosidad, mata, gato, ,, indiscretos, cada,...   \n",
              "\n",
              "                     fuente            categoria  \\\n",
              "53138      El Intransigente  Noticias destacadas   \n",
              "4863             Ambito.com  Noticias destacadas   \n",
              "101070  La Voz del Interior      Entretenimiento   \n",
              "60292                  FILO  Noticias destacadas   \n",
              "152550   Tiempo de San Juan  Noticias destacadas   \n",
              "\n",
              "                                           titular_onehot  \n",
              "53138   [0.0, 0.0, 0.0, 0.0, 0.0, 0.0, 0.0, 0.0, 0.0, ...  \n",
              "4863    [0.0, 0.0, 0.0, 0.0, 0.0, 0.0, 0.0, 0.0, 0.0, ...  \n",
              "101070  [0.0, 0.0, 0.0, 0.0, 0.0, 0.0, 0.0, 0.0, 0.0, ...  \n",
              "60292   [0.0, 0.0, 0.0, 0.0, 0.0, 0.0, 0.0, 0.0, 0.0, ...  \n",
              "152550  [0.0, 0.0, 0.0, 0.0, 0.0, 0.0, 0.0, 0.0, 0.0, ...  "
            ],
            "text/html": [
              "\n",
              "  <div id=\"df-31e12eda-d12a-46c6-8bc6-ed43cdec58e6\" class=\"colab-df-container\">\n",
              "    <div>\n",
              "<style scoped>\n",
              "    .dataframe tbody tr th:only-of-type {\n",
              "        vertical-align: middle;\n",
              "    }\n",
              "\n",
              "    .dataframe tbody tr th {\n",
              "        vertical-align: top;\n",
              "    }\n",
              "\n",
              "    .dataframe thead th {\n",
              "        text-align: right;\n",
              "    }\n",
              "</style>\n",
              "<table border=\"1\" class=\"dataframe\">\n",
              "  <thead>\n",
              "    <tr style=\"text-align: right;\">\n",
              "      <th></th>\n",
              "      <th>fecha</th>\n",
              "      <th>titular</th>\n",
              "      <th>fuente</th>\n",
              "      <th>categoria</th>\n",
              "      <th>titular_onehot</th>\n",
              "    </tr>\n",
              "  </thead>\n",
              "  <tbody>\n",
              "    <tr>\n",
              "      <th>53138</th>\n",
              "      <td>2019-02-24 10:39:00</td>\n",
              "      <td>[ricado, bochini, explicó, independiente, cayó...</td>\n",
              "      <td>El Intransigente</td>\n",
              "      <td>Noticias destacadas</td>\n",
              "      <td>[0.0, 0.0, 0.0, 0.0, 0.0, 0.0, 0.0, 0.0, 0.0, ...</td>\n",
              "    </tr>\n",
              "    <tr>\n",
              "      <th>4863</th>\n",
              "      <td>2018-12-15 08:29:00</td>\n",
              "      <td>[quinto, sábado, ,, perdió, fuerza, protesta, ...</td>\n",
              "      <td>Ambito.com</td>\n",
              "      <td>Noticias destacadas</td>\n",
              "      <td>[0.0, 0.0, 0.0, 0.0, 0.0, 0.0, 0.0, 0.0, 0.0, ...</td>\n",
              "    </tr>\n",
              "    <tr>\n",
              "      <th>101070</th>\n",
              "      <td>2018-11-28 17:00:05</td>\n",
              "      <td>[habló, amiga, acompañó, pier, fritzsche, luch...</td>\n",
              "      <td>La Voz del Interior</td>\n",
              "      <td>Entretenimiento</td>\n",
              "      <td>[0.0, 0.0, 0.0, 0.0, 0.0, 0.0, 0.0, 0.0, 0.0, ...</td>\n",
              "    </tr>\n",
              "    <tr>\n",
              "      <th>60292</th>\n",
              "      <td>2019-01-09 17:22:22</td>\n",
              "      <td>[fiebre, amarilla, :, ¿, necesaria, dónde, apl...</td>\n",
              "      <td>FILO</td>\n",
              "      <td>Noticias destacadas</td>\n",
              "      <td>[0.0, 0.0, 0.0, 0.0, 0.0, 0.0, 0.0, 0.0, 0.0, ...</td>\n",
              "    </tr>\n",
              "    <tr>\n",
              "      <th>152550</th>\n",
              "      <td>2019-08-09 15:09:59</td>\n",
              "      <td>[curiosidad, mata, gato, ,, indiscretos, cada,...</td>\n",
              "      <td>Tiempo de San Juan</td>\n",
              "      <td>Noticias destacadas</td>\n",
              "      <td>[0.0, 0.0, 0.0, 0.0, 0.0, 0.0, 0.0, 0.0, 0.0, ...</td>\n",
              "    </tr>\n",
              "  </tbody>\n",
              "</table>\n",
              "</div>\n",
              "    <div class=\"colab-df-buttons\">\n",
              "\n",
              "  <div class=\"colab-df-container\">\n",
              "    <button class=\"colab-df-convert\" onclick=\"convertToInteractive('df-31e12eda-d12a-46c6-8bc6-ed43cdec58e6')\"\n",
              "            title=\"Convert this dataframe to an interactive table.\"\n",
              "            style=\"display:none;\">\n",
              "\n",
              "  <svg xmlns=\"http://www.w3.org/2000/svg\" height=\"24px\" viewBox=\"0 -960 960 960\">\n",
              "    <path d=\"M120-120v-720h720v720H120Zm60-500h600v-160H180v160Zm220 220h160v-160H400v160Zm0 220h160v-160H400v160ZM180-400h160v-160H180v160Zm440 0h160v-160H620v160ZM180-180h160v-160H180v160Zm440 0h160v-160H620v160Z\"/>\n",
              "  </svg>\n",
              "    </button>\n",
              "\n",
              "  <style>\n",
              "    .colab-df-container {\n",
              "      display:flex;\n",
              "      gap: 12px;\n",
              "    }\n",
              "\n",
              "    .colab-df-convert {\n",
              "      background-color: #E8F0FE;\n",
              "      border: none;\n",
              "      border-radius: 50%;\n",
              "      cursor: pointer;\n",
              "      display: none;\n",
              "      fill: #1967D2;\n",
              "      height: 32px;\n",
              "      padding: 0 0 0 0;\n",
              "      width: 32px;\n",
              "    }\n",
              "\n",
              "    .colab-df-convert:hover {\n",
              "      background-color: #E2EBFA;\n",
              "      box-shadow: 0px 1px 2px rgba(60, 64, 67, 0.3), 0px 1px 3px 1px rgba(60, 64, 67, 0.15);\n",
              "      fill: #174EA6;\n",
              "    }\n",
              "\n",
              "    .colab-df-buttons div {\n",
              "      margin-bottom: 4px;\n",
              "    }\n",
              "\n",
              "    [theme=dark] .colab-df-convert {\n",
              "      background-color: #3B4455;\n",
              "      fill: #D2E3FC;\n",
              "    }\n",
              "\n",
              "    [theme=dark] .colab-df-convert:hover {\n",
              "      background-color: #434B5C;\n",
              "      box-shadow: 0px 1px 3px 1px rgba(0, 0, 0, 0.15);\n",
              "      filter: drop-shadow(0px 1px 2px rgba(0, 0, 0, 0.3));\n",
              "      fill: #FFFFFF;\n",
              "    }\n",
              "  </style>\n",
              "\n",
              "    <script>\n",
              "      const buttonEl =\n",
              "        document.querySelector('#df-31e12eda-d12a-46c6-8bc6-ed43cdec58e6 button.colab-df-convert');\n",
              "      buttonEl.style.display =\n",
              "        google.colab.kernel.accessAllowed ? 'block' : 'none';\n",
              "\n",
              "      async function convertToInteractive(key) {\n",
              "        const element = document.querySelector('#df-31e12eda-d12a-46c6-8bc6-ed43cdec58e6');\n",
              "        const dataTable =\n",
              "          await google.colab.kernel.invokeFunction('convertToInteractive',\n",
              "                                                    [key], {});\n",
              "        if (!dataTable) return;\n",
              "\n",
              "        const docLinkHtml = 'Like what you see? Visit the ' +\n",
              "          '<a target=\"_blank\" href=https://colab.research.google.com/notebooks/data_table.ipynb>data table notebook</a>'\n",
              "          + ' to learn more about interactive tables.';\n",
              "        element.innerHTML = '';\n",
              "        dataTable['output_type'] = 'display_data';\n",
              "        await google.colab.output.renderOutput(dataTable, element);\n",
              "        const docLink = document.createElement('div');\n",
              "        docLink.innerHTML = docLinkHtml;\n",
              "        element.appendChild(docLink);\n",
              "      }\n",
              "    </script>\n",
              "  </div>\n",
              "\n",
              "\n",
              "<div id=\"df-db93bab5-07fd-4e77-b4b9-2167b65ef018\">\n",
              "  <button class=\"colab-df-quickchart\" onclick=\"quickchart('df-db93bab5-07fd-4e77-b4b9-2167b65ef018')\"\n",
              "            title=\"Suggest charts.\"\n",
              "            style=\"display:none;\">\n",
              "\n",
              "<svg xmlns=\"http://www.w3.org/2000/svg\" height=\"24px\"viewBox=\"0 0 24 24\"\n",
              "     width=\"24px\">\n",
              "    <g>\n",
              "        <path d=\"M19 3H5c-1.1 0-2 .9-2 2v14c0 1.1.9 2 2 2h14c1.1 0 2-.9 2-2V5c0-1.1-.9-2-2-2zM9 17H7v-7h2v7zm4 0h-2V7h2v10zm4 0h-2v-4h2v4z\"/>\n",
              "    </g>\n",
              "</svg>\n",
              "  </button>\n",
              "\n",
              "<style>\n",
              "  .colab-df-quickchart {\n",
              "    background-color: #E8F0FE;\n",
              "    border: none;\n",
              "    border-radius: 50%;\n",
              "    cursor: pointer;\n",
              "    display: none;\n",
              "    fill: #1967D2;\n",
              "    height: 32px;\n",
              "    padding: 0 0 0 0;\n",
              "    width: 32px;\n",
              "  }\n",
              "\n",
              "  .colab-df-quickchart:hover {\n",
              "    background-color: #E2EBFA;\n",
              "    box-shadow: 0px 1px 2px rgba(60, 64, 67, 0.3), 0px 1px 3px 1px rgba(60, 64, 67, 0.15);\n",
              "    fill: #174EA6;\n",
              "  }\n",
              "\n",
              "  [theme=dark] .colab-df-quickchart {\n",
              "    background-color: #3B4455;\n",
              "    fill: #D2E3FC;\n",
              "  }\n",
              "\n",
              "  [theme=dark] .colab-df-quickchart:hover {\n",
              "    background-color: #434B5C;\n",
              "    box-shadow: 0px 1px 3px 1px rgba(0, 0, 0, 0.15);\n",
              "    filter: drop-shadow(0px 1px 2px rgba(0, 0, 0, 0.3));\n",
              "    fill: #FFFFFF;\n",
              "  }\n",
              "</style>\n",
              "\n",
              "  <script>\n",
              "    async function quickchart(key) {\n",
              "      const charts = await google.colab.kernel.invokeFunction(\n",
              "          'suggestCharts', [key], {});\n",
              "    }\n",
              "    (() => {\n",
              "      let quickchartButtonEl =\n",
              "        document.querySelector('#df-db93bab5-07fd-4e77-b4b9-2167b65ef018 button');\n",
              "      quickchartButtonEl.style.display =\n",
              "        google.colab.kernel.accessAllowed ? 'block' : 'none';\n",
              "    })();\n",
              "  </script>\n",
              "</div>\n",
              "    </div>\n",
              "  </div>\n"
            ]
          },
          "metadata": {},
          "execution_count": 18
        }
      ]
    },
    {
      "cell_type": "markdown",
      "source": [
        "Si lo queremos como matriz:"
      ],
      "metadata": {
        "id": "W3QeSfs98shY"
      }
    },
    {
      "cell_type": "code",
      "source": [
        "characteristics = train_df['titular_onehot'].array\n",
        "characteristics_matrix = np.vstack(characteristics.to_numpy())\n",
        "characteristics_matrix.shape"
      ],
      "metadata": {
        "colab": {
          "base_uri": "https://localhost:8080/"
        },
        "id": "HsL4dDTx5vfP",
        "outputId": "7a007b0b-168e-4518-f86b-ae76ea365982"
      },
      "execution_count": 19,
      "outputs": [
        {
          "output_type": "execute_result",
          "data": {
            "text/plain": [
              "(2500, 7021)"
            ]
          },
          "metadata": {},
          "execution_count": 19
        }
      ]
    }
  ]
}