{
  "cells": [
    {
      "cell_type": "markdown",
      "metadata": {
        "id": "view-in-github",
        "colab_type": "text"
      },
      "source": [
        "<a href=\"https://colab.research.google.com/github/pdomins/bayesian-learning/blob/master/ej1_bayes_brits.ipynb\" target=\"_parent\"><img src=\"https://colab.research.google.com/assets/colab-badge.svg\" alt=\"Open In Colab\"/></a>"
      ]
    },
    {
      "cell_type": "code",
      "execution_count": 15,
      "metadata": {
        "id": "CGkEC5oNRpBq"
      },
      "outputs": [],
      "source": [
        "import pandas as pd"
      ]
    },
    {
      "cell_type": "code",
      "execution_count": 16,
      "metadata": {
        "colab": {
          "base_uri": "https://localhost:8080/",
          "height": 457
        },
        "id": "uRPWzToUR6Ad",
        "outputId": "623518d4-ee2f-4a7b-fa6f-40d5fa3e2336"
      },
      "outputs": [
        {
          "output_type": "execute_result",
          "data": {
            "text/plain": [
              "    scones  cerveza  wiskey  avena  futbol Nacionalidad\n",
              "0        0        0       1      1       1            I\n",
              "1        1        0       1      1       0            I\n",
              "2        1        1       0      0       1            I\n",
              "3        1        1       0      0       0            I\n",
              "4        0        1       0      0       1            I\n",
              "5        0        0       0      1       0            I\n",
              "6        1        0       0      1       1            E\n",
              "7        1        1       0      0       1            E\n",
              "8        1        1       1      1       0            E\n",
              "9        1        1       0      1       0            E\n",
              "10       1        1       0      1       1            E\n",
              "11       1        0       1      1       0            E\n",
              "12       1        0       1      0       0            E"
            ],
            "text/html": [
              "\n",
              "  <div id=\"df-f02a5d6c-3761-4f7f-af9f-909cf2f72b4d\" class=\"colab-df-container\">\n",
              "    <div>\n",
              "<style scoped>\n",
              "    .dataframe tbody tr th:only-of-type {\n",
              "        vertical-align: middle;\n",
              "    }\n",
              "\n",
              "    .dataframe tbody tr th {\n",
              "        vertical-align: top;\n",
              "    }\n",
              "\n",
              "    .dataframe thead th {\n",
              "        text-align: right;\n",
              "    }\n",
              "</style>\n",
              "<table border=\"1\" class=\"dataframe\">\n",
              "  <thead>\n",
              "    <tr style=\"text-align: right;\">\n",
              "      <th></th>\n",
              "      <th>scones</th>\n",
              "      <th>cerveza</th>\n",
              "      <th>wiskey</th>\n",
              "      <th>avena</th>\n",
              "      <th>futbol</th>\n",
              "      <th>Nacionalidad</th>\n",
              "    </tr>\n",
              "  </thead>\n",
              "  <tbody>\n",
              "    <tr>\n",
              "      <th>0</th>\n",
              "      <td>0</td>\n",
              "      <td>0</td>\n",
              "      <td>1</td>\n",
              "      <td>1</td>\n",
              "      <td>1</td>\n",
              "      <td>I</td>\n",
              "    </tr>\n",
              "    <tr>\n",
              "      <th>1</th>\n",
              "      <td>1</td>\n",
              "      <td>0</td>\n",
              "      <td>1</td>\n",
              "      <td>1</td>\n",
              "      <td>0</td>\n",
              "      <td>I</td>\n",
              "    </tr>\n",
              "    <tr>\n",
              "      <th>2</th>\n",
              "      <td>1</td>\n",
              "      <td>1</td>\n",
              "      <td>0</td>\n",
              "      <td>0</td>\n",
              "      <td>1</td>\n",
              "      <td>I</td>\n",
              "    </tr>\n",
              "    <tr>\n",
              "      <th>3</th>\n",
              "      <td>1</td>\n",
              "      <td>1</td>\n",
              "      <td>0</td>\n",
              "      <td>0</td>\n",
              "      <td>0</td>\n",
              "      <td>I</td>\n",
              "    </tr>\n",
              "    <tr>\n",
              "      <th>4</th>\n",
              "      <td>0</td>\n",
              "      <td>1</td>\n",
              "      <td>0</td>\n",
              "      <td>0</td>\n",
              "      <td>1</td>\n",
              "      <td>I</td>\n",
              "    </tr>\n",
              "    <tr>\n",
              "      <th>5</th>\n",
              "      <td>0</td>\n",
              "      <td>0</td>\n",
              "      <td>0</td>\n",
              "      <td>1</td>\n",
              "      <td>0</td>\n",
              "      <td>I</td>\n",
              "    </tr>\n",
              "    <tr>\n",
              "      <th>6</th>\n",
              "      <td>1</td>\n",
              "      <td>0</td>\n",
              "      <td>0</td>\n",
              "      <td>1</td>\n",
              "      <td>1</td>\n",
              "      <td>E</td>\n",
              "    </tr>\n",
              "    <tr>\n",
              "      <th>7</th>\n",
              "      <td>1</td>\n",
              "      <td>1</td>\n",
              "      <td>0</td>\n",
              "      <td>0</td>\n",
              "      <td>1</td>\n",
              "      <td>E</td>\n",
              "    </tr>\n",
              "    <tr>\n",
              "      <th>8</th>\n",
              "      <td>1</td>\n",
              "      <td>1</td>\n",
              "      <td>1</td>\n",
              "      <td>1</td>\n",
              "      <td>0</td>\n",
              "      <td>E</td>\n",
              "    </tr>\n",
              "    <tr>\n",
              "      <th>9</th>\n",
              "      <td>1</td>\n",
              "      <td>1</td>\n",
              "      <td>0</td>\n",
              "      <td>1</td>\n",
              "      <td>0</td>\n",
              "      <td>E</td>\n",
              "    </tr>\n",
              "    <tr>\n",
              "      <th>10</th>\n",
              "      <td>1</td>\n",
              "      <td>1</td>\n",
              "      <td>0</td>\n",
              "      <td>1</td>\n",
              "      <td>1</td>\n",
              "      <td>E</td>\n",
              "    </tr>\n",
              "    <tr>\n",
              "      <th>11</th>\n",
              "      <td>1</td>\n",
              "      <td>0</td>\n",
              "      <td>1</td>\n",
              "      <td>1</td>\n",
              "      <td>0</td>\n",
              "      <td>E</td>\n",
              "    </tr>\n",
              "    <tr>\n",
              "      <th>12</th>\n",
              "      <td>1</td>\n",
              "      <td>0</td>\n",
              "      <td>1</td>\n",
              "      <td>0</td>\n",
              "      <td>0</td>\n",
              "      <td>E</td>\n",
              "    </tr>\n",
              "  </tbody>\n",
              "</table>\n",
              "</div>\n",
              "    <div class=\"colab-df-buttons\">\n",
              "\n",
              "  <div class=\"colab-df-container\">\n",
              "    <button class=\"colab-df-convert\" onclick=\"convertToInteractive('df-f02a5d6c-3761-4f7f-af9f-909cf2f72b4d')\"\n",
              "            title=\"Convert this dataframe to an interactive table.\"\n",
              "            style=\"display:none;\">\n",
              "\n",
              "  <svg xmlns=\"http://www.w3.org/2000/svg\" height=\"24px\" viewBox=\"0 -960 960 960\">\n",
              "    <path d=\"M120-120v-720h720v720H120Zm60-500h600v-160H180v160Zm220 220h160v-160H400v160Zm0 220h160v-160H400v160ZM180-400h160v-160H180v160Zm440 0h160v-160H620v160ZM180-180h160v-160H180v160Zm440 0h160v-160H620v160Z\"/>\n",
              "  </svg>\n",
              "    </button>\n",
              "\n",
              "  <style>\n",
              "    .colab-df-container {\n",
              "      display:flex;\n",
              "      gap: 12px;\n",
              "    }\n",
              "\n",
              "    .colab-df-convert {\n",
              "      background-color: #E8F0FE;\n",
              "      border: none;\n",
              "      border-radius: 50%;\n",
              "      cursor: pointer;\n",
              "      display: none;\n",
              "      fill: #1967D2;\n",
              "      height: 32px;\n",
              "      padding: 0 0 0 0;\n",
              "      width: 32px;\n",
              "    }\n",
              "\n",
              "    .colab-df-convert:hover {\n",
              "      background-color: #E2EBFA;\n",
              "      box-shadow: 0px 1px 2px rgba(60, 64, 67, 0.3), 0px 1px 3px 1px rgba(60, 64, 67, 0.15);\n",
              "      fill: #174EA6;\n",
              "    }\n",
              "\n",
              "    .colab-df-buttons div {\n",
              "      margin-bottom: 4px;\n",
              "    }\n",
              "\n",
              "    [theme=dark] .colab-df-convert {\n",
              "      background-color: #3B4455;\n",
              "      fill: #D2E3FC;\n",
              "    }\n",
              "\n",
              "    [theme=dark] .colab-df-convert:hover {\n",
              "      background-color: #434B5C;\n",
              "      box-shadow: 0px 1px 3px 1px rgba(0, 0, 0, 0.15);\n",
              "      filter: drop-shadow(0px 1px 2px rgba(0, 0, 0, 0.3));\n",
              "      fill: #FFFFFF;\n",
              "    }\n",
              "  </style>\n",
              "\n",
              "    <script>\n",
              "      const buttonEl =\n",
              "        document.querySelector('#df-f02a5d6c-3761-4f7f-af9f-909cf2f72b4d button.colab-df-convert');\n",
              "      buttonEl.style.display =\n",
              "        google.colab.kernel.accessAllowed ? 'block' : 'none';\n",
              "\n",
              "      async function convertToInteractive(key) {\n",
              "        const element = document.querySelector('#df-f02a5d6c-3761-4f7f-af9f-909cf2f72b4d');\n",
              "        const dataTable =\n",
              "          await google.colab.kernel.invokeFunction('convertToInteractive',\n",
              "                                                    [key], {});\n",
              "        if (!dataTable) return;\n",
              "\n",
              "        const docLinkHtml = 'Like what you see? Visit the ' +\n",
              "          '<a target=\"_blank\" href=https://colab.research.google.com/notebooks/data_table.ipynb>data table notebook</a>'\n",
              "          + ' to learn more about interactive tables.';\n",
              "        element.innerHTML = '';\n",
              "        dataTable['output_type'] = 'display_data';\n",
              "        await google.colab.output.renderOutput(dataTable, element);\n",
              "        const docLink = document.createElement('div');\n",
              "        docLink.innerHTML = docLinkHtml;\n",
              "        element.appendChild(docLink);\n",
              "      }\n",
              "    </script>\n",
              "  </div>\n",
              "\n",
              "\n",
              "<div id=\"df-4598aea3-2bfd-4bb2-a5fc-be9019587b66\">\n",
              "  <button class=\"colab-df-quickchart\" onclick=\"quickchart('df-4598aea3-2bfd-4bb2-a5fc-be9019587b66')\"\n",
              "            title=\"Suggest charts.\"\n",
              "            style=\"display:none;\">\n",
              "\n",
              "<svg xmlns=\"http://www.w3.org/2000/svg\" height=\"24px\"viewBox=\"0 0 24 24\"\n",
              "     width=\"24px\">\n",
              "    <g>\n",
              "        <path d=\"M19 3H5c-1.1 0-2 .9-2 2v14c0 1.1.9 2 2 2h14c1.1 0 2-.9 2-2V5c0-1.1-.9-2-2-2zM9 17H7v-7h2v7zm4 0h-2V7h2v10zm4 0h-2v-4h2v4z\"/>\n",
              "    </g>\n",
              "</svg>\n",
              "  </button>\n",
              "\n",
              "<style>\n",
              "  .colab-df-quickchart {\n",
              "    background-color: #E8F0FE;\n",
              "    border: none;\n",
              "    border-radius: 50%;\n",
              "    cursor: pointer;\n",
              "    display: none;\n",
              "    fill: #1967D2;\n",
              "    height: 32px;\n",
              "    padding: 0 0 0 0;\n",
              "    width: 32px;\n",
              "  }\n",
              "\n",
              "  .colab-df-quickchart:hover {\n",
              "    background-color: #E2EBFA;\n",
              "    box-shadow: 0px 1px 2px rgba(60, 64, 67, 0.3), 0px 1px 3px 1px rgba(60, 64, 67, 0.15);\n",
              "    fill: #174EA6;\n",
              "  }\n",
              "\n",
              "  [theme=dark] .colab-df-quickchart {\n",
              "    background-color: #3B4455;\n",
              "    fill: #D2E3FC;\n",
              "  }\n",
              "\n",
              "  [theme=dark] .colab-df-quickchart:hover {\n",
              "    background-color: #434B5C;\n",
              "    box-shadow: 0px 1px 3px 1px rgba(0, 0, 0, 0.15);\n",
              "    filter: drop-shadow(0px 1px 2px rgba(0, 0, 0, 0.3));\n",
              "    fill: #FFFFFF;\n",
              "  }\n",
              "</style>\n",
              "\n",
              "  <script>\n",
              "    async function quickchart(key) {\n",
              "      const charts = await google.colab.kernel.invokeFunction(\n",
              "          'suggestCharts', [key], {});\n",
              "    }\n",
              "    (() => {\n",
              "      let quickchartButtonEl =\n",
              "        document.querySelector('#df-4598aea3-2bfd-4bb2-a5fc-be9019587b66 button');\n",
              "      quickchartButtonEl.style.display =\n",
              "        google.colab.kernel.accessAllowed ? 'block' : 'none';\n",
              "    })();\n",
              "  </script>\n",
              "</div>\n",
              "    </div>\n",
              "  </div>\n"
            ]
          },
          "metadata": {},
          "execution_count": 16
        }
      ],
      "source": [
        "df = pd.read_excel(\"2-PreferenciasBritanicos(TP1).xlsx\")\n",
        "df"
      ]
    },
    {
      "cell_type": "markdown",
      "metadata": {
        "id": "9GUBvrdBxZv5"
      },
      "source": [
        "### Generic Naive Bayes"
      ]
    },
    {
      "cell_type": "code",
      "execution_count": 17,
      "metadata": {
        "id": "WppgD_Z2xYQY"
      },
      "outputs": [],
      "source": [
        "def calculate_conditional_probs(df, attributes, out_label, laplace_smoothing=False):\n",
        "    conditional_probs = {}\n",
        "    for attribute in attributes:\n",
        "        conditional_probs[attribute] = {}\n",
        "        for characteristic in df[out_label].unique():\n",
        "            data_by_out_label = df[df[out_label] == characteristic]\n",
        "            if laplace_smoothing:\n",
        "                attr_count_by_characteristic = data_by_out_label[attribute].value_counts()\n",
        "                k = len(df[attribute].unique())\n",
        "                total_samples = len(data_by_out_label)\n",
        "                for value in df[attribute].unique():\n",
        "                    conditional_probs[attribute][(value, characteristic)] = (attr_count_by_characteristic.get(value, 0) + 1) / (total_samples + k)\n",
        "            else:\n",
        "                for value in df[attribute].unique():\n",
        "                    attr_count_by_characteristic = data_by_out_label[attribute].value_counts(normalize=True)\n",
        "                    conditional_probs[attribute][(value, characteristic)] = attr_count_by_characteristic.get(value, 0)\n",
        "\n",
        "    return conditional_probs\n",
        "\n",
        "def get_probabilities_multiplication(df, attributes, out_label, out_label_probs, output_df, conditional_probs):\n",
        "    probabilities = {}\n",
        "    for example_index, example_values in output_df.iterrows():\n",
        "        prob_dict = {}\n",
        "        for characteristic in df[out_label].unique():\n",
        "            prob = out_label_probs[characteristic]\n",
        "            for attribute in example_values.index:\n",
        "                value = example_values[attribute]\n",
        "                prob *= conditional_probs[attribute][(value, characteristic)]\n",
        "            prob_dict[characteristic] = prob\n",
        "        prob_dict['max'] = max(prob_dict, key=prob_dict.get)\n",
        "        probabilities[example_index] = prob_dict\n",
        "\n",
        "    return probabilities\n",
        "\n",
        "def get_prediction(df, output_df, laplace_smoothing=False):\n",
        "    attributes = df.columns.tolist()\n",
        "    out_label = attributes.pop()\n",
        "    out_label_probs = df[out_label].value_counts(normalize=True)\n",
        "    conditional_probs = calculate_conditional_probs(df, attributes, out_label, laplace_smoothing)\n",
        "    return get_probabilities_multiplication(df, attributes, out_label, out_label_probs, output_df, conditional_probs)"
      ]
    },
    {
      "cell_type": "code",
      "execution_count": 18,
      "metadata": {
        "colab": {
          "base_uri": "https://localhost:8080/"
        },
        "id": "lr-vDafQ7S_Q",
        "outputId": "ffb71be9-09db-49e3-99cf-d27787c1f028"
      },
      "outputs": [
        {
          "output_type": "stream",
          "name": "stdout",
          "text": [
            "Example 0: Predicted Nationality: E\n",
            "Example 1: Predicted Nationality: I\n"
          ]
        }
      ],
      "source": [
        "data = {\n",
        "    \"scones\":   [1, 0],\n",
        "    \"cerveza\":  [0, 1],\n",
        "    \"wiskey\":   [1, 1],\n",
        "    \"avena\":    [1, 0],\n",
        "    \"futbol\":   [0, 1]\n",
        "}\n",
        "\n",
        "output_df = pd.DataFrame(data)\n",
        "\n",
        "predictions = get_prediction(df, output_df, laplace_smoothing=True)\n",
        "\n",
        "for example_index, example_values in predictions.items():\n",
        "    print(\"Example {}: Predicted Nationality: {}\".format(example_index, example_values.get('max')))"
      ]
    },
    {
      "cell_type": "markdown",
      "metadata": {
        "id": "TW_RIoqywS9V"
      },
      "source": [
        "### Naive Bayes"
      ]
    },
    {
      "cell_type": "code",
      "execution_count": 19,
      "metadata": {
        "id": "I_4ELdjLyUfr"
      },
      "outputs": [],
      "source": [
        "nationality_probs = df[\"Nacionalidad\"].value_counts(normalize=True)\n",
        "tastes = [\"scones\", \"cerveza\", \"wiskey\", \"avena\", \"futbol\"]"
      ]
    },
    {
      "cell_type": "code",
      "execution_count": 20,
      "metadata": {
        "colab": {
          "base_uri": "https://localhost:8080/"
        },
        "id": "KNHdYur5dZIi",
        "outputId": "f5e77c74-d7ca-48fb-b281-69859f24d6ff"
      },
      "outputs": [
        {
          "output_type": "execute_result",
          "data": {
            "text/plain": [
              "{'scones': {(0, 'I'): 0.5, (1, 'I'): 0.5, (0, 'E'): 0, (1, 'E'): 1.0},\n",
              " 'cerveza': {(0, 'I'): 0.5,\n",
              "  (1, 'I'): 0.5,\n",
              "  (0, 'E'): 0.42857142857142855,\n",
              "  (1, 'E'): 0.5714285714285714},\n",
              " 'wiskey': {(1, 'I'): 0.3333333333333333,\n",
              "  (0, 'I'): 0.6666666666666666,\n",
              "  (1, 'E'): 0.42857142857142855,\n",
              "  (0, 'E'): 0.5714285714285714},\n",
              " 'avena': {(1, 'I'): 0.5,\n",
              "  (0, 'I'): 0.5,\n",
              "  (1, 'E'): 0.7142857142857143,\n",
              "  (0, 'E'): 0.2857142857142857},\n",
              " 'futbol': {(1, 'I'): 0.5,\n",
              "  (0, 'I'): 0.5,\n",
              "  (1, 'E'): 0.42857142857142855,\n",
              "  (0, 'E'): 0.5714285714285714}}"
            ]
          },
          "metadata": {},
          "execution_count": 20
        }
      ],
      "source": [
        "#NO LAPLACE SMOOTHING\n",
        "conditional_probs = {}\n",
        "\n",
        "for taste in tastes:\n",
        "  conditional_probs[taste] = {}\n",
        "  for nationality in df[\"Nacionalidad\"].unique():\n",
        "    data_by_nationality = df[df[\"Nacionalidad\"] == nationality]\n",
        "    tastes_amount_by_nationality = data_by_nationality[taste].value_counts(normalize=True)\n",
        "\n",
        "    for value in df[taste].unique():\n",
        "      conditional_probs[taste][(value, nationality)] = tastes_amount_by_nationality.get(value, 0)\n",
        "\n",
        "conditional_probs"
      ]
    },
    {
      "cell_type": "code",
      "execution_count": 21,
      "metadata": {
        "colab": {
          "base_uri": "https://localhost:8080/"
        },
        "id": "RYVpCSt-jw0v",
        "outputId": "713b9079-89ff-446f-dee5-7380245b99a5"
      },
      "outputs": [
        {
          "output_type": "execute_result",
          "data": {
            "text/plain": [
              "{'scones': {(0, 'I'): 0.5,\n",
              "  (1, 'I'): 0.5,\n",
              "  (0, 'E'): 0.1111111111111111,\n",
              "  (1, 'E'): 0.8888888888888888},\n",
              " 'cerveza': {(0, 'I'): 0.5,\n",
              "  (1, 'I'): 0.5,\n",
              "  (0, 'E'): 0.4444444444444444,\n",
              "  (1, 'E'): 0.5555555555555556},\n",
              " 'wiskey': {(1, 'I'): 0.375,\n",
              "  (0, 'I'): 0.625,\n",
              "  (1, 'E'): 0.4444444444444444,\n",
              "  (0, 'E'): 0.5555555555555556},\n",
              " 'avena': {(1, 'I'): 0.5,\n",
              "  (0, 'I'): 0.5,\n",
              "  (1, 'E'): 0.6666666666666666,\n",
              "  (0, 'E'): 0.3333333333333333},\n",
              " 'futbol': {(1, 'I'): 0.5,\n",
              "  (0, 'I'): 0.5,\n",
              "  (1, 'E'): 0.4444444444444444,\n",
              "  (0, 'E'): 0.5555555555555556}}"
            ]
          },
          "metadata": {},
          "execution_count": 21
        }
      ],
      "source": [
        "# LAPLACE SMOOTHING\n",
        "laplace_conditional_probs = {}\n",
        "\n",
        "for taste in tastes:\n",
        "  laplace_conditional_probs[taste] = {}\n",
        "  for nationality in df[\"Nacionalidad\"].unique():\n",
        "    data_by_nationality = df[df[\"Nacionalidad\"] == nationality]\n",
        "    tastes_amount_by_nationality = data_by_nationality[taste].value_counts()\n",
        "    total_samples = len(data_by_nationality[taste])\n",
        "    k = len(df[taste].unique())\n",
        "\n",
        "    for value in df[taste].unique():\n",
        "      laplace_conditional_probs[taste][(value, nationality)] = (tastes_amount_by_nationality.get(value, 0) + 1) / (total_samples + k)\n",
        "\n",
        "laplace_conditional_probs"
      ]
    },
    {
      "cell_type": "code",
      "execution_count": 30,
      "metadata": {
        "colab": {
          "base_uri": "https://localhost:8080/"
        },
        "id": "PWDn7AwMo4EQ",
        "outputId": "091a62c0-a5e4-4288-fd19-4a976583ab50"
      },
      "outputs": [
        {
          "output_type": "stream",
          "name": "stdout",
          "text": [
            "{'I': 0.010817307692307692, 'E': 0.03501655079158508}\n",
            "I 0.2360112818367491\n",
            "E 0.7639887181632509\n",
            "Predicted Nationality: E\n",
            "{'I': 0.010817307692307692, 'E': 0.0021885344244740672}\n",
            "I 0.8317268190077328\n",
            "E 0.1682731809922671\n",
            "Predicted Nationality: I\n"
          ]
        }
      ],
      "source": [
        "example1 = {\n",
        "    \"scones\": 1,\n",
        "    \"cerveza\":0,\n",
        "    \"wiskey\":1,\n",
        "    \"avena\":1,\n",
        "    \"futbol\":0\n",
        "}\n",
        "example2 = {\n",
        "    \"scones\": 0,\n",
        "    \"cerveza\": 1,\n",
        "    \"wiskey\": 1,\n",
        "    \"avena\": 0,\n",
        "    \"futbol\": 1\n",
        "}\n",
        "\n",
        "for ex in [example1, example2]:\n",
        "  probabilities = {}\n",
        "  for nationality in df[\"Nacionalidad\"].unique():\n",
        "      prob = nationality_probs[nationality]\n",
        "      for taste in tastes:\n",
        "        value = ex.get(taste)\n",
        "        # change laplace_conditional_probs to conditional_probs in order to get the probabilities without laplace smoothing\n",
        "        prob *= laplace_conditional_probs[taste][(value, nationality)]\n",
        "      probabilities[nationality] = prob\n",
        "\n",
        "  print(probabilities)\n",
        "  total_probs = sum(probabilities.values())\n",
        "  for key, value in probabilities.items():\n",
        "    print(f\"{key} {value/total_probs}\")\n",
        "  print(\"Predicted Nationality:\", max(probabilities, key=probabilities.get))"
      ]
    },
    {
      "cell_type": "markdown",
      "metadata": {
        "id": "zJin6okkZQhG"
      },
      "source": [
        "### Classification Error"
      ]
    },
    {
      "cell_type": "code",
      "execution_count": 23,
      "metadata": {
        "id": "CSeKbLuuZQhH"
      },
      "outputs": [],
      "source": [
        "def get_single_prediction(df, output_df : pd.Series, laplace_smoothing=False):\n",
        "    return get_prediction(df, output_df.to_frame().T, laplace_smoothing)"
      ]
    },
    {
      "cell_type": "code",
      "execution_count": 24,
      "metadata": {
        "id": "-pRRty56ZQhH"
      },
      "outputs": [],
      "source": [
        "def get_single_prediction_label(df, output_df : pd.Series, laplace_smoothing=False):\n",
        "    return list(get_single_prediction(df, output_df, laplace_smoothing).values())[0][\"max\"]"
      ]
    },
    {
      "cell_type": "code",
      "execution_count": 25,
      "metadata": {
        "id": "NyrQ1eA7ZQhH",
        "outputId": "cc9672ea-3578-4471-c2d0-f0d7935e2fc1",
        "colab": {
          "base_uri": "https://localhost:8080/",
          "height": 339
        }
      },
      "outputs": [
        {
          "output_type": "error",
          "ename": "ModuleNotFoundError",
          "evalue": "ignored",
          "traceback": [
            "\u001b[0;31m---------------------------------------------------------------------------\u001b[0m",
            "\u001b[0;31mModuleNotFoundError\u001b[0m                       Traceback (most recent call last)",
            "\u001b[0;32m<ipython-input-25-5b0ea5996467>\u001b[0m in \u001b[0;36m<cell line: 1>\u001b[0;34m()\u001b[0m\n\u001b[0;32m----> 1\u001b[0;31m \u001b[0;32mfrom\u001b[0m \u001b[0merror_functions\u001b[0m \u001b[0;32mimport\u001b[0m \u001b[0mcompute_classification_error\u001b[0m\u001b[0;34m\u001b[0m\u001b[0;34m\u001b[0m\u001b[0m\n\u001b[0m\u001b[1;32m      2\u001b[0m \u001b[0;32mfrom\u001b[0m \u001b[0mdf_utils\u001b[0m        \u001b[0;32mimport\u001b[0m \u001b[0mget_column_value_dict\u001b[0m\u001b[0;34m\u001b[0m\u001b[0;34m\u001b[0m\u001b[0m\n",
            "\u001b[0;31mModuleNotFoundError\u001b[0m: No module named 'error_functions'",
            "",
            "\u001b[0;31m---------------------------------------------------------------------------\u001b[0;32m\nNOTE: If your import is failing due to a missing package, you can\nmanually install dependencies using either !pip or !apt.\n\nTo view examples of installing some common dependencies, click the\n\"Open Examples\" button below.\n\u001b[0;31m---------------------------------------------------------------------------\u001b[0m\n"
          ],
          "errorDetails": {
            "actions": [
              {
                "action": "open_url",
                "actionText": "Open Examples",
                "url": "/notebooks/snippets/importing_libraries.ipynb"
              }
            ]
          }
        }
      ],
      "source": [
        "from error_functions import compute_classification_error\n",
        "from df_utils        import get_column_value_dict"
      ]
    },
    {
      "cell_type": "code",
      "execution_count": null,
      "metadata": {
        "id": "2inGf6NfZQhH"
      },
      "outputs": [],
      "source": [
        "train_df = df[[\"scones\", \"cerveza\", \"wiskey\", \"avena\", \"futbol\"]]\n",
        "train_df"
      ]
    },
    {
      "cell_type": "code",
      "execution_count": null,
      "metadata": {
        "id": "7AJU32S8ZQhH"
      },
      "outputs": [],
      "source": [
        "train_df_label_dict = get_column_value_dict(df, \"Nacionalidad\")"
      ]
    },
    {
      "cell_type": "code",
      "execution_count": null,
      "metadata": {
        "id": "sb0u4evSZQhH"
      },
      "outputs": [],
      "source": [
        "compute_classification_error(train_df, train_df_label_dict, lambda s : get_single_prediction_label(df, s))"
      ]
    },
    {
      "cell_type": "markdown",
      "metadata": {
        "id": "RDTUB1-vZQhH"
      },
      "source": [
        "### Cross Validation"
      ]
    },
    {
      "cell_type": "code",
      "execution_count": null,
      "metadata": {
        "id": "XyGdRrsRZQhH"
      },
      "outputs": [],
      "source": [
        "from error_functions import k_fold_cross_validation"
      ]
    },
    {
      "cell_type": "code",
      "execution_count": null,
      "metadata": {
        "id": "VYDR835EZQhH"
      },
      "outputs": [],
      "source": [
        "k_splits = k_fold_cross_validation(df, \"Nacionalidad\", lambda s : get_single_prediction_label(df, s), 3)"
      ]
    },
    {
      "cell_type": "code",
      "execution_count": null,
      "metadata": {
        "id": "fM0qC_8nZQhH"
      },
      "outputs": [],
      "source": [
        "i = 1\n",
        "for k_split in k_splits:\n",
        "    print(\"Split #{}\".format(i))\n",
        "    train = k_split[\"train\"]\n",
        "    test  = k_split[\"test\"]\n",
        "    display(train[\"df\"])\n",
        "    print(\"Train error:\", train[\"err\"])\n",
        "    display(test[\"df\"])\n",
        "    print(\"Test error:\", test[\"err\"])\n",
        "    print(\"\\n------------------------------------------------\\n\")\n",
        "    i += 1"
      ]
    }
  ],
  "metadata": {
    "colab": {
      "provenance": [],
      "include_colab_link": true
    },
    "kernelspec": {
      "display_name": "Python 3",
      "name": "python3"
    },
    "language_info": {
      "codemirror_mode": {
        "name": "ipython",
        "version": 3
      },
      "file_extension": ".py",
      "mimetype": "text/x-python",
      "name": "python",
      "nbconvert_exporter": "python",
      "pygments_lexer": "ipython3",
      "version": "3.10.12"
    }
  },
  "nbformat": 4,
  "nbformat_minor": 0
}