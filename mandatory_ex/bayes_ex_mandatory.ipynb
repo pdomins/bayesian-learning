{
  "nbformat": 4,
  "nbformat_minor": 0,
  "metadata": {
    "colab": {
      "provenance": [],
      "authorship_tag": "ABX9TyOtNkn/xGvBvSvoQB/lJHQg",
      "include_colab_link": true
    },
    "kernelspec": {
      "name": "python3",
      "display_name": "Python 3"
    },
    "language_info": {
      "name": "python"
    }
  },
  "cells": [
    {
      "cell_type": "markdown",
      "metadata": {
        "id": "view-in-github",
        "colab_type": "text"
      },
      "source": [
        "<a href=\"https://colab.research.google.com/github/pdomins/bayesian-learning/blob/master/mandatory_ex/bayes_ex_mandatory.ipynb\" target=\"_parent\"><img src=\"https://colab.research.google.com/assets/colab-badge.svg\" alt=\"Open In Colab\"/></a>"
      ]
    },
    {
      "cell_type": "code",
      "execution_count": 42,
      "metadata": {
        "id": "j6aVfbFlBO2s"
      },
      "outputs": [],
      "source": [
        "import pandas as pd"
      ]
    },
    {
      "cell_type": "code",
      "source": [
        "data = {\n",
        "    'A': [0.95, 0.03],\n",
        "    'B': [0.05, 0.82],\n",
        "    'C': [0.02, 0.34],\n",
        "    'D': [0.20, 0.92],\n",
        "    'Grupo': ['Estudiante', 'Graduado'],\n",
        "\n",
        "}\n",
        "\n",
        "df = pd.DataFrame(data)\n",
        "print(df)"
      ],
      "metadata": {
        "colab": {
          "base_uri": "https://localhost:8080/"
        },
        "id": "llpDAoqIBefw",
        "outputId": "0002f328-0987-4db9-af83-5cd3cc1140c7"
      },
      "execution_count": 43,
      "outputs": [
        {
          "output_type": "stream",
          "name": "stdout",
          "text": [
            "      A     B     C     D       Grupo\n",
            "0  0.95  0.05  0.02  0.20  Estudiante\n",
            "1  0.03  0.82  0.34  0.92    Graduado\n"
          ]
        }
      ]
    },
    {
      "cell_type": "code",
      "source": [
        "conditional_probs = {}\n",
        "\n",
        "attributes = df.columns.tolist()\n",
        "out_label = attributes.pop()\n",
        "out_label_probs = pd.Series([0.9, 0.1], index=['Graduado', 'Estudiante'])\n",
        "\n",
        "for attribute in attributes:\n",
        "    attribute_dict = {}\n",
        "    for group in df[out_label].unique():\n",
        "        value = df[df[out_label] == group][attribute].iloc[0]\n",
        "        attribute_dict[(1, group)] = value\n",
        "        attribute_dict[(0, group)] = 1 - value\n",
        "    conditional_probs[attribute] = attribute_dict\n",
        "\n",
        "print(conditional_probs)"
      ],
      "metadata": {
        "colab": {
          "base_uri": "https://localhost:8080/"
        },
        "id": "hwv4lPOvBep6",
        "outputId": "f9f3c37c-7981-48b6-c07c-db8209f87b6a"
      },
      "execution_count": 44,
      "outputs": [
        {
          "output_type": "stream",
          "name": "stdout",
          "text": [
            "{'A': {(1, 'Estudiante'): 0.95, (0, 'Estudiante'): 0.050000000000000044, (1, 'Graduado'): 0.03, (0, 'Graduado'): 0.97}, 'B': {(1, 'Estudiante'): 0.05, (0, 'Estudiante'): 0.95, (1, 'Graduado'): 0.82, (0, 'Graduado'): 0.18000000000000005}, 'C': {(1, 'Estudiante'): 0.02, (0, 'Estudiante'): 0.98, (1, 'Graduado'): 0.34, (0, 'Graduado'): 0.6599999999999999}, 'D': {(1, 'Estudiante'): 0.2, (0, 'Estudiante'): 0.8, (1, 'Graduado'): 0.92, (0, 'Graduado'): 0.07999999999999996}}\n"
          ]
        }
      ]
    },
    {
      "cell_type": "code",
      "source": [
        "ex = {\n",
        "    'A': 1,\n",
        "    'B': 0,\n",
        "    'C': 1,\n",
        "    'D': 0\n",
        "}\n",
        "\n",
        "probabilities = {}\n",
        "for group in df[out_label].unique():\n",
        "    prob = out_label_probs[group]\n",
        "    for attribute in attributes:\n",
        "      value = ex.get(attribute)\n",
        "      prob *= conditional_probs[attribute][(value, group)]\n",
        "      # print(f\"La probabilidad que al {group} {'le guste' if value == 1 else 'no le guste'} la radio {attribute} es de: {conditional_probs[attribute][(value, group)]}\")\n",
        "    probabilities[group] = prob\n",
        "\n",
        "total_probs = sum(probabilities.values())"
      ],
      "metadata": {
        "id": "UcHPsT2MFhMP"
      },
      "execution_count": 48,
      "outputs": []
    },
    {
      "cell_type": "code",
      "source": [
        "total = 0\n",
        "for group, prob in probabilities.items():\n",
        "    print(\"La probabilidad que sea \" + group + \" es de \" + str(prob / total_probs))\n",
        "    total += prob/total_probs\n",
        "print(\"\\nProbabilidad total: \"+str(total))"
      ],
      "metadata": {
        "colab": {
          "base_uri": "https://localhost:8080/"
        },
        "id": "jMvuqP2SK6z4",
        "outputId": "3aa6c904-82a4-4449-a1f8-12b5becf0f96"
      },
      "execution_count": 53,
      "outputs": [
        {
          "output_type": "stream",
          "name": "stdout",
          "text": [
            "La probabilidad que sea Estudiante es de 0.9161320448270261\n",
            "La probabilidad que sea Graduado es de 0.08386795517297385\n",
            "\n",
            "Probabilidad total: 1.0\n"
          ]
        }
      ]
    }
  ]
}